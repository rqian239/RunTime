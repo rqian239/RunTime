{
 "cells": [
  {
   "cell_type": "markdown",
   "id": "b3c79578",
   "metadata": {},
   "source": [
    "# NBA_API Sandbox Notebook\n",
    "\n",
    "This notebook is intended to experiment with nba_api's features."
   ]
  },
  {
   "cell_type": "code",
   "execution_count": 1,
   "id": "e06ac960",
   "metadata": {},
   "outputs": [],
   "source": [
    "from nba_api.stats.static import players"
   ]
  },
  {
   "cell_type": "code",
   "execution_count": 10,
   "id": "8fb92b68",
   "metadata": {},
   "outputs": [
    {
     "data": {
      "text/plain": [
       "[{'id': 1630567,\n",
       "  'full_name': 'Scottie Barnes',\n",
       "  'first_name': 'Scottie',\n",
       "  'last_name': 'Barnes',\n",
       "  'is_active': True}]"
      ]
     },
     "execution_count": 10,
     "metadata": {},
     "output_type": "execute_result"
    }
   ],
   "source": [
    "# Find players by full name.\n",
    "players.find_players_by_full_name('scottie barnes')"
   ]
  },
  {
   "cell_type": "code",
   "execution_count": null,
   "id": "78fc41fe",
   "metadata": {},
   "outputs": [],
   "source": []
  }
 ],
 "metadata": {
  "kernelspec": {
   "display_name": "Python 3 (ipykernel)",
   "language": "python",
   "name": "python3"
  },
  "language_info": {
   "codemirror_mode": {
    "name": "ipython",
    "version": 3
   },
   "file_extension": ".py",
   "mimetype": "text/x-python",
   "name": "python",
   "nbconvert_exporter": "python",
   "pygments_lexer": "ipython3",
   "version": "3.10.4"
  }
 },
 "nbformat": 4,
 "nbformat_minor": 5
}
