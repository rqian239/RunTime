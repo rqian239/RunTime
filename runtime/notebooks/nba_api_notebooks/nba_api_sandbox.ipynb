{
 "cells": [
  {
   "cell_type": "markdown",
   "id": "6ddada72",
   "metadata": {},
   "source": [
    "# NBA_API Sandbox Notebook\n",
    "\n",
    "This notebook is intended to experiment with nba_api's features."
   ]
  },
  {
   "cell_type": "code",
   "execution_count": 16,
   "id": "da3851d9",
   "metadata": {},
   "outputs": [],
   "source": [
    "from nba_api.stats.static import players\n",
    "from nba_api.stats.endpoints import commonplayerinfo"
   ]
  },
  {
   "cell_type": "markdown",
   "id": "a68bc496",
   "metadata": {},
   "source": [
    "Static does not make any HTTP requests and are pulled from the package."
   ]
  },
  {
   "cell_type": "code",
   "execution_count": 13,
   "id": "fdfcf642",
   "metadata": {},
   "outputs": [
    {
     "name": "stdout",
     "output_type": "stream",
     "text": [
      "<class 'dict'>\n"
     ]
    },
    {
     "data": {
      "text/plain": [
       "[{'id': 1630567,\n",
       "  'full_name': 'Scottie Barnes',\n",
       "  'first_name': 'Scottie',\n",
       "  'last_name': 'Barnes',\n",
       "  'is_active': True}]"
      ]
     },
     "execution_count": 13,
     "metadata": {},
     "output_type": "execute_result"
    }
   ],
   "source": [
    "# Find players by full name (static)\n",
    "scottie_barnes_profile = players.find_players_by_full_name('scottie barnes')\n",
    "\n",
    "print(type(scottie_barnes_profile[0]))\n",
    "\n",
    "# Print out Scottie Barnes info\n",
    "scottie_barnes_profile"
   ]
  },
  {
   "cell_type": "code",
   "execution_count": 28,
   "id": "acad3d47",
   "metadata": {},
   "outputs": [
    {
     "data": {
      "text/plain": [
       "1630567"
      ]
     },
     "execution_count": 28,
     "metadata": {},
     "output_type": "execute_result"
    }
   ],
   "source": [
    "scottie_barnes_id = scottie_barnes_profile[0].get('id')\n",
    "scottie_barnes_id"
   ]
  },
  {
   "cell_type": "code",
   "execution_count": 29,
   "id": "9b030263",
   "metadata": {},
   "outputs": [
    {
     "name": "stdout",
     "output_type": "stream",
     "text": [
      "<class 'nba_api.stats.endpoints.commonplayerinfo.CommonPlayerInfo'>\n"
     ]
    }
   ],
   "source": [
    "scottie_barnes_info = commonplayerinfo.CommonPlayerInfo(player_id=scottie_barnes_id)\n",
    "print(type(scottie_barnes_info))"
   ]
  },
  {
   "cell_type": "code",
   "execution_count": 26,
   "id": "8dc0a73c",
   "metadata": {},
   "outputs": [
    {
     "data": {
      "text/html": [
       "<div>\n",
       "<style scoped>\n",
       "    .dataframe tbody tr th:only-of-type {\n",
       "        vertical-align: middle;\n",
       "    }\n",
       "\n",
       "    .dataframe tbody tr th {\n",
       "        vertical-align: top;\n",
       "    }\n",
       "\n",
       "    .dataframe thead th {\n",
       "        text-align: right;\n",
       "    }\n",
       "</style>\n",
       "<table border=\"1\" class=\"dataframe\">\n",
       "  <thead>\n",
       "    <tr style=\"text-align: right;\">\n",
       "      <th></th>\n",
       "      <th>SEASON_ID</th>\n",
       "    </tr>\n",
       "  </thead>\n",
       "  <tbody>\n",
       "    <tr>\n",
       "      <th>0</th>\n",
       "      <td>12021</td>\n",
       "    </tr>\n",
       "    <tr>\n",
       "      <th>1</th>\n",
       "      <td>22021</td>\n",
       "    </tr>\n",
       "    <tr>\n",
       "      <th>2</th>\n",
       "      <td>42021</td>\n",
       "    </tr>\n",
       "    <tr>\n",
       "      <th>3</th>\n",
       "      <td>12022</td>\n",
       "    </tr>\n",
       "    <tr>\n",
       "      <th>4</th>\n",
       "      <td>22022</td>\n",
       "    </tr>\n",
       "    <tr>\n",
       "      <th>5</th>\n",
       "      <td>52022</td>\n",
       "    </tr>\n",
       "    <tr>\n",
       "      <th>6</th>\n",
       "      <td>12023</td>\n",
       "    </tr>\n",
       "    <tr>\n",
       "      <th>7</th>\n",
       "      <td>22023</td>\n",
       "    </tr>\n",
       "    <tr>\n",
       "      <th>8</th>\n",
       "      <td>32023</td>\n",
       "    </tr>\n",
       "  </tbody>\n",
       "</table>\n",
       "</div>"
      ],
      "text/plain": [
       "  SEASON_ID\n",
       "0     12021\n",
       "1     22021\n",
       "2     42021\n",
       "3     12022\n",
       "4     22022\n",
       "5     52022\n",
       "6     12023\n",
       "7     22023\n",
       "8     32023"
      ]
     },
     "execution_count": 26,
     "metadata": {},
     "output_type": "execute_result"
    }
   ],
   "source": [
    "scottie_barnes_info.available_seasons.get_data_frame()"
   ]
  },
  {
   "cell_type": "code",
   "execution_count": 27,
   "id": "d79bf7b2",
   "metadata": {},
   "outputs": [
    {
     "data": {
      "text/plain": [
       "{'resource': 'commonplayerinfo',\n",
       " 'parameters': [{'PlayerID': 1630567}, {'LeagueID': None}],\n",
       " 'resultSets': [{'name': 'CommonPlayerInfo',\n",
       "   'headers': ['PERSON_ID',\n",
       "    'FIRST_NAME',\n",
       "    'LAST_NAME',\n",
       "    'DISPLAY_FIRST_LAST',\n",
       "    'DISPLAY_LAST_COMMA_FIRST',\n",
       "    'DISPLAY_FI_LAST',\n",
       "    'PLAYER_SLUG',\n",
       "    'BIRTHDATE',\n",
       "    'SCHOOL',\n",
       "    'COUNTRY',\n",
       "    'LAST_AFFILIATION',\n",
       "    'HEIGHT',\n",
       "    'WEIGHT',\n",
       "    'SEASON_EXP',\n",
       "    'JERSEY',\n",
       "    'POSITION',\n",
       "    'ROSTERSTATUS',\n",
       "    'GAMES_PLAYED_CURRENT_SEASON_FLAG',\n",
       "    'TEAM_ID',\n",
       "    'TEAM_NAME',\n",
       "    'TEAM_ABBREVIATION',\n",
       "    'TEAM_CODE',\n",
       "    'TEAM_CITY',\n",
       "    'PLAYERCODE',\n",
       "    'FROM_YEAR',\n",
       "    'TO_YEAR',\n",
       "    'DLEAGUE_FLAG',\n",
       "    'NBA_FLAG',\n",
       "    'GAMES_PLAYED_FLAG',\n",
       "    'DRAFT_YEAR',\n",
       "    'DRAFT_ROUND',\n",
       "    'DRAFT_NUMBER',\n",
       "    'GREATEST_75_FLAG'],\n",
       "   'rowSet': [[1630567,\n",
       "     'Scottie',\n",
       "     'Barnes',\n",
       "     'Scottie Barnes',\n",
       "     'Barnes, Scottie',\n",
       "     'S. Barnes',\n",
       "     'scottie-barnes',\n",
       "     '2001-08-01T00:00:00',\n",
       "     'Florida State',\n",
       "     'USA',\n",
       "     'Florida State/USA',\n",
       "     '6-7',\n",
       "     '237',\n",
       "     2,\n",
       "     '4',\n",
       "     'Forward-Guard',\n",
       "     'Active',\n",
       "     'Y',\n",
       "     1610612761,\n",
       "     'Raptors',\n",
       "     'TOR',\n",
       "     'raptors',\n",
       "     'Toronto',\n",
       "     'scottie_barnes',\n",
       "     2021,\n",
       "     2023,\n",
       "     'N',\n",
       "     'Y',\n",
       "     'Y',\n",
       "     '2021',\n",
       "     '1',\n",
       "     '4',\n",
       "     'N']]},\n",
       "  {'name': 'PlayerHeadlineStats',\n",
       "   'headers': ['PLAYER_ID',\n",
       "    'PLAYER_NAME',\n",
       "    'TimeFrame',\n",
       "    'PTS',\n",
       "    'AST',\n",
       "    'REB',\n",
       "    'PIE'],\n",
       "   'rowSet': [[1630567, 'Scottie Barnes', '2023-24', 19.9, 6.1, 8.2, 0.132]]},\n",
       "  {'name': 'AvailableSeasons',\n",
       "   'headers': ['SEASON_ID'],\n",
       "   'rowSet': [['12021'],\n",
       "    ['22021'],\n",
       "    ['42021'],\n",
       "    ['12022'],\n",
       "    ['22022'],\n",
       "    ['52022'],\n",
       "    ['12023'],\n",
       "    ['22023'],\n",
       "    ['32023']]}]}"
      ]
     },
     "execution_count": 27,
     "metadata": {},
     "output_type": "execute_result"
    }
   ],
   "source": [
    "scottie_barnes_info.get_dict()"
   ]
  },
  {
   "cell_type": "code",
   "execution_count": null,
   "id": "a98dfab9",
   "metadata": {},
   "outputs": [],
   "source": []
  }
 ],
 "metadata": {
  "kernelspec": {
   "display_name": "Python 3 (ipykernel)",
   "language": "python",
   "name": "python3"
  },
  "language_info": {
   "codemirror_mode": {
    "name": "ipython",
    "version": 3
   },
   "file_extension": ".py",
   "mimetype": "text/x-python",
   "name": "python",
   "nbconvert_exporter": "python",
   "pygments_lexer": "ipython3",
   "version": "3.10.4"
  }
 },
 "nbformat": 4,
 "nbformat_minor": 5
}
