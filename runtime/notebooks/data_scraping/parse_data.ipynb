{
 "cells": [
  {
   "cell_type": "markdown",
   "id": "0d1f1612",
   "metadata": {},
   "source": [
    "# Parse Team Data\n",
    "\n",
    "This notebook parses the scraped box scores (html files) and extracts the team statistics, which are summarizes as an entry in a pandas dataframe. This dataframe serves as the raw dataset for all team statistics from our scraped data.\n",
    "\n",
    "The df is exported as a csv file"
   ]
  },
  {
   "cell_type": "code",
   "outputs": [],
   "source": [
    "import os\n",
    "import pandas as pd\n",
    "from io import StringIO\n",
    "import chardet\n",
    "from bs4 import BeautifulSoup\n",
    "\n",
    "SCORE_DIR = \"data2/scores\""
   ],
   "metadata": {
    "collapsed": false
   },
   "id": "77ac9636a630cb6a"
  },
  {
   "cell_type": "code",
   "outputs": [],
   "source": [
    "box_scores = os.listdir(SCORE_DIR)\n",
    "box_scores = [os.path.join(SCORE_DIR, f) for f in box_scores if f.endswith(\".html\")]"
   ],
   "metadata": {
    "collapsed": false
   },
   "id": "9f55ae7392cf5e86"
  },
  {
   "cell_type": "code",
   "outputs": [],
   "source": [
    "len(box_scores)"
   ],
   "metadata": {
    "collapsed": false
   },
   "id": "503ef252fce9d79b"
  },
  {
   "cell_type": "code",
   "outputs": [],
   "source": [
    "def parse_html(box_score):\n",
    "    with open(box_score, \"rb\") as f:\n",
    "        try:\n",
    "            r_data = f.read()\n",
    "            encoding = chardet.detect(r_data)[\"encoding\"]\n",
    "            html = r_data.decode(encoding)\n",
    "        except Exception as e:\n",
    "            print(f\"html with this title: {box_score.title()} is probably empty....\", e)\n",
    "            return 0\n",
    "            \n",
    "    soup = BeautifulSoup(html, \"lxml\")\n",
    "    [s.decompose() for s in soup.select(\"tr.over_header\")]\n",
    "    [s.decompose() for s in soup.select(\"tr.thead\")]\n",
    "    return soup"
   ],
   "metadata": {
    "collapsed": false
   },
   "id": "a8dd32a0a05abe44"
  },
  {
   "cell_type": "code",
   "outputs": [],
   "source": [
    "def read_season_info(soup):\n",
    "    nav = soup.select(\"#bottom_nav_container\")[0]\n",
    "    hrefs = [a[\"href\"] for a in nav.find_all('a')]\n",
    "    season = os.path.basename(hrefs[1]).split(\"_\")[0]\n",
    "    return season"
   ],
   "metadata": {
    "collapsed": false
   },
   "id": "617415bac202ecda"
  },
  {
   "cell_type": "code",
   "outputs": [],
   "source": [
    "def read_line_score(soup):\n",
    "    line_score = pd.read_html(StringIO(str(soup)), attrs = {'id': 'line_score'})[0]\n",
    "    cols = list(line_score.columns)\n",
    "    cols[0] = \"team\"\n",
    "    cols[-1] = \"total\"\n",
    "    line_score.columns = cols\n",
    "    \n",
    "    line_score = line_score[[\"team\", \"total\"]]\n",
    "    \n",
    "    return line_score"
   ],
   "metadata": {
    "collapsed": false
   },
   "id": "a44037a04e2a7069"
  },
  {
   "cell_type": "code",
   "outputs": [],
   "source": [
    "def read_stats(soup, team, stat):\n",
    "    df = pd.read_html(StringIO(str(soup)), attrs = {'id': f'box-{team}-game-{stat}'}, index_col=0)[0]\n",
    "    df = df.apply(pd.to_numeric, errors=\"coerce\")\n",
    "    return df"
   ],
   "metadata": {
    "collapsed": false
   },
   "id": "778a01309618ba3a"
  },
  {
   "cell_type": "code",
   "outputs": [],
   "source": [
    "games = []\n",
    "base_cols = None\n",
    "for box_score in box_scores:\n",
    "    soup = parse_html(box_score)\n",
    "    #indicates theres an html that has nothing, probably need to add something to delete that code...\n",
    "    if soup == 0:\n",
    "        continue\n",
    "    line_score = read_line_score(soup)\n",
    "    teams = list(line_score[\"team\"])\n",
    "\n",
    "    summaries = []\n",
    "    for team in teams:\n",
    "        basic = read_stats(soup, team, \"basic\")\n",
    "        advanced = read_stats(soup, team, \"advanced\")\n",
    "\n",
    "        totals = pd.concat([basic.iloc[-1,:], advanced.iloc[-1,:]])\n",
    "        totals.index = totals.index.str.lower()\n",
    "\n",
    "        maxes = pd.concat([basic.iloc[:-1].max(), advanced.iloc[:-1].max()])\n",
    "        maxes.index = maxes.index.str.lower() + \"_max\"\n",
    "\n",
    "        summary = pd.concat([totals, maxes])\n",
    "        \n",
    "        if base_cols is None:\n",
    "            base_cols = list(summary.index.drop_duplicates(keep=\"first\"))\n",
    "            base_cols = [b for b in base_cols if \"bpm\" not in b]\n",
    "        \n",
    "        summary = summary[base_cols] \n",
    "        \n",
    "        summaries.append(summary)\n",
    "    summary = pd.concat(summaries, axis=1).T\n",
    "\n",
    "    game = pd.concat([summary, line_score], axis=1)\n",
    "\n",
    "    game[\"home\"] = [0,1]\n",
    "\n",
    "    game_opp = game.iloc[::-1].reset_index()\n",
    "    game_opp.columns += \"_opp\"\n",
    "\n",
    "    full_game = pd.concat([game, game_opp], axis=1)\n",
    "    full_game[\"season\"] = read_season_info(soup)\n",
    "    \n",
    "    full_game[\"date\"] = os.path.basename(box_score)[:8]\n",
    "    full_game[\"date\"] = pd.to_datetime(full_game[\"date\"], format=\"%Y%m%d\")\n",
    "    \n",
    "    full_game[\"won\"] = full_game[\"total\"] > full_game[\"total_opp\"]\n",
    "    games.append(full_game)\n",
    "    \n",
    "    if len(games) % 100 == 0:\n",
    "        print(f\"{len(games)} / {len(box_scores)}\")"
   ],
   "metadata": {
    "collapsed": false
   },
   "id": "b16b33cb6dc1b4f9"
  },
  {
   "cell_type": "code",
   "outputs": [],
   "source": [
    "games_df = pd.concat(games, ignore_index=True)"
   ],
   "metadata": {
    "collapsed": false
   },
   "id": "54b461a68510b4a"
  },
  {
   "cell_type": "code",
   "outputs": [],
   "source": [
    "games_df"
   ],
   "metadata": {
    "collapsed": false
   },
   "id": "2f0361ae9e98b4a7"
  },
  {
   "cell_type": "code",
   "outputs": [],
   "source": [
    "games_df.to_csv(\"nba_games_runtime.csv\")"
   ],
   "metadata": {
    "collapsed": false
   },
   "id": "b2ab2c575e5a4c42"
  }
 ],
 "metadata": {
  "kernelspec": {
   "display_name": "Python 3 (ipykernel)",
   "language": "python",
   "name": "python3"
  },
  "language_info": {
   "codemirror_mode": {
    "name": "ipython",
    "version": 3
   },
   "file_extension": ".py",
   "mimetype": "text/x-python",
   "name": "python",
   "nbconvert_exporter": "python",
   "pygments_lexer": "ipython3",
   "version": "3.10.4"
  }
 },
 "nbformat": 4,
 "nbformat_minor": 5
}
