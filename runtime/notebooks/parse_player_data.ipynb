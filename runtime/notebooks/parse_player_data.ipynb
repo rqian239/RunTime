{
 "cells": [
  {
   "cell_type": "code",
   "execution_count": null,
   "id": "50ca3109",
   "metadata": {},
   "outputs": [],
   "source": [
    "import os\n",
    "import pandas as pd\n",
    "from bs4 import BeautifulSoup"
   ]
  },
  {
   "cell_type": "code",
   "execution_count": null,
   "id": "86785fa4",
   "metadata": {},
   "outputs": [],
   "source": [
    "BOX_SCORE_DIR = \"../data/raw/scraped_html/scores\""
   ]
  },
  {
   "cell_type": "code",
   "execution_count": null,
   "id": "cbaa7e42",
   "metadata": {},
   "outputs": [],
   "source": [
    "box_scores = os.listdir(BOX_SCORE_DIR)"
   ]
  },
  {
   "cell_type": "code",
   "execution_count": null,
   "id": "aa0b28f6",
   "metadata": {},
   "outputs": [],
   "source": [
    "len(box_scores)"
   ]
  },
  {
   "cell_type": "code",
   "execution_count": null,
   "id": "28713ba6",
   "metadata": {},
   "outputs": [],
   "source": [
    "# Get path to each box score html file\n",
    "box_scores = [os.path.join(BOX_SCORE_DIR, f) for f in box_scores if f.endswith(\".html\")]"
   ]
  },
  {
   "cell_type": "code",
   "execution_count": null,
   "id": "23eec078",
   "metadata": {},
   "outputs": [],
   "source": [
    "def parse_html(box_score):\n",
    "    try:\n",
    "        with open(box_score, encoding='utf-8') as f:\n",
    "            html = f.read()\n",
    "    except UnicodeDecodeError as e:\n",
    "        print(f\"Error decoding file {box_score}: {e}\")\n",
    "        with open(box_score, encoding='utf-8', errors='replace') as f:\n",
    "            html = f.read()\n",
    "    \n",
    "    soup = BeautifulSoup(html)\n",
    "    [s.decompose() for s in soup.select(\"tr.over_header\")]\n",
    "    [s.decompose() for s in soup.select(\"tr.thead\")]\n",
    "    return soup"
   ]
  },
  {
   "cell_type": "code",
   "execution_count": null,
   "id": "83f305a2",
   "metadata": {},
   "outputs": [],
   "source": [
    "def read_line_score(soup):\n",
    "    line_score = pd.read_html(str(soup), attrs = {'id': 'line_score'})[0]\n",
    "    cols = list(line_score.columns)\n",
    "    cols[0] = \"team\"\n",
    "    cols[-1] = \"total\"\n",
    "    line_score.columns = cols\n",
    "    \n",
    "    # Only care about the team and total points\n",
    "    line_score = line_score[[\"team\", \"total\"]]\n",
    "    \n",
    "    return line_score"
   ]
  },
  {
   "cell_type": "code",
   "execution_count": null,
   "id": "b5e46c76",
   "metadata": {},
   "outputs": [],
   "source": [
    "# Converts time in the format MM:SS into seconds\n",
    "def convert_to_seconds(time_str):\n",
    "    try:\n",
    "        min_sec = list(map(int, time_str.split(':')))  # min_sec should be a list of two ints [{minutes}, {seconds}]\n",
    "        return (min_sec[0] * 60 + min_sec[1]) if (len(min_sec) == 2) else (min_sec[0] * 60)\n",
    "    except (ValueError, AttributeError):\n",
    "        return time_str # if the player didn't play..."
   ]
  },
  {
   "cell_type": "code",
   "execution_count": null,
   "id": "b86b41ac",
   "metadata": {},
   "outputs": [],
   "source": [
    "def read_stats(soup, team, stat):\n",
    "    # Read in the box score stats\n",
    "    df = pd.read_html(str(soup), attrs={\"id\": f\"box-{team}-game-{stat}\"}, index_col=0)[0]\n",
    "    # Create a \"seconds played (SP)\" column from MP\n",
    "    df['SP'] = df['MP'].apply(convert_to_seconds)\n",
    "    df = df.apply(pd.to_numeric, errors=\"coerce\")\n",
    "    return df"
   ]
  },
  {
   "cell_type": "code",
   "execution_count": null,
   "id": "39c0994e",
   "metadata": {},
   "outputs": [],
   "source": [
    "def read_season_info(soup):\n",
    "    nav = soup.select(\"#bottom_nav_container\")[0]\n",
    "    hrefs = [a[\"href\"] for a in nav.find_all('a')]\n",
    "    season = os.path.basename(hrefs[1]).split(\"_\")[0]\n",
    "    return season"
   ]
  },
  {
   "cell_type": "code",
   "execution_count": null,
   "id": "21431820",
   "metadata": {},
   "outputs": [],
   "source": [
    "base_cols = None  # this contains which stats we want to pull for each player\n",
    "\n",
    "all_player_data = []\n",
    "\n",
    "box_scores_parsed = 0;\n",
    "\n",
    "for box_score in box_scores:\n",
    "    print(box_score)  # prints the current file\n",
    "    soup = parse_html(box_score)\n",
    "    line_score = read_line_score(soup)\n",
    "    teams = list(line_score[\"team\"])\n",
    "    box_scores_parsed += 1;\n",
    "\n",
    "    for team in teams:\n",
    "        basic = read_stats(soup, team, \"basic\")\n",
    "        advanced = read_stats(soup, team, \"advanced\")\n",
    "        advanced_cols_to_append = advanced.columns.difference(basic.columns)  # this is so we don't merge duplicate columns!\n",
    "        total_stats = pd.merge(basic, advanced[advanced_cols_to_append], left_index=True, right_index=True)\n",
    "\n",
    "        # Make sure each player is accounted for...\n",
    "        assert len(basic.index) == len(advanced.index) == len(total_stats.index)\n",
    "\n",
    "        # Remove the MP column\n",
    "        total_stats = total_stats.drop(\"MP\", axis=1)\n",
    "\n",
    "        # Move SP column to the front\n",
    "        SP_col = total_stats.pop(\"SP\")\n",
    "        total_stats.insert(0, \"SP\", SP_col)\n",
    "\n",
    "        # Remove players who didn't play this game\n",
    "        total_stats.drop(total_stats[pd.isna(total_stats.SP)].index, inplace=True)\n",
    "\n",
    "        # Convert column names into lowercase\n",
    "        total_stats.columns = total_stats.columns.str.lower()\n",
    "\n",
    "        # Set the base_cols\n",
    "        if base_cols is None:\n",
    "            base_cols = list(total_stats.columns.drop_duplicates(keep=\"first\"))\n",
    "            base_cols = [b for b in base_cols if \"bpm\" not in b]   # drop bpm as this is not present in all box_scores\n",
    "\n",
    "        # Include only the base_cols\n",
    "        total_stats = total_stats[base_cols]\n",
    "\n",
    "        # Add team, opposing team, and whether home/away\n",
    "        home = team == teams[1]  # home team is listed second (teams[1])\n",
    "        total_stats[\"home\"] = 1 if home else 0\n",
    "        total_stats[\"team\"] = team\n",
    "        team_opp = [t for t in teams if t != team][0]\n",
    "        total_stats[\"team_opp\"] = team_opp  # get opposing team\n",
    "\n",
    "        # Add which season this game happened\n",
    "        total_stats[\"season\"] = read_season_info(soup)\n",
    "\n",
    "        # Add the date of the game\n",
    "        total_stats[\"date\"] = os.path.basename(box_score)[:8]\n",
    "        total_stats[\"date\"] = pd.to_datetime(total_stats[\"date\"], format=\"%Y%m%d\")\n",
    "\n",
    "        total_stats[\"won\"] = line_score.loc[line_score[\"team\"] == team, \"total\"].iloc[0] > line_score.loc[line_score[\"team\"] == team_opp, \"total\"].iloc[0]\n",
    "\n",
    "        # Rename the 'Starters' index to \"player_name\"\n",
    "        total_stats.index.name = \"player_name\"\n",
    "\n",
    "        # Remove the last row (which is \"Team Totals\")\n",
    "        total_stats = total_stats[:-1]\n",
    "\n",
    "        all_player_data.append(total_stats)\n",
    "    \n",
    "    if box_scores_parsed % 100 == 0:\n",
    "        print(f\"{box_scores_parsed} / {len(box_scores)}\")"
   ]
  },
  {
   "cell_type": "code",
   "execution_count": null,
   "id": "4e20c896",
   "metadata": {},
   "outputs": [],
   "source": [
    "basic"
   ]
  },
  {
   "cell_type": "code",
   "execution_count": null,
   "id": "eb631add",
   "metadata": {},
   "outputs": [],
   "source": [
    "advanced"
   ]
  },
  {
   "cell_type": "code",
   "execution_count": null,
   "id": "4cd0ad43",
   "metadata": {},
   "outputs": [],
   "source": [
    "total_stats"
   ]
  },
  {
   "cell_type": "code",
   "execution_count": null,
   "id": "722f372f",
   "metadata": {},
   "outputs": [],
   "source": [
    "print(total_stats.columns)\n",
    "print(len(total_stats.columns))"
   ]
  },
  {
   "cell_type": "code",
   "execution_count": null,
   "id": "5330b58f",
   "metadata": {},
   "outputs": [],
   "source": [
    "print(base_cols)\n",
    "print(len(base_cols))"
   ]
  },
  {
   "cell_type": "code",
   "execution_count": null,
   "id": "1b12a270",
   "metadata": {},
   "outputs": [],
   "source": [
    "# Merge all player data into single df\n",
    "all_player_data_df = pd.concat(all_player_data, ignore_index=False)"
   ]
  },
  {
   "cell_type": "code",
   "execution_count": null,
   "id": "243dc8cd",
   "metadata": {},
   "outputs": [],
   "source": [
    "all_player_data_df"
   ]
  },
  {
   "cell_type": "code",
   "execution_count": null,
   "id": "ae94c674",
   "metadata": {},
   "outputs": [],
   "source": [
    "print(all_player_data_df.columns)\n",
    "print(len(all_player_data_df.columns))"
   ]
  },
  {
   "cell_type": "code",
   "execution_count": null,
   "id": "ae0332b7",
   "metadata": {},
   "outputs": [],
   "source": [
    "output_csv_path = \"../data/raw\"\n",
    "\n",
    "all_player_data_df.to_csv(f\"{output_csv_path}/all_player_stats.csv\")"
   ]
  }
 ],
 "metadata": {
  "kernelspec": {
   "display_name": "Python 3 (ipykernel)",
   "language": "python",
   "name": "python3"
  },
  "language_info": {
   "codemirror_mode": {
    "name": "ipython",
    "version": 3
   },
   "file_extension": ".py",
   "mimetype": "text/x-python",
   "name": "python",
   "nbconvert_exporter": "python",
   "pygments_lexer": "ipython3",
   "version": "3.10.4"
  }
 },
 "nbformat": 4,
 "nbformat_minor": 5
}
