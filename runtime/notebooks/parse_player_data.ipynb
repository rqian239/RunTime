{
 "cells": [
  {
   "cell_type": "code",
   "execution_count": 1,
   "id": "205561ed",
   "metadata": {},
   "outputs": [],
   "source": [
    "import os\n",
    "import pandas as pd\n",
    "from bs4 import BeautifulSoup"
   ]
  },
  {
   "cell_type": "code",
   "execution_count": 2,
   "id": "ce934f8a",
   "metadata": {},
   "outputs": [],
   "source": [
    "BOX_SCORE_DIR = \"../data/raw/scraped_html/scores\""
   ]
  },
  {
   "cell_type": "code",
   "execution_count": 3,
   "id": "963d5523",
   "metadata": {},
   "outputs": [],
   "source": [
    "box_scores = os.listdir(BOX_SCORE_DIR)"
   ]
  },
  {
   "cell_type": "code",
   "execution_count": 4,
   "id": "21371cec",
   "metadata": {},
   "outputs": [
    {
     "data": {
      "text/plain": [
       "11022"
      ]
     },
     "execution_count": 4,
     "metadata": {},
     "output_type": "execute_result"
    }
   ],
   "source": [
    "len(box_scores)"
   ]
  },
  {
   "cell_type": "code",
   "execution_count": 5,
   "id": "c2c58611",
   "metadata": {},
   "outputs": [],
   "source": [
    "# Get path to each box score html file\n",
    "box_scores = [os.path.join(BOX_SCORE_DIR, f) for f in box_scores if f.endswith(\".html\")]"
   ]
  },
  {
   "cell_type": "code",
   "execution_count": 9,
   "id": "c6748576",
   "metadata": {},
   "outputs": [],
   "source": [
    "def parse_html(box_score):\n",
    "    with open(box_score) as f:\n",
    "        html = f.read()\n",
    "    \n",
    "    soup = BeautifulSoup(html)\n",
    "    [s.decompose() for s in soup.select(\"tr.over_header\")]\n",
    "    [s.decompose() for s in soup.select(\"tr.thead\")]\n",
    "    return soup"
   ]
  },
  {
   "cell_type": "code",
   "execution_count": 10,
   "id": "7b3d26da",
   "metadata": {},
   "outputs": [],
   "source": [
    "box_score = box_scores[0]\n",
    "soup = parse_html(box_score)"
   ]
  },
  {
   "cell_type": "code",
   "execution_count": null,
   "id": "77a89712",
   "metadata": {},
   "outputs": [],
   "source": []
  }
 ],
 "metadata": {
  "kernelspec": {
   "display_name": "Python 3 (ipykernel)",
   "language": "python",
   "name": "python3"
  },
  "language_info": {
   "codemirror_mode": {
    "name": "ipython",
    "version": 3
   },
   "file_extension": ".py",
   "mimetype": "text/x-python",
   "name": "python",
   "nbconvert_exporter": "python",
   "pygments_lexer": "ipython3",
   "version": "3.10.4"
  }
 },
 "nbformat": 4,
 "nbformat_minor": 5
}
