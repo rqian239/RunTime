{
 "cells": [
  {
   "cell_type": "code",
   "execution_count": null,
   "id": "initial_id",
   "metadata": {
    "collapsed": true
   },
   "outputs": [],
   "source": [
    "# Import statements\n",
    "import pandas as pd\n",
    "from datetime import datetime\n",
    "from nba_api.stats.static import teams\n",
    "\n",
    "from nba_api.stats.endpoints import teamgamelogs\n",
    "from nba_api.stats.endpoints import teaminfocommon"
   ]
  },
  {
   "cell_type": "code",
   "outputs": [],
   "source": [
    "teamGameLogs = teamgamelogs.TeamGameLogs(season_nullable='2023-24')\n",
    "df = teamGameLogs.get_data_frames()[0]\n",
    "\n",
    "df"
   ],
   "metadata": {
    "collapsed": false
   },
   "id": "ce3373442fe79bb8"
  },
  {
   "cell_type": "code",
   "outputs": [],
   "source": [
    "# Set initial Elo ratings manually\n",
    "\n",
    "initial_elo = dict()  # Create a dictionary to hold initial elos\n",
    "\n",
    "# ELO RATINGS AT START OF 2023-24 SEASON, from https://neilpaine.substack.com/p/2023-24-nba-elo-ratings\n",
    "initial_elo[\"ATL\"] = 1500\n",
    "initial_elo[\"BKN\"] = 1431\n",
    "initial_elo[\"BOS\"] = 1771\n",
    "initial_elo[\"CHA\"] = 1291\n",
    "initial_elo[\"CHI\"] = 1471\n",
    "initial_elo[\"CLE\"] = 1556\n",
    "initial_elo[\"DAL\"] = 1636\n",
    "initial_elo[\"DEN\"] = 1650\n",
    "initial_elo[\"DET\"] = 1287\n",
    "initial_elo[\"GSW\"] = 1603\n",
    "initial_elo[\"HOU\"] = 1531\n",
    "initial_elo[\"IND\"] = 1583\n",
    "initial_elo[\"LAC\"] = 1543\n",
    "initial_elo[\"LAL\"] = 1571\n",
    "initial_elo[\"MEM\"] = 1326\n",
    "initial_elo[\"MIA\"] = 1555\n",
    "initial_elo[\"MIL\"] = 1584\n",
    "initial_elo[\"MIN\"] = 1674\n",
    "initial_elo[\"NOP\"] = 1606\n",
    "initial_elo[\"NYK\"] = 1569\n",
    "initial_elo[\"OKC\"] = 1631\n",
    "initial_elo[\"ORL\"] = 1529\n",
    "initial_elo[\"PHI\"] = 1483\n",
    "initial_elo[\"PHX\"] = 1613\n",
    "initial_elo[\"POR\"] = 1300\n",
    "initial_elo[\"SAC\"] = 1546\n",
    "initial_elo[\"SAS\"] = 1372\n",
    "initial_elo[\"TOR\"] = 1291\n",
    "initial_elo[\"UTA\"] = 1365\n",
    "initial_elo[\"WAS\"] = 1282"
   ],
   "metadata": {
    "collapsed": false
   },
   "id": "ab2508e48ba18f38"
  }
 ],
 "metadata": {
  "kernelspec": {
   "display_name": "Python 3",
   "language": "python",
   "name": "python3"
  },
  "language_info": {
   "codemirror_mode": {
    "name": "ipython",
    "version": 2
   },
   "file_extension": ".py",
   "mimetype": "text/x-python",
   "name": "python",
   "nbconvert_exporter": "python",
   "pygments_lexer": "ipython2",
   "version": "2.7.6"
  }
 },
 "nbformat": 4,
 "nbformat_minor": 5
}
