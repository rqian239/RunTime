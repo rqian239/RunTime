{
 "cells": [
  {
   "cell_type": "markdown",
   "id": "1086a995",
   "metadata": {},
   "source": [
    "# Predicting the Outcome of NBA Games using Recent Team Performance and Elo\n",
    "\n",
    "In this notebook, we will use the dataset we processed from the feature engineering notebook to train various models on predicting the outcome of games.\n",
    "\n",
    "The data includes a team's and opponent's elo rating and performance from the last 10 games."
   ]
  },
  {
   "cell_type": "markdown",
   "id": "7492964e",
   "metadata": {},
   "source": [
    "## Read the data"
   ]
  },
  {
   "cell_type": "code",
   "execution_count": null,
   "id": "89a4e5e6",
   "metadata": {},
   "outputs": [],
   "source": []
  }
 ],
 "metadata": {
  "kernelspec": {
   "display_name": "Python 3 (ipykernel)",
   "language": "python",
   "name": "python3"
  },
  "language_info": {
   "codemirror_mode": {
    "name": "ipython",
    "version": 3
   },
   "file_extension": ".py",
   "mimetype": "text/x-python",
   "name": "python",
   "nbconvert_exporter": "python",
   "pygments_lexer": "ipython3",
   "version": "3.10.4"
  }
 },
 "nbformat": 4,
 "nbformat_minor": 5
}
