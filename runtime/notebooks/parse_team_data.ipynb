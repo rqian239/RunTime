{
 "cells": [
  {
   "cell_type": "code",
   "execution_count": 1,
   "id": "f11822b1-a697-4711-973b-c55f1c982f99",
   "metadata": {
    "ExecuteTime": {
     "end_time": "2024-02-27T01:51:28.080482900Z",
     "start_time": "2024-02-27T01:51:27.012624200Z"
    }
   },
   "outputs": [
    {
     "name": "stderr",
     "output_type": "stream",
     "text": [
      "C:\\Users\\Bryan Hernandez\\AppData\\Local\\Temp\\ipykernel_29484\\644273862.py:2: DeprecationWarning: \n",
      "Pyarrow will become a required dependency of pandas in the next major release of pandas (pandas 3.0),\n",
      "(to allow more performant data types, such as the Arrow string type, and better interoperability with other libraries)\n",
      "but was not found to be installed on your system.\n",
      "If this would cause problems for you,\n",
      "please provide us feedback at https://github.com/pandas-dev/pandas/issues/54466\n",
      "        \n",
      "  import pandas as pd\n"
     ]
    }
   ],
   "source": [
    "import os\n",
    "import pandas as pd\n",
    "from io import StringIO\n",
    "import chardet\n",
    "from bs4 import BeautifulSoup\n",
    "\n",
    "SCORE_DIR = \"data2/scores\""
   ]
  },
  {
   "cell_type": "code",
   "execution_count": 2,
   "id": "1659c028-02e4-4e56-b6dc-82efa70cc5ca",
   "metadata": {
    "ExecuteTime": {
     "end_time": "2024-02-27T01:51:28.130482100Z",
     "start_time": "2024-02-27T01:51:28.078481300Z"
    }
   },
   "outputs": [],
   "source": [
    "box_scores = os.listdir(SCORE_DIR)\n",
    "box_scores = [os.path.join(SCORE_DIR, f) for f in box_scores if f.endswith(\".html\")]"
   ]
  },
  {
   "cell_type": "code",
   "outputs": [
    {
     "data": {
      "text/plain": "11022"
     },
     "execution_count": 3,
     "metadata": {},
     "output_type": "execute_result"
    }
   ],
   "source": [
    "len(box_scores)"
   ],
   "metadata": {
    "collapsed": false,
    "ExecuteTime": {
     "end_time": "2024-02-27T01:51:28.144141200Z",
     "start_time": "2024-02-27T01:51:28.120819900Z"
    }
   },
   "id": "6bcf3b8284e22ade",
   "execution_count": 3
  },
  {
   "cell_type": "code",
   "execution_count": 4,
   "id": "50fe65c4-47df-432f-8a14-f8717e575074",
   "metadata": {
    "ExecuteTime": {
     "end_time": "2024-02-27T01:51:28.146141800Z",
     "start_time": "2024-02-27T01:51:28.128481800Z"
    }
   },
   "outputs": [],
   "source": [
    "def parse_html(box_score):\n",
    "    with open(box_score, \"rb\") as f:\n",
    "        try:\n",
    "            r_data = f.read()\n",
    "            encoding = chardet.detect(r_data)[\"encoding\"]\n",
    "            html = r_data.decode(encoding)\n",
    "        except Exception as e:\n",
    "            print(f\"html with this title: {box_score.title()} is probably empty....\", e)\n",
    "            return 0\n",
    "            \n",
    "    soup = BeautifulSoup(html, \"lxml\")\n",
    "    [s.decompose() for s in soup.select(\"tr.over_header\")]\n",
    "    [s.decompose() for s in soup.select(\"tr.thead\")]\n",
    "    return soup"
   ]
  },
  {
   "cell_type": "code",
   "execution_count": 5,
   "id": "085f57bf-91d8-462a-9997-6cf73a045058",
   "metadata": {
    "ExecuteTime": {
     "end_time": "2024-02-27T01:51:28.185795Z",
     "start_time": "2024-02-27T01:51:28.138143600Z"
    }
   },
   "outputs": [],
   "source": [
    "def read_season_info(soup):\n",
    "    nav = soup.select(\"#bottom_nav_container\")[0]\n",
    "    hrefs = [a[\"href\"] for a in nav.find_all('a')]\n",
    "    season = os.path.basename(hrefs[1]).split(\"_\")[0]\n",
    "    return season"
   ]
  },
  {
   "cell_type": "code",
   "execution_count": 6,
   "id": "48003645-4bbc-49d7-b30a-5747e751052d",
   "metadata": {
    "ExecuteTime": {
     "end_time": "2024-02-27T01:51:28.187799800Z",
     "start_time": "2024-02-27T01:51:28.155525900Z"
    }
   },
   "outputs": [],
   "source": [
    "def read_line_score(soup):\n",
    "    line_score = pd.read_html(StringIO(str(soup)), attrs = {'id': 'line_score'})[0]\n",
    "    cols = list(line_score.columns)\n",
    "    cols[0] = \"team\"\n",
    "    cols[-1] = \"total\"\n",
    "    line_score.columns = cols\n",
    "    \n",
    "    line_score = line_score[[\"team\", \"total\"]]\n",
    "    \n",
    "    return line_score"
   ]
  },
  {
   "cell_type": "code",
   "execution_count": 7,
   "id": "4d8574e0-9703-4d10-9ca3-d56c1249b651",
   "metadata": {
    "ExecuteTime": {
     "end_time": "2024-02-27T01:51:28.189800400Z",
     "start_time": "2024-02-27T01:51:28.163128400Z"
    }
   },
   "outputs": [],
   "source": [
    "def read_stats(soup, team, stat):\n",
    "    df = pd.read_html(StringIO(str(soup)), attrs = {'id': f'box-{team}-game-{stat}'}, index_col=0)[0]\n",
    "    df = df.apply(pd.to_numeric, errors=\"coerce\")\n",
    "    return df"
   ]
  },
  {
   "cell_type": "code",
   "execution_count": 8,
   "id": "256f1eab-22d4-4396-8e4f-b7fb1ed10b5e",
   "metadata": {
    "ExecuteTime": {
     "end_time": "2024-02-27T02:03:40.086516Z",
     "start_time": "2024-02-27T01:51:28.181796400Z"
    }
   },
   "outputs": [
    {
     "name": "stdout",
     "output_type": "stream",
     "text": [
      "100 / 11022\n",
      "200 / 11022\n",
      "300 / 11022\n",
      "400 / 11022\n",
      "500 / 11022\n",
      "600 / 11022\n",
      "700 / 11022\n",
      "800 / 11022\n",
      "900 / 11022\n"
     ]
    },
    {
     "ename": "KeyboardInterrupt",
     "evalue": "",
     "output_type": "error",
     "traceback": [
      "\u001B[1;31m---------------------------------------------------------------------------\u001B[0m",
      "\u001B[1;31mKeyboardInterrupt\u001B[0m                         Traceback (most recent call last)",
      "Cell \u001B[1;32mIn[8], line 13\u001B[0m\n\u001B[0;32m     11\u001B[0m summaries \u001B[38;5;241m=\u001B[39m []\n\u001B[0;32m     12\u001B[0m \u001B[38;5;28;01mfor\u001B[39;00m team \u001B[38;5;129;01min\u001B[39;00m teams:\n\u001B[1;32m---> 13\u001B[0m     basic \u001B[38;5;241m=\u001B[39m \u001B[43mread_stats\u001B[49m\u001B[43m(\u001B[49m\u001B[43msoup\u001B[49m\u001B[43m,\u001B[49m\u001B[43m \u001B[49m\u001B[43mteam\u001B[49m\u001B[43m,\u001B[49m\u001B[43m \u001B[49m\u001B[38;5;124;43m\"\u001B[39;49m\u001B[38;5;124;43mbasic\u001B[39;49m\u001B[38;5;124;43m\"\u001B[39;49m\u001B[43m)\u001B[49m\n\u001B[0;32m     14\u001B[0m     advanced \u001B[38;5;241m=\u001B[39m read_stats(soup, team, \u001B[38;5;124m\"\u001B[39m\u001B[38;5;124madvanced\u001B[39m\u001B[38;5;124m\"\u001B[39m)\n\u001B[0;32m     16\u001B[0m     totals \u001B[38;5;241m=\u001B[39m pd\u001B[38;5;241m.\u001B[39mconcat([basic\u001B[38;5;241m.\u001B[39miloc[\u001B[38;5;241m-\u001B[39m\u001B[38;5;241m1\u001B[39m,:], advanced\u001B[38;5;241m.\u001B[39miloc[\u001B[38;5;241m-\u001B[39m\u001B[38;5;241m1\u001B[39m,:]])\n",
      "Cell \u001B[1;32mIn[7], line 2\u001B[0m, in \u001B[0;36mread_stats\u001B[1;34m(soup, team, stat)\u001B[0m\n\u001B[0;32m      1\u001B[0m \u001B[38;5;28;01mdef\u001B[39;00m \u001B[38;5;21mread_stats\u001B[39m(soup, team, stat):\n\u001B[1;32m----> 2\u001B[0m     df \u001B[38;5;241m=\u001B[39m \u001B[43mpd\u001B[49m\u001B[38;5;241;43m.\u001B[39;49m\u001B[43mread_html\u001B[49m\u001B[43m(\u001B[49m\u001B[43mStringIO\u001B[49m\u001B[43m(\u001B[49m\u001B[38;5;28;43mstr\u001B[39;49m\u001B[43m(\u001B[49m\u001B[43msoup\u001B[49m\u001B[43m)\u001B[49m\u001B[43m)\u001B[49m\u001B[43m,\u001B[49m\u001B[43m \u001B[49m\u001B[43mattrs\u001B[49m\u001B[43m \u001B[49m\u001B[38;5;241;43m=\u001B[39;49m\u001B[43m \u001B[49m\u001B[43m{\u001B[49m\u001B[38;5;124;43m'\u001B[39;49m\u001B[38;5;124;43mid\u001B[39;49m\u001B[38;5;124;43m'\u001B[39;49m\u001B[43m:\u001B[49m\u001B[43m \u001B[49m\u001B[38;5;124;43mf\u001B[39;49m\u001B[38;5;124;43m'\u001B[39;49m\u001B[38;5;124;43mbox-\u001B[39;49m\u001B[38;5;132;43;01m{\u001B[39;49;00m\u001B[43mteam\u001B[49m\u001B[38;5;132;43;01m}\u001B[39;49;00m\u001B[38;5;124;43m-game-\u001B[39;49m\u001B[38;5;132;43;01m{\u001B[39;49;00m\u001B[43mstat\u001B[49m\u001B[38;5;132;43;01m}\u001B[39;49;00m\u001B[38;5;124;43m'\u001B[39;49m\u001B[43m}\u001B[49m\u001B[43m,\u001B[49m\u001B[43m \u001B[49m\u001B[43mindex_col\u001B[49m\u001B[38;5;241;43m=\u001B[39;49m\u001B[38;5;241;43m0\u001B[39;49m\u001B[43m)\u001B[49m[\u001B[38;5;241m0\u001B[39m]\n\u001B[0;32m      3\u001B[0m     df \u001B[38;5;241m=\u001B[39m df\u001B[38;5;241m.\u001B[39mapply(pd\u001B[38;5;241m.\u001B[39mto_numeric, errors\u001B[38;5;241m=\u001B[39m\u001B[38;5;124m\"\u001B[39m\u001B[38;5;124mcoerce\u001B[39m\u001B[38;5;124m\"\u001B[39m)\n\u001B[0;32m      4\u001B[0m     \u001B[38;5;28;01mreturn\u001B[39;00m df\n",
      "File \u001B[1;32m~\\OneDrive\\Documents\\Senior Design\\Runtime@Github\\venv\\Lib\\site-packages\\pandas\\io\\html.py:1246\u001B[0m, in \u001B[0;36mread_html\u001B[1;34m(io, match, flavor, header, index_col, skiprows, attrs, parse_dates, thousands, encoding, decimal, converters, na_values, keep_default_na, displayed_only, extract_links, dtype_backend, storage_options)\u001B[0m\n\u001B[0;32m   1230\u001B[0m \u001B[38;5;28;01mif\u001B[39;00m \u001B[38;5;28misinstance\u001B[39m(io, \u001B[38;5;28mstr\u001B[39m) \u001B[38;5;129;01mand\u001B[39;00m \u001B[38;5;129;01mnot\u001B[39;00m \u001B[38;5;28many\u001B[39m(\n\u001B[0;32m   1231\u001B[0m     [\n\u001B[0;32m   1232\u001B[0m         is_file_like(io),\n\u001B[1;32m   (...)\u001B[0m\n\u001B[0;32m   1236\u001B[0m     ]\n\u001B[0;32m   1237\u001B[0m ):\n\u001B[0;32m   1238\u001B[0m     warnings\u001B[38;5;241m.\u001B[39mwarn(\n\u001B[0;32m   1239\u001B[0m         \u001B[38;5;124m\"\u001B[39m\u001B[38;5;124mPassing literal html to \u001B[39m\u001B[38;5;124m'\u001B[39m\u001B[38;5;124mread_html\u001B[39m\u001B[38;5;124m'\u001B[39m\u001B[38;5;124m is deprecated and \u001B[39m\u001B[38;5;124m\"\u001B[39m\n\u001B[0;32m   1240\u001B[0m         \u001B[38;5;124m\"\u001B[39m\u001B[38;5;124mwill be removed in a future version. To read from a \u001B[39m\u001B[38;5;124m\"\u001B[39m\n\u001B[1;32m   (...)\u001B[0m\n\u001B[0;32m   1243\u001B[0m         stacklevel\u001B[38;5;241m=\u001B[39mfind_stack_level(),\n\u001B[0;32m   1244\u001B[0m     )\n\u001B[1;32m-> 1246\u001B[0m \u001B[38;5;28;01mreturn\u001B[39;00m \u001B[43m_parse\u001B[49m\u001B[43m(\u001B[49m\n\u001B[0;32m   1247\u001B[0m \u001B[43m    \u001B[49m\u001B[43mflavor\u001B[49m\u001B[38;5;241;43m=\u001B[39;49m\u001B[43mflavor\u001B[49m\u001B[43m,\u001B[49m\n\u001B[0;32m   1248\u001B[0m \u001B[43m    \u001B[49m\u001B[43mio\u001B[49m\u001B[38;5;241;43m=\u001B[39;49m\u001B[43mio\u001B[49m\u001B[43m,\u001B[49m\n\u001B[0;32m   1249\u001B[0m \u001B[43m    \u001B[49m\u001B[43mmatch\u001B[49m\u001B[38;5;241;43m=\u001B[39;49m\u001B[43mmatch\u001B[49m\u001B[43m,\u001B[49m\n\u001B[0;32m   1250\u001B[0m \u001B[43m    \u001B[49m\u001B[43mheader\u001B[49m\u001B[38;5;241;43m=\u001B[39;49m\u001B[43mheader\u001B[49m\u001B[43m,\u001B[49m\n\u001B[0;32m   1251\u001B[0m \u001B[43m    \u001B[49m\u001B[43mindex_col\u001B[49m\u001B[38;5;241;43m=\u001B[39;49m\u001B[43mindex_col\u001B[49m\u001B[43m,\u001B[49m\n\u001B[0;32m   1252\u001B[0m \u001B[43m    \u001B[49m\u001B[43mskiprows\u001B[49m\u001B[38;5;241;43m=\u001B[39;49m\u001B[43mskiprows\u001B[49m\u001B[43m,\u001B[49m\n\u001B[0;32m   1253\u001B[0m \u001B[43m    \u001B[49m\u001B[43mparse_dates\u001B[49m\u001B[38;5;241;43m=\u001B[39;49m\u001B[43mparse_dates\u001B[49m\u001B[43m,\u001B[49m\n\u001B[0;32m   1254\u001B[0m \u001B[43m    \u001B[49m\u001B[43mthousands\u001B[49m\u001B[38;5;241;43m=\u001B[39;49m\u001B[43mthousands\u001B[49m\u001B[43m,\u001B[49m\n\u001B[0;32m   1255\u001B[0m \u001B[43m    \u001B[49m\u001B[43mattrs\u001B[49m\u001B[38;5;241;43m=\u001B[39;49m\u001B[43mattrs\u001B[49m\u001B[43m,\u001B[49m\n\u001B[0;32m   1256\u001B[0m \u001B[43m    \u001B[49m\u001B[43mencoding\u001B[49m\u001B[38;5;241;43m=\u001B[39;49m\u001B[43mencoding\u001B[49m\u001B[43m,\u001B[49m\n\u001B[0;32m   1257\u001B[0m \u001B[43m    \u001B[49m\u001B[43mdecimal\u001B[49m\u001B[38;5;241;43m=\u001B[39;49m\u001B[43mdecimal\u001B[49m\u001B[43m,\u001B[49m\n\u001B[0;32m   1258\u001B[0m \u001B[43m    \u001B[49m\u001B[43mconverters\u001B[49m\u001B[38;5;241;43m=\u001B[39;49m\u001B[43mconverters\u001B[49m\u001B[43m,\u001B[49m\n\u001B[0;32m   1259\u001B[0m \u001B[43m    \u001B[49m\u001B[43mna_values\u001B[49m\u001B[38;5;241;43m=\u001B[39;49m\u001B[43mna_values\u001B[49m\u001B[43m,\u001B[49m\n\u001B[0;32m   1260\u001B[0m \u001B[43m    \u001B[49m\u001B[43mkeep_default_na\u001B[49m\u001B[38;5;241;43m=\u001B[39;49m\u001B[43mkeep_default_na\u001B[49m\u001B[43m,\u001B[49m\n\u001B[0;32m   1261\u001B[0m \u001B[43m    \u001B[49m\u001B[43mdisplayed_only\u001B[49m\u001B[38;5;241;43m=\u001B[39;49m\u001B[43mdisplayed_only\u001B[49m\u001B[43m,\u001B[49m\n\u001B[0;32m   1262\u001B[0m \u001B[43m    \u001B[49m\u001B[43mextract_links\u001B[49m\u001B[38;5;241;43m=\u001B[39;49m\u001B[43mextract_links\u001B[49m\u001B[43m,\u001B[49m\n\u001B[0;32m   1263\u001B[0m \u001B[43m    \u001B[49m\u001B[43mdtype_backend\u001B[49m\u001B[38;5;241;43m=\u001B[39;49m\u001B[43mdtype_backend\u001B[49m\u001B[43m,\u001B[49m\n\u001B[0;32m   1264\u001B[0m \u001B[43m    \u001B[49m\u001B[43mstorage_options\u001B[49m\u001B[38;5;241;43m=\u001B[39;49m\u001B[43mstorage_options\u001B[49m\u001B[43m,\u001B[49m\n\u001B[0;32m   1265\u001B[0m \u001B[43m\u001B[49m\u001B[43m)\u001B[49m\n",
      "File \u001B[1;32m~\\OneDrive\\Documents\\Senior Design\\Runtime@Github\\venv\\Lib\\site-packages\\pandas\\io\\html.py:989\u001B[0m, in \u001B[0;36m_parse\u001B[1;34m(flavor, io, match, attrs, encoding, displayed_only, extract_links, storage_options, **kwargs)\u001B[0m\n\u001B[0;32m    978\u001B[0m p \u001B[38;5;241m=\u001B[39m parser(\n\u001B[0;32m    979\u001B[0m     io,\n\u001B[0;32m    980\u001B[0m     compiled_match,\n\u001B[1;32m   (...)\u001B[0m\n\u001B[0;32m    985\u001B[0m     storage_options,\n\u001B[0;32m    986\u001B[0m )\n\u001B[0;32m    988\u001B[0m \u001B[38;5;28;01mtry\u001B[39;00m:\n\u001B[1;32m--> 989\u001B[0m     tables \u001B[38;5;241m=\u001B[39m \u001B[43mp\u001B[49m\u001B[38;5;241;43m.\u001B[39;49m\u001B[43mparse_tables\u001B[49m\u001B[43m(\u001B[49m\u001B[43m)\u001B[49m\n\u001B[0;32m    990\u001B[0m \u001B[38;5;28;01mexcept\u001B[39;00m \u001B[38;5;167;01mValueError\u001B[39;00m \u001B[38;5;28;01mas\u001B[39;00m caught:\n\u001B[0;32m    991\u001B[0m     \u001B[38;5;66;03m# if `io` is an io-like object, check if it's seekable\u001B[39;00m\n\u001B[0;32m    992\u001B[0m     \u001B[38;5;66;03m# and try to rewind it before trying the next parser\u001B[39;00m\n\u001B[0;32m    993\u001B[0m     \u001B[38;5;28;01mif\u001B[39;00m \u001B[38;5;28mhasattr\u001B[39m(io, \u001B[38;5;124m\"\u001B[39m\u001B[38;5;124mseekable\u001B[39m\u001B[38;5;124m\"\u001B[39m) \u001B[38;5;129;01mand\u001B[39;00m io\u001B[38;5;241m.\u001B[39mseekable():\n",
      "File \u001B[1;32m~\\OneDrive\\Documents\\Senior Design\\Runtime@Github\\venv\\Lib\\site-packages\\pandas\\io\\html.py:249\u001B[0m, in \u001B[0;36m_HtmlFrameParser.parse_tables\u001B[1;34m(self)\u001B[0m\n\u001B[0;32m    241\u001B[0m \u001B[38;5;28;01mdef\u001B[39;00m \u001B[38;5;21mparse_tables\u001B[39m(\u001B[38;5;28mself\u001B[39m):\n\u001B[0;32m    242\u001B[0m \u001B[38;5;250m    \u001B[39m\u001B[38;5;124;03m\"\"\"\u001B[39;00m\n\u001B[0;32m    243\u001B[0m \u001B[38;5;124;03m    Parse and return all tables from the DOM.\u001B[39;00m\n\u001B[0;32m    244\u001B[0m \n\u001B[1;32m   (...)\u001B[0m\n\u001B[0;32m    247\u001B[0m \u001B[38;5;124;03m    list of parsed (header, body, footer) tuples from tables.\u001B[39;00m\n\u001B[0;32m    248\u001B[0m \u001B[38;5;124;03m    \"\"\"\u001B[39;00m\n\u001B[1;32m--> 249\u001B[0m     tables \u001B[38;5;241m=\u001B[39m \u001B[38;5;28mself\u001B[39m\u001B[38;5;241m.\u001B[39m_parse_tables(\u001B[38;5;28;43mself\u001B[39;49m\u001B[38;5;241;43m.\u001B[39;49m\u001B[43m_build_doc\u001B[49m\u001B[43m(\u001B[49m\u001B[43m)\u001B[49m, \u001B[38;5;28mself\u001B[39m\u001B[38;5;241m.\u001B[39mmatch, \u001B[38;5;28mself\u001B[39m\u001B[38;5;241m.\u001B[39mattrs)\n\u001B[0;32m    250\u001B[0m     \u001B[38;5;28;01mreturn\u001B[39;00m (\u001B[38;5;28mself\u001B[39m\u001B[38;5;241m.\u001B[39m_parse_thead_tbody_tfoot(table) \u001B[38;5;28;01mfor\u001B[39;00m table \u001B[38;5;129;01min\u001B[39;00m tables)\n",
      "File \u001B[1;32m~\\OneDrive\\Documents\\Senior Design\\Runtime@Github\\venv\\Lib\\site-packages\\pandas\\io\\html.py:797\u001B[0m, in \u001B[0;36m_LxmlFrameParser._build_doc\u001B[1;34m(self)\u001B[0m\n\u001B[0;32m    794\u001B[0m         r \u001B[38;5;241m=\u001B[39m parse(f\u001B[38;5;241m.\u001B[39mhandle, parser\u001B[38;5;241m=\u001B[39mparser)\n\u001B[0;32m    795\u001B[0m \u001B[38;5;28;01melse\u001B[39;00m:\n\u001B[0;32m    796\u001B[0m     \u001B[38;5;66;03m# try to parse the input in the simplest way\u001B[39;00m\n\u001B[1;32m--> 797\u001B[0m     r \u001B[38;5;241m=\u001B[39m \u001B[43mparse\u001B[49m\u001B[43m(\u001B[49m\u001B[38;5;28;43mself\u001B[39;49m\u001B[38;5;241;43m.\u001B[39;49m\u001B[43mio\u001B[49m\u001B[43m,\u001B[49m\u001B[43m \u001B[49m\u001B[43mparser\u001B[49m\u001B[38;5;241;43m=\u001B[39;49m\u001B[43mparser\u001B[49m\u001B[43m)\u001B[49m\n\u001B[0;32m    798\u001B[0m \u001B[38;5;28;01mtry\u001B[39;00m:\n\u001B[0;32m    799\u001B[0m     r \u001B[38;5;241m=\u001B[39m r\u001B[38;5;241m.\u001B[39mgetroot()\n",
      "File \u001B[1;32m~\\OneDrive\\Documents\\Senior Design\\Runtime@Github\\venv\\Lib\\site-packages\\lxml\\html\\__init__.py:914\u001B[0m, in \u001B[0;36mparse\u001B[1;34m(filename_or_url, parser, base_url, **kw)\u001B[0m\n\u001B[0;32m    912\u001B[0m \u001B[38;5;28;01mif\u001B[39;00m parser \u001B[38;5;129;01mis\u001B[39;00m \u001B[38;5;28;01mNone\u001B[39;00m:\n\u001B[0;32m    913\u001B[0m     parser \u001B[38;5;241m=\u001B[39m html_parser\n\u001B[1;32m--> 914\u001B[0m \u001B[38;5;28;01mreturn\u001B[39;00m \u001B[43metree\u001B[49m\u001B[38;5;241;43m.\u001B[39;49m\u001B[43mparse\u001B[49m\u001B[43m(\u001B[49m\u001B[43mfilename_or_url\u001B[49m\u001B[43m,\u001B[49m\u001B[43m \u001B[49m\u001B[43mparser\u001B[49m\u001B[43m,\u001B[49m\u001B[43m \u001B[49m\u001B[43mbase_url\u001B[49m\u001B[38;5;241;43m=\u001B[39;49m\u001B[43mbase_url\u001B[49m\u001B[43m,\u001B[49m\u001B[43m \u001B[49m\u001B[38;5;241;43m*\u001B[39;49m\u001B[38;5;241;43m*\u001B[39;49m\u001B[43mkw\u001B[49m\u001B[43m)\u001B[49m\n",
      "File \u001B[1;32msrc\\\\lxml\\\\etree.pyx:3548\u001B[0m, in \u001B[0;36mlxml.etree.parse\u001B[1;34m()\u001B[0m\n",
      "File \u001B[1;32msrc\\\\lxml\\\\etree.pyx:2422\u001B[0m, in \u001B[0;36mlxml.etree._elementTreeFactory\u001B[1;34m()\u001B[0m\n",
      "File \u001B[1;32msrc\\\\lxml\\\\etree.pyx:2429\u001B[0m, in \u001B[0;36mlxml.etree._newElementTree\u001B[1;34m()\u001B[0m\n",
      "File \u001B[1;32msrc\\\\lxml\\\\etree.pyx:378\u001B[0m, in \u001B[0;36mlxml.etree._Document.getroot\u001B[1;34m()\u001B[0m\n",
      "File \u001B[1;32msrc\\\\lxml\\\\etree.pyx:1636\u001B[0m, in \u001B[0;36mlxml.etree._elementFactory\u001B[1;34m()\u001B[0m\n",
      "File \u001B[1;32msrc\\\\lxml\\\\classlookup.pxi:403\u001B[0m, in \u001B[0;36mlxml.etree._parser_class_lookup\u001B[1;34m()\u001B[0m\n",
      "File \u001B[1;32msrc\\\\lxml\\\\classlookup.pxi:456\u001B[0m, in \u001B[0;36mlxml.etree._custom_class_lookup\u001B[1;34m()\u001B[0m\n",
      "File \u001B[1;32m~\\OneDrive\\Documents\\Senior Design\\Runtime@Github\\venv\\Lib\\site-packages\\lxml\\html\\__init__.py:710\u001B[0m, in \u001B[0;36mHtmlElementClassLookup.lookup\u001B[1;34m(self, node_type, document, namespace, name)\u001B[0m\n\u001B[0;32m    707\u001B[0m             classes[name] \u001B[38;5;241m=\u001B[39m \u001B[38;5;28mtype\u001B[39m(cur\u001B[38;5;241m.\u001B[39m\u001B[38;5;18m__name__\u001B[39m, bases, {})\n\u001B[0;32m    708\u001B[0m     \u001B[38;5;28mself\u001B[39m\u001B[38;5;241m.\u001B[39m_element_classes \u001B[38;5;241m=\u001B[39m classes\n\u001B[1;32m--> 710\u001B[0m \u001B[38;5;28;01mdef\u001B[39;00m \u001B[38;5;21mlookup\u001B[39m(\u001B[38;5;28mself\u001B[39m, node_type, document, namespace, name):\n\u001B[0;32m    711\u001B[0m     \u001B[38;5;28;01mif\u001B[39;00m node_type \u001B[38;5;241m==\u001B[39m \u001B[38;5;124m'\u001B[39m\u001B[38;5;124melement\u001B[39m\u001B[38;5;124m'\u001B[39m:\n\u001B[0;32m    712\u001B[0m         \u001B[38;5;28;01mreturn\u001B[39;00m \u001B[38;5;28mself\u001B[39m\u001B[38;5;241m.\u001B[39m_element_classes\u001B[38;5;241m.\u001B[39mget(name\u001B[38;5;241m.\u001B[39mlower(), HtmlElement)\n",
      "\u001B[1;31mKeyboardInterrupt\u001B[0m: "
     ]
    }
   ],
   "source": [
    "games = []\n",
    "base_cols = None\n",
    "for box_score in box_scores:\n",
    "    soup = parse_html(box_score)\n",
    "    #indicates theres an html that has nothing, probably need to add something to delete that code...\n",
    "    if soup == 0:\n",
    "        continue\n",
    "    line_score = read_line_score(soup)\n",
    "    teams = list(line_score[\"team\"])\n",
    "\n",
    "    summaries = []\n",
    "    for team in teams:\n",
    "        basic = read_stats(soup, team, \"basic\")\n",
    "        advanced = read_stats(soup, team, \"advanced\")\n",
    "\n",
    "        totals = pd.concat([basic.iloc[-1,:], advanced.iloc[-1,:]])\n",
    "        totals.index = totals.index.str.lower()\n",
    "\n",
    "        maxes = pd.concat([basic.iloc[:-1].max(), advanced.iloc[:-1].max()])\n",
    "        maxes.index = maxes.index.str.lower() + \"_max\"\n",
    "\n",
    "        summary = pd.concat([totals, maxes])\n",
    "        \n",
    "        if base_cols is None:\n",
    "            base_cols = list(summary.index.drop_duplicates(keep=\"first\"))\n",
    "            base_cols = [b for b in base_cols if \"bpm\" not in b]\n",
    "        \n",
    "        summary = summary[base_cols] \n",
    "        \n",
    "        summaries.append(summary)\n",
    "    summary = pd.concat(summaries, axis=1).T\n",
    "\n",
    "    game = pd.concat([summary, line_score], axis=1)\n",
    "\n",
    "    game[\"home\"] = [0,1]\n",
    "\n",
    "    game_opp = game.iloc[::-1].reset_index()\n",
    "    game_opp.columns += \"_opp\"\n",
    "\n",
    "    full_game = pd.concat([game, game_opp], axis=1)\n",
    "    full_game[\"season\"] = read_season_info(soup)\n",
    "    \n",
    "    full_game[\"date\"] = os.path.basename(box_score)[:8]\n",
    "    full_game[\"date\"] = pd.to_datetime(full_game[\"date\"], format=\"%Y%m%d\")\n",
    "    \n",
    "    full_game[\"won\"] = full_game[\"total\"] > full_game[\"total_opp\"]\n",
    "    games.append(full_game)\n",
    "    \n",
    "    if len(games) % 100 == 0:\n",
    "        print(f\"{len(games)} / {len(box_scores)}\")"
   ]
  },
  {
   "cell_type": "code",
   "execution_count": null,
   "id": "7e3a6bc3-764c-4839-92f9-92049bac9147",
   "metadata": {
    "ExecuteTime": {
     "start_time": "2024-02-27T02:03:40.075622400Z"
    }
   },
   "outputs": [],
   "source": [
    "games_df = pd.concat(games, ignore_index=True)"
   ]
  },
  {
   "cell_type": "code",
   "execution_count": null,
   "id": "3fbf90f0-ba16-451b-b8cc-84408d47900b",
   "metadata": {
    "ExecuteTime": {
     "start_time": "2024-02-27T02:03:40.077848100Z"
    }
   },
   "outputs": [],
   "source": [
    "games_df"
   ]
  },
  {
   "cell_type": "code",
   "execution_count": null,
   "id": "92ca110e-a695-4425-98a6-6a485eef045f",
   "metadata": {
    "ExecuteTime": {
     "start_time": "2024-02-27T02:03:40.078358400Z"
    }
   },
   "outputs": [],
   "source": [
    "games_df.to_csv(\"nba_team_games_runtime.csv\")"
   ]
  }
 ],
 "metadata": {
  "kernelspec": {
   "display_name": "Python 3 (ipykernel)",
   "language": "python",
   "name": "python3"
  },
  "language_info": {
   "codemirror_mode": {
    "name": "ipython",
    "version": 3
   },
   "file_extension": ".py",
   "mimetype": "text/x-python",
   "name": "python",
   "nbconvert_exporter": "python",
   "pygments_lexer": "ipython3",
   "version": "3.9.13"
  }
 },
 "nbformat": 4,
 "nbformat_minor": 5
}
