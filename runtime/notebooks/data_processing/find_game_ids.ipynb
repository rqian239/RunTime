{
 "cells": [
  {
   "cell_type": "markdown",
   "id": "594a2639",
   "metadata": {},
   "source": [
    "# Find Game IDs\n",
    "\n",
    "The objective of this notebook is to take the df with all team stats for each game and append the unique \"game_id\" to each game using nba_api."
   ]
  },
  {
   "cell_type": "code",
   "execution_count": null,
   "id": "5943f59c",
   "metadata": {},
   "outputs": [],
   "source": [
    "import numpy as np\n",
    "import pandas as pd\n",
    "from nba_api.stats.static import teams\n",
    "from nba_api.stats.endpoints import teamgamelog\n",
    "import datetime"
   ]
  },
  {
   "cell_type": "code",
   "execution_count": null,
   "id": "0a57a81f",
   "metadata": {},
   "outputs": [],
   "source": [
    "PATH_TO_TEAM_DATA = \"../../data/raw/nba_games_runtime.csv\""
   ]
  },
  {
   "cell_type": "code",
   "execution_count": null,
   "id": "75a8a19c",
   "metadata": {},
   "outputs": [],
   "source": [
    "df = pd.read_csv(PATH_TO_TEAM_DATA, index_col=0)\n",
    "df"
   ]
  },
  {
   "cell_type": "code",
   "execution_count": null,
   "id": "d52bd92d",
   "metadata": {},
   "outputs": [],
   "source": [
    "# Create a \"game_id\" column and move to the front\n",
    "df.insert(0, 'game_id', None)\n",
    "df"
   ]
  },
  {
   "cell_type": "code",
   "execution_count": null,
   "id": "29eb6904",
   "metadata": {},
   "outputs": [],
   "source": [
    "# Print out all the team codes\n",
    "all_team_codes = df[\"team\"].unique()\n",
    "print(len(all_team_codes))  # We should have 30 teams\n",
    "all_team_codes"
   ]
  },
  {
   "cell_type": "code",
   "execution_count": null,
   "id": "c7a1acd0",
   "metadata": {},
   "outputs": [],
   "source": [
    "# Fix team codes that do not match the NBA team codes\n",
    "# BRK -> BKN\n",
    "# CHO -> CHA\n",
    "# PHO -> PHX\n",
    "\n",
    "df = df.replace({\"BRK\": \"BKN\", \"CHO\": \"CHA\", \"PHO\": \"PHX\"})\n",
    "all_team_codes = np.sort(df[\"team\"].unique())\n",
    "all_opp_team_codes = np.sort(df[\"team_opp\"].unique())\n",
    "print(all_team_codes)\n",
    "print(all_opp_team_codes)\n",
    "\n",
    "assert np.array_equal(all_team_codes, all_opp_team_codes)"
   ]
  },
  {
   "cell_type": "code",
   "execution_count": null,
   "id": "ba7d6ec0",
   "metadata": {},
   "outputs": [],
   "source": [
    "# Create a python dict to store team ids\n",
    "team_ids = dict()\n",
    "\n",
    "# Get all the team ids using nba api\n",
    "for code in all_team_codes:\n",
    "    t_id = teams.find_team_by_abbreviation(code)['id']\n",
    "    print(f\"{code}: {t_id}\")\n",
    "    team_ids[code] = t_id"
   ]
  },
  {
   "cell_type": "code",
   "execution_count": null,
   "id": "75fd99e0",
   "metadata": {},
   "outputs": [],
   "source": [
    "import time\n",
    "\n",
    "# Store all game logs in a python dict\n",
    "game_logs = dict()\n",
    "\n",
    "# Get starting and end dates - format them\n",
    "starting_date = df[\"date\"].iloc[0]\n",
    "last_date = df[\"date\"].iloc[-1]\n",
    "\n",
    "fmt_starting_date = datetime.datetime.strptime(starting_date, \"%Y-%m-%d\").strftime(\"%m/%d/%Y\")\n",
    "fmt_last_date = datetime.datetime.strptime(last_date, \"%Y-%m-%d\").strftime(\"%m/%d/%Y\")\n",
    "print(fmt_starting_date, fmt_last_date)\n",
    "\n",
    "start_season = fmt_starting_date[-4:]\n",
    "last_season = fmt_last_date[-4:]"
   ]
  },
  {
   "cell_type": "code",
   "execution_count": null,
   "id": "4c374485",
   "metadata": {},
   "outputs": [],
   "source": [
    "# Calculate season range\n",
    "season_range = None\n",
    "\n",
    "# If our last date in the dataset is near the start of a new NBA season\n",
    "if(int(fmt_last_date[:2]) >= 10):\n",
    "    season_range = range(int(start_season), int(last_season) + 1)\n",
    "else:\n",
    "    season_range = range(int(start_season), int(last_season))\n",
    "\n",
    "print(list(season_range))"
   ]
  },
  {
   "cell_type": "code",
   "execution_count": null,
   "id": "c081ad1c",
   "metadata": {},
   "outputs": [],
   "source": [
    "# Fetch the game logs (add a 30 second delay in between requests)\n",
    "for code in all_team_codes:\n",
    "    \n",
    "    curr_team_id = team_ids[code]\n",
    "    combined_team_game_log_df = pd.DataFrame()\n",
    "    \n",
    "    for season in season_range:\n",
    "        \n",
    "        gamelog = teamgamelog.TeamGameLog(\n",
    "            season = season,\n",
    "            season_type_all_star = 'Regular Season',\n",
    "            team_id = curr_team_id,\n",
    "            timeout=100\n",
    "        )\n",
    "        gamelog_df = gamelog.team_game_log.get_data_frame()\n",
    "        \n",
    "        print(f\"Gamelog fetched for {code} for the {season} season\")\n",
    "        \n",
    "        combined_team_game_log_df = pd.concat([gamelog_df, combined_team_game_log_df], ignore_index=True)\n",
    "        \n",
    "#         print(combined_team_game_log_df.head(3))\n",
    "#         print(combined_team_game_log_df.tail(3))\n",
    "        \n",
    "        # Add a 30 second delay in-between requests\n",
    "        time.sleep(30)\n",
    "    \n",
    "    game_logs[code] = combined_team_game_log_df\n",
    "    print(combined_team_game_log_df.head(2))\n",
    "    print(combined_team_game_log_df.tail(2))\n",
    "    print(\"-\" * 30)"
   ]
  },
  {
   "cell_type": "code",
   "execution_count": null,
   "id": "5940452b",
   "metadata": {},
   "outputs": [],
   "source": [
    "# # TODO: instead of sending an api request per game (over 20,000 requests), just send 30 requests of all games from 2015-2024\n",
    "\n",
    "# # Sending too many requests can block your IP from using the API\n",
    "\n",
    "# # for index, row in df.iterrows(): \n",
    "#     team_abbrev = row[\"team\"]\n",
    "\n",
    "\n",
    "#     # Format the game date into MM/DD/YY\n",
    "#     game_date = row[\"date\"]\n",
    "#     formatted_date = datetime.datetime.strptime(game_date, \"%Y-%m-%d\").strftime(\"%m/%d/%Y\")\n",
    "    \n",
    "#     # Now we can fetch the gamelog for that team for that specific date\n",
    "#     gamelog = teamgamelog.TeamGameLog(\n",
    "#         season = 2015,\n",
    "#         season_type_all_star = 'Regular Season',\n",
    "#         team_id = curr_team_id,\n",
    "#         date_from_nullable = formatted_date,\n",
    "#         date_to_nullable = formatted_date\n",
    "#     )\n",
    "\n",
    "#     gamelog_df = gamelog.team_game_log.get_data_frame()\n",
    "#     assert gamelog_df.shape[0] == 1\n",
    "\n",
    "#     game_id = gamelog_df.iloc[0][\"Game_ID\"]\n",
    "#     row[\"game_id\"] = game_id"
   ]
  }
 ],
 "metadata": {
  "kernelspec": {
   "display_name": "Python 3 (ipykernel)",
   "language": "python",
   "name": "python3"
  },
  "language_info": {
   "codemirror_mode": {
    "name": "ipython",
    "version": 3
   },
   "file_extension": ".py",
   "mimetype": "text/x-python",
   "name": "python",
   "nbconvert_exporter": "python",
   "pygments_lexer": "ipython3",
   "version": "3.10.4"
  }
 },
 "nbformat": 4,
 "nbformat_minor": 5
}
