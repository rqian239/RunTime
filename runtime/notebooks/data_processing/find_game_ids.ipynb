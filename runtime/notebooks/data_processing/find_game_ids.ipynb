{
 "cells": [
  {
   "cell_type": "markdown",
   "id": "594a2639",
   "metadata": {},
   "source": [
    "# Find Game IDs\n",
    "\n",
    "The objective of this notebook is to take the df with all team stats for each game and append the unique \"game_id\" to each game using nba_api."
   ]
  },
  {
   "cell_type": "code",
   "execution_count": null,
   "id": "5943f59c",
   "metadata": {},
   "outputs": [],
   "source": [
    "import pandas as pd\n",
    "from nba_api.stats.static import teams\n",
    "from nba_api.stats.endpoints import teamgamelog\n",
    "import datetime"
   ]
  },
  {
   "cell_type": "code",
   "execution_count": null,
   "id": "0a57a81f",
   "metadata": {},
   "outputs": [],
   "source": [
    "PATH_TO_TEAM_DATA = \"../../data/raw/nba_games_runtime.csv\""
   ]
  },
  {
   "cell_type": "code",
   "execution_count": null,
   "id": "75a8a19c",
   "metadata": {},
   "outputs": [],
   "source": [
    "df = pd.read_csv(PATH_TO_TEAM_DATA, index_col=0)\n",
    "df"
   ]
  },
  {
   "cell_type": "code",
   "execution_count": null,
   "id": "d52bd92d",
   "metadata": {},
   "outputs": [],
   "source": [
    "# Create a \"game_id\" column and move to the front\n",
    "df.insert(0, 'game_id', None)\n",
    "df"
   ]
  },
  {
   "cell_type": "code",
   "execution_count": null,
   "id": "ba7d6ec0",
   "metadata": {},
   "outputs": [],
   "source": [
    "# Create a python dict to store team ids\n",
    "team_ids = dict()"
   ]
  },
  {
   "cell_type": "code",
   "execution_count": null,
   "id": "5940452b",
   "metadata": {},
   "outputs": [],
   "source": [
    "# TODO: instead of sending an api request per game (over 20,000 requests), just send 30 requests of all games from \n",
    "\n",
    "# for index, row in df.iterrows(): \n",
    "    team_abbrev = row[\"team\"]\n",
    "    \n",
    "    if(team_abbrev == \"BRK\"):\n",
    "        team_abbrev = \"BKN\"\n",
    "\n",
    "    curr_team_id = None\n",
    "\n",
    "    if(team_abbrev not in team_ids):\n",
    "        print(team_abbrev)\n",
    "        curr_team_id = teams.find_team_by_abbreviation(team_abbrev)['id']\n",
    "        print(f\"{team_abbrev}: {curr_team_id}\")\n",
    "        team_ids[team_abbrev] = curr_team_id\n",
    "    else:\n",
    "        curr_team_id = team_ids[team_abbrev]\n",
    "\n",
    "\n",
    "    # Format the game date into MM/DD/YY\n",
    "    game_date = row[\"date\"]\n",
    "    formatted_date = datetime.datetime.strptime(game_date, \"%Y-%m-%d\").strftime(\"%m/%d/%Y\")\n",
    "\n",
    "    # Now we can fetch the gamelog for that team for that specific date\n",
    "    gamelog = teamgamelog.TeamGameLog(\n",
    "        season = 2015,\n",
    "        season_type_all_star = 'Regular Season',\n",
    "        team_id = curr_team_id,\n",
    "        date_from_nullable = formatted_date,\n",
    "        date_to_nullable = formatted_date\n",
    "    )\n",
    "\n",
    "    gamelog_df = gamelog.team_game_log.get_data_frame()\n",
    "    assert gamelog_df.shape[0] == 1\n",
    "\n",
    "    game_id = gamelog_df.iloc[0][\"Game_ID\"]\n",
    "    row[\"game_id\"] = game_id"
   ]
  },
  {
   "cell_type": "code",
   "execution_count": null,
   "id": "a1759351",
   "metadata": {},
   "outputs": [],
   "source": [
    "df[df[\"team\"] == \"CHO\"] # Charlotte Hornets? Some of the abbrev are wrong!"
   ]
  },
  {
   "cell_type": "code",
   "execution_count": null,
   "id": "85b45c16",
   "metadata": {},
   "outputs": [],
   "source": []
  }
 ],
 "metadata": {
  "kernelspec": {
   "display_name": "Python 3 (ipykernel)",
   "language": "python",
   "name": "python3"
  },
  "language_info": {
   "codemirror_mode": {
    "name": "ipython",
    "version": 3
   },
   "file_extension": ".py",
   "mimetype": "text/x-python",
   "name": "python",
   "nbconvert_exporter": "python",
   "pygments_lexer": "ipython3",
   "version": "3.10.4"
  }
 },
 "nbformat": 4,
 "nbformat_minor": 5
}
