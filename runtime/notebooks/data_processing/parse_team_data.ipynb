{
 "cells": [
  {
   "cell_type": "code",
   "execution_count": null,
   "id": "f11822b1-a697-4711-973b-c55f1c982f99",
   "metadata": {
    "ExecuteTime": {
     "end_time": "2024-02-27T01:51:28.080482900Z",
     "start_time": "2024-02-27T01:51:27.012624200Z"
    }
   },
   "outputs": [],
   "source": [
    "import os\n",
    "import pandas as pd\n",
    "from io import StringIO\n",
    "import chardet\n",
    "from bs4 import BeautifulSoup\n",
    "\n",
    "SCORE_DIR = \"../../data/raw/scores\"\n",
    "# SCORE_DIR = \"../../data/raw/scraped_html/scores\""
   ]
  },
  {
   "cell_type": "code",
   "execution_count": 2,
   "id": "1659c028-02e4-4e56-b6dc-82efa70cc5ca",
   "metadata": {
    "ExecuteTime": {
     "end_time": "2024-02-27T01:51:28.130482100Z",
     "start_time": "2024-02-27T01:51:28.078481300Z"
    }
   },
   "outputs": [],
   "source": [
    "box_scores = os.listdir(SCORE_DIR)\n",
    "box_scores = [os.path.join(SCORE_DIR, f) for f in box_scores if f.endswith(\".html\")]"
   ]
  },
  {
   "cell_type": "code",
   "execution_count": 3,
   "id": "6bcf3b8284e22ade",
   "metadata": {
    "ExecuteTime": {
     "end_time": "2024-02-27T01:51:28.144141200Z",
     "start_time": "2024-02-27T01:51:28.120819900Z"
    }
   },
   "outputs": [
    {
     "data": {
      "text/plain": [
       "11022"
      ]
     },
     "execution_count": 3,
     "metadata": {},
     "output_type": "execute_result"
    }
   ],
   "source": [
    "len(box_scores)"
   ]
  },
  {
   "cell_type": "code",
   "execution_count": 4,
   "id": "50fe65c4-47df-432f-8a14-f8717e575074",
   "metadata": {
    "ExecuteTime": {
     "end_time": "2024-02-27T01:51:28.146141800Z",
     "start_time": "2024-02-27T01:51:28.128481800Z"
    }
   },
   "outputs": [],
   "source": [
    "def parse_html(box_score):\n",
    "    with open(box_score, \"rb\") as f:\n",
    "        try:\n",
    "            r_data = f.read()\n",
    "            encoding = chardet.detect(r_data)[\"encoding\"]\n",
    "            html = r_data.decode(encoding)\n",
    "        except Exception as e:\n",
    "            print(f\"html with this title: {box_score.title()} is probably empty....\", e)\n",
    "            return 0\n",
    "            \n",
    "    soup = BeautifulSoup(html, \"lxml\")\n",
    "    [s.decompose() for s in soup.select(\"tr.over_header\")]\n",
    "    [s.decompose() for s in soup.select(\"tr.thead\")]\n",
    "    return soup"
   ]
  },
  {
   "cell_type": "code",
   "execution_count": 5,
   "id": "085f57bf-91d8-462a-9997-6cf73a045058",
   "metadata": {
    "ExecuteTime": {
     "end_time": "2024-02-27T01:51:28.185795Z",
     "start_time": "2024-02-27T01:51:28.138143600Z"
    }
   },
   "outputs": [],
   "source": [
    "def read_season_info(soup):\n",
    "    nav = soup.select(\"#bottom_nav_container\")[0]\n",
    "    hrefs = [a[\"href\"] for a in nav.find_all('a')]\n",
    "    season = os.path.basename(hrefs[1]).split(\"_\")[0]\n",
    "    return season"
   ]
  },
  {
   "cell_type": "code",
   "execution_count": 6,
   "id": "48003645-4bbc-49d7-b30a-5747e751052d",
   "metadata": {
    "ExecuteTime": {
     "end_time": "2024-02-27T01:51:28.187799800Z",
     "start_time": "2024-02-27T01:51:28.155525900Z"
    }
   },
   "outputs": [],
   "source": [
    "def read_line_score(soup):\n",
    "    line_score = pd.read_html(StringIO(str(soup)), attrs = {'id': 'line_score'})[0]\n",
    "    cols = list(line_score.columns)\n",
    "    cols[0] = \"team\"\n",
    "    cols[-1] = \"total\"\n",
    "    line_score.columns = cols\n",
    "    \n",
    "    line_score = line_score[[\"team\", \"total\"]]\n",
    "    \n",
    "    return line_score"
   ]
  },
  {
   "cell_type": "code",
   "execution_count": 7,
   "id": "4d8574e0-9703-4d10-9ca3-d56c1249b651",
   "metadata": {
    "ExecuteTime": {
     "end_time": "2024-02-27T01:51:28.189800400Z",
     "start_time": "2024-02-27T01:51:28.163128400Z"
    }
   },
   "outputs": [],
   "source": [
    "def read_stats(soup, team, stat):\n",
    "    df = pd.read_html(StringIO(str(soup)), attrs = {'id': f'box-{team}-game-{stat}'}, index_col=0)[0]\n",
    "    df = df.apply(pd.to_numeric, errors=\"coerce\")\n",
    "    return df"
   ]
  },
  {
   "cell_type": "code",
   "execution_count": null,
   "id": "256f1eab-22d4-4396-8e4f-b7fb1ed10b5e",
   "metadata": {
    "ExecuteTime": {
     "end_time": "2024-02-27T02:03:40.086516Z",
     "start_time": "2024-02-27T01:51:28.181796400Z"
    }
   },
   "outputs": [],
   "source": [
    "games = []\n",
    "base_cols = None\n",
    "for box_score in box_scores:\n",
    "    soup = parse_html(box_score)\n",
    "    #indicates theres an html that has nothing, probably need to add something to delete that code...\n",
    "    if soup == 0:\n",
    "        continue\n",
    "    line_score = read_line_score(soup)\n",
    "    teams = list(line_score[\"team\"])\n",
    "\n",
    "    summaries = []\n",
    "    for team in teams:\n",
    "        basic = read_stats(soup, team, \"basic\")\n",
    "        advanced = read_stats(soup, team, \"advanced\")\n",
    "\n",
    "        totals = pd.concat([basic.iloc[-1,:], advanced.iloc[-1,:]])\n",
    "        totals.index = totals.index.str.lower()\n",
    "\n",
    "        maxes = pd.concat([basic.iloc[:-1].max(), advanced.iloc[:-1].max()])\n",
    "        maxes.index = maxes.index.str.lower() + \"_max\"\n",
    "\n",
    "        summary = pd.concat([totals, maxes])\n",
    "        \n",
    "        if base_cols is None:\n",
    "            base_cols = list(summary.index.drop_duplicates(keep=\"first\"))\n",
    "            base_cols = [b for b in base_cols if \"bpm\" not in b]\n",
    "        \n",
    "        summary = summary[base_cols] \n",
    "        \n",
    "        summaries.append(summary)\n",
    "    summary = pd.concat(summaries, axis=1).T\n",
    "\n",
    "    game = pd.concat([summary, line_score], axis=1)\n",
    "\n",
    "    game[\"home\"] = [0,1]\n",
    "\n",
    "    game_opp = game.iloc[::-1].reset_index()\n",
    "    game_opp.columns += \"_opp\"\n",
    "\n",
    "    full_game = pd.concat([game, game_opp], axis=1)\n",
    "    full_game[\"season\"] = read_season_info(soup)\n",
    "    \n",
    "    full_game[\"date\"] = os.path.basename(box_score)[:8]\n",
    "    full_game[\"date\"] = pd.to_datetime(full_game[\"date\"], format=\"%Y%m%d\")\n",
    "    \n",
    "    full_game[\"won\"] = full_game[\"total\"] > full_game[\"total_opp\"]\n",
    "    games.append(full_game)\n",
    "    \n",
    "    if len(games) % 100 == 0:\n",
    "        print(f\"{len(games)} / {len(box_scores)}\")"
   ]
  },
  {
   "cell_type": "code",
   "execution_count": null,
   "id": "7e3a6bc3-764c-4839-92f9-92049bac9147",
   "metadata": {
    "ExecuteTime": {
     "start_time": "2024-02-27T02:03:40.075622400Z"
    }
   },
   "outputs": [],
   "source": [
    "games_df = pd.concat(games, ignore_index=True)"
   ]
  },
  {
   "cell_type": "code",
   "execution_count": null,
   "id": "3fbf90f0-ba16-451b-b8cc-84408d47900b",
   "metadata": {
    "ExecuteTime": {
     "start_time": "2024-02-27T02:03:40.077848100Z"
    }
   },
   "outputs": [],
   "source": [
    "games_df"
   ]
  },
  {
   "cell_type": "code",
   "execution_count": null,
   "id": "92ca110e-a695-4425-98a6-6a485eef045f",
   "metadata": {
    "ExecuteTime": {
     "start_time": "2024-02-27T02:03:40.078358400Z"
    }
   },
   "outputs": [],
   "source": [
    "games_df.to_csv(\"../../data/raw/nba_games_runtime.csv\")"
   ]
  }
 ],
 "metadata": {
  "kernelspec": {
   "display_name": "Python 3 (ipykernel)",
   "language": "python",
   "name": "python3"
  },
  "language_info": {
   "codemirror_mode": {
    "name": "ipython",
    "version": 3
   },
   "file_extension": ".py",
   "mimetype": "text/x-python",
   "name": "python",
   "nbconvert_exporter": "python",
   "pygments_lexer": "ipython3",
   "version": "3.10.4"
  }
 },
 "nbformat": 4,
 "nbformat_minor": 5
}
