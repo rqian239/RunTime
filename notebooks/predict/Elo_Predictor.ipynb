{
 "cells": [
  {
   "cell_type": "markdown",
   "id": "0eb5eac7",
   "metadata": {},
   "source": [
    "# Elo Calculations Notebook\n",
    "\n",
    "In this notebook, we will devise a way to quickly compute the most up-to-date elo rating for a given team.\n",
    "\n",
    "Additionally, we will need to find a way to find to find the nearest future games so we may predict the winner. "
   ]
  },
  {
   "cell_type": "code",
   "execution_count": 29,
   "id": "initial_id",
   "metadata": {
    "ExecuteTime": {
     "end_time": "2024-04-17T20:50:05.895755800Z",
     "start_time": "2024-04-17T20:50:05.832509400Z"
    }
   },
   "outputs": [],
   "source": [
    "# Import statements\n",
    "import pandas as pd\n",
    "from datetime import datetime\n",
    "from nba_api.stats.static import teams\n",
    "\n",
    "from nba_api.stats.endpoints import teamgamelogs\n",
    "from nba_api.stats.endpoints import teaminfocommon"
   ]
  },
  {
   "cell_type": "code",
   "execution_count": 30,
   "id": "ce3373442fe79bb8",
   "metadata": {
    "ExecuteTime": {
     "end_time": "2024-04-17T20:50:06.729497300Z",
     "start_time": "2024-04-17T20:50:05.900757200Z"
    }
   },
   "outputs": [
    {
     "data": {
      "text/plain": "     SEASON_YEAR     TEAM_ID TEAM_ABBREVIATION               TEAM_NAME  \\\n0        2023-24  1610612750               MIN  Minnesota Timberwolves   \n1        2023-24  1610612761               TOR         Toronto Raptors   \n2        2023-24  1610612763               MEM       Memphis Grizzlies   \n3        2023-24  1610612740               NOP    New Orleans Pelicans   \n4        2023-24  1610612749               MIL         Milwaukee Bucks   \n...          ...         ...               ...                     ...   \n2455     2023-24  1610612751               BKN           Brooklyn Nets   \n2456     2023-24  1610612747               LAL      Los Angeles Lakers   \n2457     2023-24  1610612743               DEN          Denver Nuggets   \n2458     2023-24  1610612744               GSW   Golden State Warriors   \n2459     2023-24  1610612756               PHX            Phoenix Suns   \n\n         GAME_ID            GAME_DATE      MATCHUP WL   MIN  FGM  ...  \\\n0     0022301194  2024-04-14T00:00:00  MIN vs. PHX  L  48.0   36  ...   \n1     0022301189  2024-04-14T00:00:00    TOR @ MIA  L  48.0   38  ...   \n2     0022301193  2024-04-14T00:00:00  MEM vs. DEN  L  48.0   45  ...   \n3     0022301195  2024-04-14T00:00:00  NOP vs. LAL  L  48.0   41  ...   \n4     0022301191  2024-04-14T00:00:00    MIL @ ORL  L  48.0   30  ...   \n...          ...                  ...          ... ..   ...  ...  ...   \n2455  0022300067  2023-10-25T00:00:00  BKN vs. CLE  L  48.0   42  ...   \n2456  0022300061  2023-10-24T00:00:00    LAL @ DEN  L  48.0   41  ...   \n2457  0022300061  2023-10-24T00:00:00  DEN vs. LAL  W  48.0   48  ...   \n2458  0022300062  2023-10-24T00:00:00  GSW vs. PHX  L  48.0   36  ...   \n2459  0022300062  2023-10-24T00:00:00    PHX @ GSW  W  48.0   42  ...   \n\n      AST_RANK  TOV_RANK  STL_RANK  BLK_RANK  BLKA_RANK  PF_RANK  PFD_RANK  \\\n0         1932      2439      1161      1003        382     1442       195   \n1         1776      2204      1516      1752       1772     1672      1725   \n2         1932       991       553      2080       1096      968      1494   \n3         1241      2204       839      2322        382      737      2212   \n4         2430      1920       351      1367       1096      968      1254   \n...        ...       ...       ...       ...        ...      ...       ...   \n2455       535      2077      1516       690       1459      547       304   \n2456      1776       760      1865      1367       1459      968      1915   \n2457       678       760       553       690        710      381      1254   \n2458      2294       530       205       690       1772     2030       432   \n2459      1776      2204      1865       450       1459     1866       304   \n\n      PTS_RANK  PLUS_MINUS_RANK  AVAILABLE_FLAG  \n0         1773             2199               1  \n1         1977             2062               1  \n2         1413             2062               1  \n3         1635             2096               1  \n4         2412             2321               1  \n...        ...              ...             ...  \n2455      1243             1231               1  \n2456      1697             1915               1  \n2457       837              485               1  \n2458      1906             1402               1  \n2459      1635             1003               1  \n\n[2460 rows x 57 columns]",
      "text/html": "<div>\n<style scoped>\n    .dataframe tbody tr th:only-of-type {\n        vertical-align: middle;\n    }\n\n    .dataframe tbody tr th {\n        vertical-align: top;\n    }\n\n    .dataframe thead th {\n        text-align: right;\n    }\n</style>\n<table border=\"1\" class=\"dataframe\">\n  <thead>\n    <tr style=\"text-align: right;\">\n      <th></th>\n      <th>SEASON_YEAR</th>\n      <th>TEAM_ID</th>\n      <th>TEAM_ABBREVIATION</th>\n      <th>TEAM_NAME</th>\n      <th>GAME_ID</th>\n      <th>GAME_DATE</th>\n      <th>MATCHUP</th>\n      <th>WL</th>\n      <th>MIN</th>\n      <th>FGM</th>\n      <th>...</th>\n      <th>AST_RANK</th>\n      <th>TOV_RANK</th>\n      <th>STL_RANK</th>\n      <th>BLK_RANK</th>\n      <th>BLKA_RANK</th>\n      <th>PF_RANK</th>\n      <th>PFD_RANK</th>\n      <th>PTS_RANK</th>\n      <th>PLUS_MINUS_RANK</th>\n      <th>AVAILABLE_FLAG</th>\n    </tr>\n  </thead>\n  <tbody>\n    <tr>\n      <th>0</th>\n      <td>2023-24</td>\n      <td>1610612750</td>\n      <td>MIN</td>\n      <td>Minnesota Timberwolves</td>\n      <td>0022301194</td>\n      <td>2024-04-14T00:00:00</td>\n      <td>MIN vs. PHX</td>\n      <td>L</td>\n      <td>48.0</td>\n      <td>36</td>\n      <td>...</td>\n      <td>1932</td>\n      <td>2439</td>\n      <td>1161</td>\n      <td>1003</td>\n      <td>382</td>\n      <td>1442</td>\n      <td>195</td>\n      <td>1773</td>\n      <td>2199</td>\n      <td>1</td>\n    </tr>\n    <tr>\n      <th>1</th>\n      <td>2023-24</td>\n      <td>1610612761</td>\n      <td>TOR</td>\n      <td>Toronto Raptors</td>\n      <td>0022301189</td>\n      <td>2024-04-14T00:00:00</td>\n      <td>TOR @ MIA</td>\n      <td>L</td>\n      <td>48.0</td>\n      <td>38</td>\n      <td>...</td>\n      <td>1776</td>\n      <td>2204</td>\n      <td>1516</td>\n      <td>1752</td>\n      <td>1772</td>\n      <td>1672</td>\n      <td>1725</td>\n      <td>1977</td>\n      <td>2062</td>\n      <td>1</td>\n    </tr>\n    <tr>\n      <th>2</th>\n      <td>2023-24</td>\n      <td>1610612763</td>\n      <td>MEM</td>\n      <td>Memphis Grizzlies</td>\n      <td>0022301193</td>\n      <td>2024-04-14T00:00:00</td>\n      <td>MEM vs. DEN</td>\n      <td>L</td>\n      <td>48.0</td>\n      <td>45</td>\n      <td>...</td>\n      <td>1932</td>\n      <td>991</td>\n      <td>553</td>\n      <td>2080</td>\n      <td>1096</td>\n      <td>968</td>\n      <td>1494</td>\n      <td>1413</td>\n      <td>2062</td>\n      <td>1</td>\n    </tr>\n    <tr>\n      <th>3</th>\n      <td>2023-24</td>\n      <td>1610612740</td>\n      <td>NOP</td>\n      <td>New Orleans Pelicans</td>\n      <td>0022301195</td>\n      <td>2024-04-14T00:00:00</td>\n      <td>NOP vs. LAL</td>\n      <td>L</td>\n      <td>48.0</td>\n      <td>41</td>\n      <td>...</td>\n      <td>1241</td>\n      <td>2204</td>\n      <td>839</td>\n      <td>2322</td>\n      <td>382</td>\n      <td>737</td>\n      <td>2212</td>\n      <td>1635</td>\n      <td>2096</td>\n      <td>1</td>\n    </tr>\n    <tr>\n      <th>4</th>\n      <td>2023-24</td>\n      <td>1610612749</td>\n      <td>MIL</td>\n      <td>Milwaukee Bucks</td>\n      <td>0022301191</td>\n      <td>2024-04-14T00:00:00</td>\n      <td>MIL @ ORL</td>\n      <td>L</td>\n      <td>48.0</td>\n      <td>30</td>\n      <td>...</td>\n      <td>2430</td>\n      <td>1920</td>\n      <td>351</td>\n      <td>1367</td>\n      <td>1096</td>\n      <td>968</td>\n      <td>1254</td>\n      <td>2412</td>\n      <td>2321</td>\n      <td>1</td>\n    </tr>\n    <tr>\n      <th>...</th>\n      <td>...</td>\n      <td>...</td>\n      <td>...</td>\n      <td>...</td>\n      <td>...</td>\n      <td>...</td>\n      <td>...</td>\n      <td>...</td>\n      <td>...</td>\n      <td>...</td>\n      <td>...</td>\n      <td>...</td>\n      <td>...</td>\n      <td>...</td>\n      <td>...</td>\n      <td>...</td>\n      <td>...</td>\n      <td>...</td>\n      <td>...</td>\n      <td>...</td>\n      <td>...</td>\n    </tr>\n    <tr>\n      <th>2455</th>\n      <td>2023-24</td>\n      <td>1610612751</td>\n      <td>BKN</td>\n      <td>Brooklyn Nets</td>\n      <td>0022300067</td>\n      <td>2023-10-25T00:00:00</td>\n      <td>BKN vs. CLE</td>\n      <td>L</td>\n      <td>48.0</td>\n      <td>42</td>\n      <td>...</td>\n      <td>535</td>\n      <td>2077</td>\n      <td>1516</td>\n      <td>690</td>\n      <td>1459</td>\n      <td>547</td>\n      <td>304</td>\n      <td>1243</td>\n      <td>1231</td>\n      <td>1</td>\n    </tr>\n    <tr>\n      <th>2456</th>\n      <td>2023-24</td>\n      <td>1610612747</td>\n      <td>LAL</td>\n      <td>Los Angeles Lakers</td>\n      <td>0022300061</td>\n      <td>2023-10-24T00:00:00</td>\n      <td>LAL @ DEN</td>\n      <td>L</td>\n      <td>48.0</td>\n      <td>41</td>\n      <td>...</td>\n      <td>1776</td>\n      <td>760</td>\n      <td>1865</td>\n      <td>1367</td>\n      <td>1459</td>\n      <td>968</td>\n      <td>1915</td>\n      <td>1697</td>\n      <td>1915</td>\n      <td>1</td>\n    </tr>\n    <tr>\n      <th>2457</th>\n      <td>2023-24</td>\n      <td>1610612743</td>\n      <td>DEN</td>\n      <td>Denver Nuggets</td>\n      <td>0022300061</td>\n      <td>2023-10-24T00:00:00</td>\n      <td>DEN vs. LAL</td>\n      <td>W</td>\n      <td>48.0</td>\n      <td>48</td>\n      <td>...</td>\n      <td>678</td>\n      <td>760</td>\n      <td>553</td>\n      <td>690</td>\n      <td>710</td>\n      <td>381</td>\n      <td>1254</td>\n      <td>837</td>\n      <td>485</td>\n      <td>1</td>\n    </tr>\n    <tr>\n      <th>2458</th>\n      <td>2023-24</td>\n      <td>1610612744</td>\n      <td>GSW</td>\n      <td>Golden State Warriors</td>\n      <td>0022300062</td>\n      <td>2023-10-24T00:00:00</td>\n      <td>GSW vs. PHX</td>\n      <td>L</td>\n      <td>48.0</td>\n      <td>36</td>\n      <td>...</td>\n      <td>2294</td>\n      <td>530</td>\n      <td>205</td>\n      <td>690</td>\n      <td>1772</td>\n      <td>2030</td>\n      <td>432</td>\n      <td>1906</td>\n      <td>1402</td>\n      <td>1</td>\n    </tr>\n    <tr>\n      <th>2459</th>\n      <td>2023-24</td>\n      <td>1610612756</td>\n      <td>PHX</td>\n      <td>Phoenix Suns</td>\n      <td>0022300062</td>\n      <td>2023-10-24T00:00:00</td>\n      <td>PHX @ GSW</td>\n      <td>W</td>\n      <td>48.0</td>\n      <td>42</td>\n      <td>...</td>\n      <td>1776</td>\n      <td>2204</td>\n      <td>1865</td>\n      <td>450</td>\n      <td>1459</td>\n      <td>1866</td>\n      <td>304</td>\n      <td>1635</td>\n      <td>1003</td>\n      <td>1</td>\n    </tr>\n  </tbody>\n</table>\n<p>2460 rows × 57 columns</p>\n</div>"
     },
     "execution_count": 30,
     "metadata": {},
     "output_type": "execute_result"
    }
   ],
   "source": [
    "teamGameLogs = teamgamelogs.TeamGameLogs(season_nullable='2023-24')\n",
    "df = teamGameLogs.get_data_frames()[0]\n",
    "\n",
    "df"
   ]
  },
  {
   "cell_type": "code",
   "execution_count": 31,
   "id": "ab2508e48ba18f38",
   "metadata": {
    "ExecuteTime": {
     "end_time": "2024-04-17T20:50:06.729497300Z",
     "start_time": "2024-04-17T20:50:06.719454700Z"
    }
   },
   "outputs": [],
   "source": [
    "# Set initial Elo ratings manually\n",
    "\n",
    "initial_elo = dict()  # Create a dictionary to hold initial elos\n",
    "\n",
    "# ELO RATINGS AT START OF 2023-24 SEASON, from https://neilpaine.substack.com/p/2023-24-nba-elo-ratings\n",
    "initial_elo[\"ATL\"] = 1500\n",
    "initial_elo[\"BKN\"] = 1431\n",
    "initial_elo[\"BOS\"] = 1771\n",
    "initial_elo[\"CHA\"] = 1291\n",
    "initial_elo[\"CHI\"] = 1471\n",
    "initial_elo[\"CLE\"] = 1556\n",
    "initial_elo[\"DAL\"] = 1636\n",
    "initial_elo[\"DEN\"] = 1650\n",
    "initial_elo[\"DET\"] = 1287\n",
    "initial_elo[\"GSW\"] = 1603\n",
    "initial_elo[\"HOU\"] = 1531\n",
    "initial_elo[\"IND\"] = 1583\n",
    "initial_elo[\"LAC\"] = 1543\n",
    "initial_elo[\"LAL\"] = 1571\n",
    "initial_elo[\"MEM\"] = 1326\n",
    "initial_elo[\"MIA\"] = 1555\n",
    "initial_elo[\"MIL\"] = 1584\n",
    "initial_elo[\"MIN\"] = 1674\n",
    "initial_elo[\"NOP\"] = 1606\n",
    "initial_elo[\"NYK\"] = 1569\n",
    "initial_elo[\"OKC\"] = 1631\n",
    "initial_elo[\"ORL\"] = 1529\n",
    "initial_elo[\"PHI\"] = 1483\n",
    "initial_elo[\"PHX\"] = 1613\n",
    "initial_elo[\"POR\"] = 1300\n",
    "initial_elo[\"SAC\"] = 1546\n",
    "initial_elo[\"SAS\"] = 1372\n",
    "initial_elo[\"TOR\"] = 1291\n",
    "initial_elo[\"UTA\"] = 1365\n",
    "initial_elo[\"WAS\"] = 1282"
   ]
  },
  {
   "cell_type": "code",
   "execution_count": 32,
   "id": "36488977",
   "metadata": {
    "ExecuteTime": {
     "end_time": "2024-04-17T20:50:06.764607600Z",
     "start_time": "2024-04-17T20:50:06.723498200Z"
    }
   },
   "outputs": [
    {
     "data": {
      "text/plain": "     SEASON_YEAR     TEAM_ID TEAM_ABBREVIATION               TEAM_NAME  \\\n0        2023-24  1610612756               PHX            Phoenix Suns   \n1        2023-24  1610612747               LAL      Los Angeles Lakers   \n2        2023-24  1610612744               GSW   Golden State Warriors   \n3        2023-24  1610612743               DEN          Denver Nuggets   \n4        2023-24  1610612751               BKN           Brooklyn Nets   \n...          ...         ...               ...                     ...   \n2455     2023-24  1610612742               DAL        Dallas Mavericks   \n2456     2023-24  1610612760               OKC   Oklahoma City Thunder   \n2457     2023-24  1610612746               LAC             LA Clippers   \n2458     2023-24  1610612744               GSW   Golden State Warriors   \n2459     2023-24  1610612750               MIN  Minnesota Timberwolves   \n\n         GAME_ID  GAME_DATE      MATCHUP WL   MIN  FGM  ...  AST_RANK  \\\n0     0022300062 2023-10-24    PHX @ GSW  W  48.0   42  ...      1776   \n1     0022300061 2023-10-24    LAL @ DEN  L  48.0   41  ...      1776   \n2     0022300062 2023-10-24  GSW vs. PHX  L  48.0   36  ...      2294   \n3     0022300061 2023-10-24  DEN vs. LAL  W  48.0   48  ...       678   \n4     0022300067 2023-10-25  BKN vs. CLE  L  48.0   42  ...       535   \n...          ...        ...          ... ..   ...  ...  ...       ...   \n2455  0022301196 2024-04-14    DAL @ OKC  L  48.0   32  ...      2294   \n2456  0022301196 2024-04-14  OKC vs. DAL  W  48.0   54  ...        31   \n2457  0022301199 2024-04-14  LAC vs. HOU  L  48.0   41  ...      1776   \n2458  0022301198 2024-04-14  GSW vs. UTA  W  48.0   45  ...       121   \n2459  0022301194 2024-04-14  MIN vs. PHX  L  48.0   36  ...      1932   \n\n      TOV_RANK  STL_RANK  BLK_RANK  BLKA_RANK  PF_RANK  PFD_RANK  PTS_RANK  \\\n0         2204      1865       450       1459     1866       304      1635   \n1          760      1865      1367       1459      968      1915      1697   \n2          530       205       690       1772     2030       432      1906   \n3          760       553       690        710      381      1254       837   \n4         2077      1516       690       1459      547       304      1243   \n...        ...       ...       ...        ...      ...       ...       ...   \n2455      1500       839      2080       1459      381      1494      2430   \n2456      1500      1516       690        140      737      1915       121   \n2457       760        59       267       2012      250      2212      1840   \n2458       199       351       690       1096      250       790       583   \n2459      2439      1161      1003        382     1442       195      1773   \n\n      PLUS_MINUS_RANK  AVAILABLE_FLAG  \n0                1003               1  \n1                1915               1  \n2                1402               1  \n3                 485               1  \n4                1231               1  \n...               ...             ...  \n2455             2453               1  \n2456                8               1  \n2457             1864               1  \n2458              792               1  \n2459             2199               1  \n\n[2460 rows x 57 columns]",
      "text/html": "<div>\n<style scoped>\n    .dataframe tbody tr th:only-of-type {\n        vertical-align: middle;\n    }\n\n    .dataframe tbody tr th {\n        vertical-align: top;\n    }\n\n    .dataframe thead th {\n        text-align: right;\n    }\n</style>\n<table border=\"1\" class=\"dataframe\">\n  <thead>\n    <tr style=\"text-align: right;\">\n      <th></th>\n      <th>SEASON_YEAR</th>\n      <th>TEAM_ID</th>\n      <th>TEAM_ABBREVIATION</th>\n      <th>TEAM_NAME</th>\n      <th>GAME_ID</th>\n      <th>GAME_DATE</th>\n      <th>MATCHUP</th>\n      <th>WL</th>\n      <th>MIN</th>\n      <th>FGM</th>\n      <th>...</th>\n      <th>AST_RANK</th>\n      <th>TOV_RANK</th>\n      <th>STL_RANK</th>\n      <th>BLK_RANK</th>\n      <th>BLKA_RANK</th>\n      <th>PF_RANK</th>\n      <th>PFD_RANK</th>\n      <th>PTS_RANK</th>\n      <th>PLUS_MINUS_RANK</th>\n      <th>AVAILABLE_FLAG</th>\n    </tr>\n  </thead>\n  <tbody>\n    <tr>\n      <th>0</th>\n      <td>2023-24</td>\n      <td>1610612756</td>\n      <td>PHX</td>\n      <td>Phoenix Suns</td>\n      <td>0022300062</td>\n      <td>2023-10-24</td>\n      <td>PHX @ GSW</td>\n      <td>W</td>\n      <td>48.0</td>\n      <td>42</td>\n      <td>...</td>\n      <td>1776</td>\n      <td>2204</td>\n      <td>1865</td>\n      <td>450</td>\n      <td>1459</td>\n      <td>1866</td>\n      <td>304</td>\n      <td>1635</td>\n      <td>1003</td>\n      <td>1</td>\n    </tr>\n    <tr>\n      <th>1</th>\n      <td>2023-24</td>\n      <td>1610612747</td>\n      <td>LAL</td>\n      <td>Los Angeles Lakers</td>\n      <td>0022300061</td>\n      <td>2023-10-24</td>\n      <td>LAL @ DEN</td>\n      <td>L</td>\n      <td>48.0</td>\n      <td>41</td>\n      <td>...</td>\n      <td>1776</td>\n      <td>760</td>\n      <td>1865</td>\n      <td>1367</td>\n      <td>1459</td>\n      <td>968</td>\n      <td>1915</td>\n      <td>1697</td>\n      <td>1915</td>\n      <td>1</td>\n    </tr>\n    <tr>\n      <th>2</th>\n      <td>2023-24</td>\n      <td>1610612744</td>\n      <td>GSW</td>\n      <td>Golden State Warriors</td>\n      <td>0022300062</td>\n      <td>2023-10-24</td>\n      <td>GSW vs. PHX</td>\n      <td>L</td>\n      <td>48.0</td>\n      <td>36</td>\n      <td>...</td>\n      <td>2294</td>\n      <td>530</td>\n      <td>205</td>\n      <td>690</td>\n      <td>1772</td>\n      <td>2030</td>\n      <td>432</td>\n      <td>1906</td>\n      <td>1402</td>\n      <td>1</td>\n    </tr>\n    <tr>\n      <th>3</th>\n      <td>2023-24</td>\n      <td>1610612743</td>\n      <td>DEN</td>\n      <td>Denver Nuggets</td>\n      <td>0022300061</td>\n      <td>2023-10-24</td>\n      <td>DEN vs. LAL</td>\n      <td>W</td>\n      <td>48.0</td>\n      <td>48</td>\n      <td>...</td>\n      <td>678</td>\n      <td>760</td>\n      <td>553</td>\n      <td>690</td>\n      <td>710</td>\n      <td>381</td>\n      <td>1254</td>\n      <td>837</td>\n      <td>485</td>\n      <td>1</td>\n    </tr>\n    <tr>\n      <th>4</th>\n      <td>2023-24</td>\n      <td>1610612751</td>\n      <td>BKN</td>\n      <td>Brooklyn Nets</td>\n      <td>0022300067</td>\n      <td>2023-10-25</td>\n      <td>BKN vs. CLE</td>\n      <td>L</td>\n      <td>48.0</td>\n      <td>42</td>\n      <td>...</td>\n      <td>535</td>\n      <td>2077</td>\n      <td>1516</td>\n      <td>690</td>\n      <td>1459</td>\n      <td>547</td>\n      <td>304</td>\n      <td>1243</td>\n      <td>1231</td>\n      <td>1</td>\n    </tr>\n    <tr>\n      <th>...</th>\n      <td>...</td>\n      <td>...</td>\n      <td>...</td>\n      <td>...</td>\n      <td>...</td>\n      <td>...</td>\n      <td>...</td>\n      <td>...</td>\n      <td>...</td>\n      <td>...</td>\n      <td>...</td>\n      <td>...</td>\n      <td>...</td>\n      <td>...</td>\n      <td>...</td>\n      <td>...</td>\n      <td>...</td>\n      <td>...</td>\n      <td>...</td>\n      <td>...</td>\n      <td>...</td>\n    </tr>\n    <tr>\n      <th>2455</th>\n      <td>2023-24</td>\n      <td>1610612742</td>\n      <td>DAL</td>\n      <td>Dallas Mavericks</td>\n      <td>0022301196</td>\n      <td>2024-04-14</td>\n      <td>DAL @ OKC</td>\n      <td>L</td>\n      <td>48.0</td>\n      <td>32</td>\n      <td>...</td>\n      <td>2294</td>\n      <td>1500</td>\n      <td>839</td>\n      <td>2080</td>\n      <td>1459</td>\n      <td>381</td>\n      <td>1494</td>\n      <td>2430</td>\n      <td>2453</td>\n      <td>1</td>\n    </tr>\n    <tr>\n      <th>2456</th>\n      <td>2023-24</td>\n      <td>1610612760</td>\n      <td>OKC</td>\n      <td>Oklahoma City Thunder</td>\n      <td>0022301196</td>\n      <td>2024-04-14</td>\n      <td>OKC vs. DAL</td>\n      <td>W</td>\n      <td>48.0</td>\n      <td>54</td>\n      <td>...</td>\n      <td>31</td>\n      <td>1500</td>\n      <td>1516</td>\n      <td>690</td>\n      <td>140</td>\n      <td>737</td>\n      <td>1915</td>\n      <td>121</td>\n      <td>8</td>\n      <td>1</td>\n    </tr>\n    <tr>\n      <th>2457</th>\n      <td>2023-24</td>\n      <td>1610612746</td>\n      <td>LAC</td>\n      <td>LA Clippers</td>\n      <td>0022301199</td>\n      <td>2024-04-14</td>\n      <td>LAC vs. HOU</td>\n      <td>L</td>\n      <td>48.0</td>\n      <td>41</td>\n      <td>...</td>\n      <td>1776</td>\n      <td>760</td>\n      <td>59</td>\n      <td>267</td>\n      <td>2012</td>\n      <td>250</td>\n      <td>2212</td>\n      <td>1840</td>\n      <td>1864</td>\n      <td>1</td>\n    </tr>\n    <tr>\n      <th>2458</th>\n      <td>2023-24</td>\n      <td>1610612744</td>\n      <td>GSW</td>\n      <td>Golden State Warriors</td>\n      <td>0022301198</td>\n      <td>2024-04-14</td>\n      <td>GSW vs. UTA</td>\n      <td>W</td>\n      <td>48.0</td>\n      <td>45</td>\n      <td>...</td>\n      <td>121</td>\n      <td>199</td>\n      <td>351</td>\n      <td>690</td>\n      <td>1096</td>\n      <td>250</td>\n      <td>790</td>\n      <td>583</td>\n      <td>792</td>\n      <td>1</td>\n    </tr>\n    <tr>\n      <th>2459</th>\n      <td>2023-24</td>\n      <td>1610612750</td>\n      <td>MIN</td>\n      <td>Minnesota Timberwolves</td>\n      <td>0022301194</td>\n      <td>2024-04-14</td>\n      <td>MIN vs. PHX</td>\n      <td>L</td>\n      <td>48.0</td>\n      <td>36</td>\n      <td>...</td>\n      <td>1932</td>\n      <td>2439</td>\n      <td>1161</td>\n      <td>1003</td>\n      <td>382</td>\n      <td>1442</td>\n      <td>195</td>\n      <td>1773</td>\n      <td>2199</td>\n      <td>1</td>\n    </tr>\n  </tbody>\n</table>\n<p>2460 rows × 57 columns</p>\n</div>"
     },
     "execution_count": 32,
     "metadata": {},
     "output_type": "execute_result"
    }
   ],
   "source": [
    "##Sort games by date\n",
    "df['GAME_DATE'] = pd.to_datetime(df['GAME_DATE'])\n",
    "df = df.sort_values(\"GAME_DATE\")\n",
    "df = df.reset_index(drop=True) # drop old index\n",
    "df"
   ]
  },
  {
   "cell_type": "code",
   "outputs": [],
   "source": [
    "# Functions to calculate and retrieve elos\n",
    "\n",
    "# retrieve the previous elo\n",
    "def get_prev_elo(team, date, season, stats_df, elo_df):\n",
    "    # Get row of previous game\n",
    "    prev_game = stats_df[(stats_df[\"GAME_DATE\"] < date) & (stats_df[\"TEAM_ABBREVIATION\"] == team)].sort_values(by=\"GAME_DATE\").tail(1).iloc[0]\n",
    "    \n",
    "    # Extract the elo from that game\n",
    "    elo_rating = elo_df[(elo_df[\"date\"] == prev_game[\"GAME_DATE\"]) & (elo_df[\"team\"] == prev_game['TEAM_ABBREVIATION']) & (elo_df[\"team_opp\"] == team_opponent(prev_game[\"GAME_ID\"], prev_game[\"TEAM_ABBREVIATION\"]))]['team_elo_after'].values[0]\n",
    "    \n",
    "    if prev_game[\"SEASON_YEAR\"] != season:\n",
    "        return (0.75 * elo_rating) + (0.25 * 1505) # This is how elo ratings are carried over to next season\n",
    "    else:\n",
    "        return elo_rating\n",
    "\n",
    "def get_recent_elo(team_abbv):\n",
    "    # Ensure the 'date' column is in the correct datetime format (if not already)\n",
    "    elo_df['date'] = pd.to_datetime(elo_df['date'])\n",
    "    \n",
    "    # Filter the DataFrame for rows matching the specific team\n",
    "    team_data = elo_df[elo_df[\"team\"] == team_abbv]\n",
    "    \n",
    "    # Find the most recent date in the filtered DataFrame\n",
    "    most_recent_date = team_data['date'].max()\n",
    "    \n",
    "    # Filter the DataFrame again for rows that match the most recent date for the team\n",
    "    elo_df_now = team_data[team_data[\"date\"] == most_recent_date]\n",
    "    \n",
    "    # Return the 'team_elo_after' value for the most recent date\n",
    "    # Using .iloc[-1] to ensure we get the last (or only) record if there are multiple games on the most recent date\n",
    "    return elo_df_now[\"team_elo_after\"].iloc[0]\n",
    "\n",
    "def calculate_expected_win_probability(team_elo_rating, team_opp_elo_rating):\n",
    "    E_team = 1./(1 + 10 ** ((team_opp_elo_rating - team_elo_rating) / (400.)))\n",
    "    return E_team\n",
    "    \n",
    "def S_var(team_pts, opp_pts):\n",
    "    S_team, S_opp = 0, 0\n",
    "    \n",
    "    if team_pts > opp_pts:\n",
    "        S_team = 1\n",
    "    elif opp_pts > team_pts:\n",
    "        S_opp = 1\n",
    "    else:\n",
    "        S_team, S_opp = 0.5, 0.5\n",
    "    \n",
    "    return S_team, S_opp\n",
    "\n",
    "# Compute the moving K constant from Silver's formula\n",
    "def K_constant(MOV, elo_diff):\n",
    "    K_0 = 20\n",
    "    \n",
    "    if MOV > 0:  # if \"team\" is the winner\n",
    "        multiplier = ((MOV + 3)**(0.8)) / (7.5 + 0.006*(elo_diff))\n",
    "    else:  # if \"team_opp\" is the winner\n",
    "        multiplier = ((-MOV + 3)**(0.8)) / (7.5 + 0.006*(-elo_diff))  # note how we have to flip the elo_diff and make MOV positive\n",
    "    \n",
    "    return K_0 * multiplier\n",
    "\n",
    "\n",
    "def update_elo(team_pts, opp_pts, team_elo_before, team_opp_elo_before, home):\n",
    "    \n",
    "    # In Silver's elo calculations, home advantage is accounted for by increasing the home team elo rating by 100 for the E and K calculations\n",
    "    home_court_advantage = 100\n",
    "    \n",
    "    # Add the home court advantage (we will need to remove this later)\n",
    "    if home == 1:\n",
    "        team_elo_before += home_court_advantage\n",
    "    else:\n",
    "        team_opp_elo_before += home_court_advantage\n",
    "    \n",
    "    E_team = calculate_expected_win_probability(team_elo_before, team_opp_elo_before)\n",
    "    E_team_opp = 1 - E_team\n",
    "    \n",
    "    elo_diff = team_elo_before - team_opp_elo_before\n",
    "    \n",
    "    # MOV = Margin of Victory\n",
    "    MOV = team_pts - opp_pts\n",
    "    \n",
    "    # S variable in Silver's equation, value for was the winner\n",
    "    S_team, S_opp = S_var(team_pts, opp_pts)\n",
    "    \n",
    "    # K constant\n",
    "    K = K_constant(MOV, elo_diff)\n",
    "    \n",
    "    # Remove the home court advantage (we are done calculating the different variables, revert to true elo)\n",
    "    if home == 1:\n",
    "        team_elo_before -= home_court_advantage\n",
    "    else:\n",
    "        team_opp_elo_before -= home_court_advantage\n",
    "    \n",
    "    # Calculate the elos (which is a recursive formula)\n",
    "    team_elo_after = team_elo_before + K * (S_team - E_team)\n",
    "    team_opp_elo_after = team_opp_elo_before + K * (S_opp - E_team_opp)\n",
    "    \n",
    "    return team_elo_after, team_opp_elo_after\n",
    "\n",
    "def team_opponent(game_id, team_we_know):\n",
    "    # this function should spew out the opposing team\n",
    "    df_opponent = df[(df['GAME_ID'] == game_id) & (df['TEAM_ABBREVIATION'] != team_we_know)]\n",
    "    opponent = df_opponent['TEAM_ABBREVIATION'].iloc[0] \n",
    "    return opponent\n",
    "\n",
    "def are_they_home(matchup):\n",
    "    if \"@\" in matchup:\n",
    "        return 0\n",
    "    else:\n",
    "        return 1\n",
    "    \n",
    "def team_opponent_pts(game_id, team_we_know):\n",
    "    df_opponent = df[(df['GAME_ID'] == game_id) & (df['TEAM_ABBREVIATION'] != team_we_know)]\n",
    "    team_pts = df_opponent['PTS'].iloc[0] \n",
    "    return team_pts\n",
    "\n",
    "# Silver's point spread formula\n",
    "def point_spread(team_elo, opp_elo):\n",
    "    elo_diff = team_elo - opp_elo\n",
    "    return elo_diff / 28.\n",
    "\n",
    "\n",
    "# Formula for season wins from polynomial regression\n",
    "def project_season_wins(elo):\n",
    "    return (-0.000000185006724245061 * (elo ** 3) + 0.000835470379387845 * (elo ** 2) - 1.15355230436639 * (\n",
    "        elo) + 515.526317931045)\n",
    "    "
   ],
   "metadata": {
    "collapsed": false,
    "ExecuteTime": {
     "end_time": "2024-04-17T20:50:06.784128500Z",
     "start_time": "2024-04-17T20:50:06.758095100Z"
    }
   },
   "id": "6cdc43e8ffb62bc0",
   "execution_count": 33
  },
  {
   "cell_type": "code",
   "outputs": [],
   "source": [
    "#spews dataframe of 1 row with stats that include: teams, winner, point differential, what percantage they have of winning per team\n",
    "\n",
    "#function for fantasy games\n",
    "def get_winner(team_abbv1, team_abbv2):\n",
    "    team_elo_1 = get_recent_elo(team_abbv1)\n",
    "    team_elo_2 = get_recent_elo(team_abbv2)\n",
    "    winner = team_abbv1\n",
    "    if team_elo_1 < team_elo_2:\n",
    "        winner = team_abbv2\n",
    "    if winner == team_abbv1:    \n",
    "        win_prob =  calculate_expected_win_probability(team_elo_1, team_elo_2)\n",
    "        point_spread_new = point_spread(team_elo_1, team_elo_2)\n",
    "    else:\n",
    "        win_prob = calculate_expected_win_probability(team_elo_2, team_elo_1)\n",
    "        point_spread_new = point_spread(team_elo_2, team_elo_1)\n",
    "    data = {'Team1':[team_abbv1], 'Team2':[team_abbv2], 'Expected_Winner':[winner], 'Winner_Probability':[win_prob], 'Point_Spread':[point_spread_new]}\n",
    "    new_df = pd.DataFrame(data)\n",
    "    return new_df "
   ],
   "metadata": {
    "collapsed": false,
    "ExecuteTime": {
     "end_time": "2024-04-17T20:50:06.816723900Z",
     "start_time": "2024-04-17T20:50:06.764607600Z"
    }
   },
   "id": "2180d60ce0c3c8c5",
   "execution_count": 34
  },
  {
   "cell_type": "code",
   "outputs": [
    {
     "name": "stderr",
     "output_type": "stream",
     "text": [
      "C:\\Users\\Bryan Hernandez\\AppData\\Local\\Temp\\ipykernel_11272\\2334855630.py:59: FutureWarning: The behavior of DataFrame concatenation with empty or all-NA entries is deprecated. In a future version, this will no longer exclude empty or all-NA columns when determining the result dtypes. To retain the old behavior, exclude the relevant entries before the concat operation.\n",
      "  elo_df = pd.concat([elo_df, new_row], ignore_index=True)\n"
     ]
    },
    {
     "name": "stdout",
     "output_type": "stream",
     "text": [
      "Processed 1000/2460\n",
      "Processed 2000/2460\n"
     ]
    }
   ],
   "source": [
    "# Define the data types for the columns in the DataFrame\n",
    "dtype = {\n",
    "    'date': str, \n",
    "    'season': str, \n",
    "    'team': str, \n",
    "    'team_opp': str, \n",
    "    'team_elo_before': float, \n",
    "    'team_opp_elo_before': float, \n",
    "    'team_elo_after': float, \n",
    "    'team_opp_elo_after': float,\n",
    "    'home': bool  # Assuming this column represents whether the team is playing at home\n",
    "}\n",
    "\n",
    "# Create DataFrames to store elo calculations for each game and elos for each team\n",
    "elo_df = pd.DataFrame(columns=dtype.keys()).astype(dtype)\n",
    "\n",
    "row_count = 0\n",
    "\n",
    "for index, row in df.iterrows():\n",
    "    game_date = row[\"GAME_DATE\"]\n",
    "    season = row[\"SEASON_YEAR\"]\n",
    "    team = row[\"TEAM_ABBREVIATION\"]\n",
    "    \n",
    "    team_opp = team_opponent(row[\"GAME_ID\"], row[\"TEAM_ABBREVIATION\"]) ##TODO: based on game_id, figure out who opponent is for that game\n",
    "    is_this_team_home = are_they_home(row[\"MATCHUP\"]) ##TODO: another function, using the matchup and '@' and vs. symbol to find which team was home\n",
    "    \n",
    "    team_pts = row[\"PTS\"]\n",
    "    opp_pts = team_opponent_pts(row[\"GAME_ID\"], row[\"TEAM_ABBREVIATION\"])##TODO: using game_id, find pts of opposing team\n",
    "    \n",
    "    # Check if we need to initialize the elo\n",
    "    if (team not in elo_df[\"team\"].values):\n",
    "        team_starting_elo = initial_elo[team]\n",
    "        team_elo_before = team_starting_elo\n",
    "    else:\n",
    "        team_elo_before = get_prev_elo(team, game_date, season, df, elo_df)\n",
    "    \n",
    "    if (team_opp not in elo_df[\"team_opp\"].values):\n",
    "        team_opp_starting_elo = initial_elo[team_opp]\n",
    "        team_opp_elo_before = team_opp_starting_elo\n",
    "    else:\n",
    "        team_opp_elo_before = get_prev_elo(team_opp, game_date, season, df, elo_df)\n",
    "    \n",
    "    team_elo_after, team_opp_elo_after = update_elo(team_pts, opp_pts, team_elo_before, team_opp_elo_before, is_this_team_home)\n",
    "    \n",
    "    new_row_in_elo_df = {\n",
    "        \"date\": game_date, \n",
    "        \"season\": season, \n",
    "        \"team\": team, \n",
    "        \"team_opp\": team_opp, \n",
    "        \"team_elo_before\": team_elo_before, \n",
    "        \"team_opp_elo_before\": team_opp_elo_before, \n",
    "        \"team_elo_after\": team_elo_after, \n",
    "        \"team_opp_elo_after\": team_opp_elo_after,\n",
    "        \"home\": is_this_team_home\n",
    "    }\n",
    "    \n",
    "    new_row = pd.DataFrame([new_row_in_elo_df])\n",
    "    \n",
    "    elo_df = pd.concat([elo_df, new_row], ignore_index=True)\n",
    "    \n",
    "    row_count += 1\n",
    "    \n",
    "    if(row_count % 1000 == 0):\n",
    "        print(f\"Processed {row_count}/{len(df)}\")"
   ],
   "metadata": {
    "collapsed": false,
    "ExecuteTime": {
     "end_time": "2024-04-17T20:50:20.639203600Z",
     "start_time": "2024-04-17T20:50:06.779611500Z"
    }
   },
   "id": "54d385af5136c6f9",
   "execution_count": 35
  },
  {
   "cell_type": "code",
   "outputs": [
    {
     "data": {
      "text/plain": "           date   season team team_opp  team_elo_before  team_opp_elo_before  \\\n0    2023-10-24  2023-24  PHX      GSW      1613.000000          1603.000000   \n1    2023-10-24  2023-24  LAL      DEN      1571.000000          1650.000000   \n2    2023-10-24  2023-24  GSW      PHX      1603.000000          1613.000000   \n3    2023-10-24  2023-24  DEN      LAL      1650.000000          1571.000000   \n4    2023-10-25  2023-24  BKN      CLE      1431.000000          1556.000000   \n...         ...      ...  ...      ...              ...                  ...   \n2455 2024-04-14  2023-24  DAL      OKC      1627.955296          1644.380361   \n2456 2024-04-14  2023-24  OKC      DAL      1644.380361          1627.955296   \n2457 2024-04-14  2023-24  LAC      HOU      1557.937333          1512.394595   \n2458 2024-04-14  2023-24  GSW      UTA      1634.569595          1364.077615   \n2459 2024-04-14  2023-24  MIN      PHX      1692.528952          1628.127623   \n\n      team_elo_after  team_opp_elo_after  home  \n0        1621.541974         1594.458026     0  \n1        1565.645931         1655.354069     0  \n2        1594.458026         1621.541974     1  \n3        1655.354069         1565.645931     1  \n4        1427.321987         1559.678013     1  \n...              ...                 ...   ...  \n2455     1608.475080         1663.860577     0  \n2456     1663.860577         1608.475080     1  \n2457     1540.539698         1529.792229     1  \n2458     1635.944778         1362.702432     1  \n2459     1666.304163         1654.352412     1  \n\n[2460 rows x 9 columns]",
      "text/html": "<div>\n<style scoped>\n    .dataframe tbody tr th:only-of-type {\n        vertical-align: middle;\n    }\n\n    .dataframe tbody tr th {\n        vertical-align: top;\n    }\n\n    .dataframe thead th {\n        text-align: right;\n    }\n</style>\n<table border=\"1\" class=\"dataframe\">\n  <thead>\n    <tr style=\"text-align: right;\">\n      <th></th>\n      <th>date</th>\n      <th>season</th>\n      <th>team</th>\n      <th>team_opp</th>\n      <th>team_elo_before</th>\n      <th>team_opp_elo_before</th>\n      <th>team_elo_after</th>\n      <th>team_opp_elo_after</th>\n      <th>home</th>\n    </tr>\n  </thead>\n  <tbody>\n    <tr>\n      <th>0</th>\n      <td>2023-10-24</td>\n      <td>2023-24</td>\n      <td>PHX</td>\n      <td>GSW</td>\n      <td>1613.000000</td>\n      <td>1603.000000</td>\n      <td>1621.541974</td>\n      <td>1594.458026</td>\n      <td>0</td>\n    </tr>\n    <tr>\n      <th>1</th>\n      <td>2023-10-24</td>\n      <td>2023-24</td>\n      <td>LAL</td>\n      <td>DEN</td>\n      <td>1571.000000</td>\n      <td>1650.000000</td>\n      <td>1565.645931</td>\n      <td>1655.354069</td>\n      <td>0</td>\n    </tr>\n    <tr>\n      <th>2</th>\n      <td>2023-10-24</td>\n      <td>2023-24</td>\n      <td>GSW</td>\n      <td>PHX</td>\n      <td>1603.000000</td>\n      <td>1613.000000</td>\n      <td>1594.458026</td>\n      <td>1621.541974</td>\n      <td>1</td>\n    </tr>\n    <tr>\n      <th>3</th>\n      <td>2023-10-24</td>\n      <td>2023-24</td>\n      <td>DEN</td>\n      <td>LAL</td>\n      <td>1650.000000</td>\n      <td>1571.000000</td>\n      <td>1655.354069</td>\n      <td>1565.645931</td>\n      <td>1</td>\n    </tr>\n    <tr>\n      <th>4</th>\n      <td>2023-10-25</td>\n      <td>2023-24</td>\n      <td>BKN</td>\n      <td>CLE</td>\n      <td>1431.000000</td>\n      <td>1556.000000</td>\n      <td>1427.321987</td>\n      <td>1559.678013</td>\n      <td>1</td>\n    </tr>\n    <tr>\n      <th>...</th>\n      <td>...</td>\n      <td>...</td>\n      <td>...</td>\n      <td>...</td>\n      <td>...</td>\n      <td>...</td>\n      <td>...</td>\n      <td>...</td>\n      <td>...</td>\n    </tr>\n    <tr>\n      <th>2455</th>\n      <td>2024-04-14</td>\n      <td>2023-24</td>\n      <td>DAL</td>\n      <td>OKC</td>\n      <td>1627.955296</td>\n      <td>1644.380361</td>\n      <td>1608.475080</td>\n      <td>1663.860577</td>\n      <td>0</td>\n    </tr>\n    <tr>\n      <th>2456</th>\n      <td>2024-04-14</td>\n      <td>2023-24</td>\n      <td>OKC</td>\n      <td>DAL</td>\n      <td>1644.380361</td>\n      <td>1627.955296</td>\n      <td>1663.860577</td>\n      <td>1608.475080</td>\n      <td>1</td>\n    </tr>\n    <tr>\n      <th>2457</th>\n      <td>2024-04-14</td>\n      <td>2023-24</td>\n      <td>LAC</td>\n      <td>HOU</td>\n      <td>1557.937333</td>\n      <td>1512.394595</td>\n      <td>1540.539698</td>\n      <td>1529.792229</td>\n      <td>1</td>\n    </tr>\n    <tr>\n      <th>2458</th>\n      <td>2024-04-14</td>\n      <td>2023-24</td>\n      <td>GSW</td>\n      <td>UTA</td>\n      <td>1634.569595</td>\n      <td>1364.077615</td>\n      <td>1635.944778</td>\n      <td>1362.702432</td>\n      <td>1</td>\n    </tr>\n    <tr>\n      <th>2459</th>\n      <td>2024-04-14</td>\n      <td>2023-24</td>\n      <td>MIN</td>\n      <td>PHX</td>\n      <td>1692.528952</td>\n      <td>1628.127623</td>\n      <td>1666.304163</td>\n      <td>1654.352412</td>\n      <td>1</td>\n    </tr>\n  </tbody>\n</table>\n<p>2460 rows × 9 columns</p>\n</div>"
     },
     "execution_count": 36,
     "metadata": {},
     "output_type": "execute_result"
    }
   ],
   "source": [
    "elo_df"
   ],
   "metadata": {
    "collapsed": false,
    "ExecuteTime": {
     "end_time": "2024-04-17T20:50:20.659414300Z",
     "start_time": "2024-04-17T20:50:20.640205400Z"
    }
   },
   "id": "1e5de57a7cfb0d59",
   "execution_count": 36
  },
  {
   "cell_type": "code",
   "outputs": [
    {
     "name": "stdout",
     "output_type": "stream",
     "text": [
      "1654.35241243539\n"
     ]
    }
   ],
   "source": [
    "print(get_recent_elo(\"PHX\"))"
   ],
   "metadata": {
    "collapsed": false,
    "ExecuteTime": {
     "end_time": "2024-04-17T20:50:20.660417Z",
     "start_time": "2024-04-17T20:50:20.649724500Z"
    }
   },
   "id": "900ba711b6dbecf4",
   "execution_count": 37
  },
  {
   "cell_type": "code",
   "outputs": [
    {
     "name": "stdout",
     "output_type": "stream",
     "text": [
      "  Team1 Team2 Expected_Winner  Winner_Probability  Point_Spread\n",
      "0   CLE   PHX             PHX            0.685293       4.82815\n"
     ]
    }
   ],
   "source": [
    "print(get_winner(\"CLE\", \"PHX\"))"
   ],
   "metadata": {
    "collapsed": false,
    "ExecuteTime": {
     "end_time": "2024-04-17T20:50:20.699639500Z",
     "start_time": "2024-04-17T20:50:20.658413Z"
    }
   },
   "id": "66ecd86bc1da7b3d",
   "execution_count": 38
  },
  {
   "cell_type": "code",
   "outputs": [],
   "source": [],
   "metadata": {
    "collapsed": false,
    "ExecuteTime": {
     "end_time": "2024-04-17T20:50:20.699639500Z",
     "start_time": "2024-04-17T20:50:20.676593500Z"
    }
   },
   "id": "314341ae3705a50b",
   "execution_count": 38
  }
 ],
 "metadata": {
  "kernelspec": {
   "display_name": "Python 3 (ipykernel)",
   "language": "python",
   "name": "python3"
  },
  "language_info": {
   "codemirror_mode": {
    "name": "ipython",
    "version": 3
   },
   "file_extension": ".py",
   "mimetype": "text/x-python",
   "name": "python",
   "nbconvert_exporter": "python",
   "pygments_lexer": "ipython3",
   "version": "3.10.4"
  }
 },
 "nbformat": 4,
 "nbformat_minor": 5
}
