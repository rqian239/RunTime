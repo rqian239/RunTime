{
 "cells": [
  {
   "cell_type": "markdown",
   "id": "0eb5eac7",
   "metadata": {},
   "source": [
    "# Elo Calculations Notebook\n",
    "\n",
    "In this notebook, we will devise a way to quickly compute the most up-to-date elo rating for a given team.\n",
    "\n",
    "Additionally, we will need to find a way to find to find the nearest future games so we may predict the winner. "
   ]
  },
  {
   "cell_type": "code",
   "execution_count": 102,
   "id": "initial_id",
   "metadata": {
    "ExecuteTime": {
     "end_time": "2024-04-09T23:10:45.587243800Z",
     "start_time": "2024-04-09T23:10:45.561010800Z"
    }
   },
   "outputs": [],
   "source": [
    "# Import statements\n",
    "import pandas as pd\n",
    "from datetime import datetime\n",
    "from nba_api.stats.static import teams\n",
    "\n",
    "from nba_api.stats.endpoints import teamgamelogs\n",
    "from nba_api.stats.endpoints import teaminfocommon"
   ]
  },
  {
   "cell_type": "code",
   "execution_count": 103,
   "id": "ce3373442fe79bb8",
   "metadata": {
    "ExecuteTime": {
     "end_time": "2024-04-09T23:10:46.572964600Z",
     "start_time": "2024-04-09T23:10:45.589245100Z"
    }
   },
   "outputs": [
    {
     "data": {
      "text/plain": "     SEASON_YEAR     TEAM_ID TEAM_ABBREVIATION               TEAM_NAME  \\\n0        2023-24  1610612756               PHX            Phoenix Suns   \n1        2023-24  1610612753               ORL           Orlando Magic   \n2        2023-24  1610612744               GSW   Golden State Warriors   \n3        2023-24  1610612740               NOP    New Orleans Pelicans   \n4        2023-24  1610612757               POR  Portland Trail Blazers   \n...          ...         ...               ...                     ...   \n2341     2023-24  1610612748               MIA              Miami Heat   \n2342     2023-24  1610612743               DEN          Denver Nuggets   \n2343     2023-24  1610612747               LAL      Los Angeles Lakers   \n2344     2023-24  1610612744               GSW   Golden State Warriors   \n2345     2023-24  1610612756               PHX            Phoenix Suns   \n\n         GAME_ID            GAME_DATE      MATCHUP WL   MIN  FGM  ...  \\\n0     0022301138  2024-04-07T00:00:00  PHX vs. NOP  L  48.0   39  ...   \n1     0022301136  2024-04-07T00:00:00  ORL vs. CHI  W  48.0   42  ...   \n2     0022301142  2024-04-07T00:00:00  GSW vs. UTA  W  48.0   49  ...   \n3     0022301138  2024-04-07T00:00:00    NOP @ PHX  W  48.0   40  ...   \n4     0022301134  2024-04-07T00:00:00    POR @ BOS  L  48.0   40  ...   \n...          ...                  ...          ... ..   ...  ...  ...   \n2341  0022300068  2023-10-25T00:00:00  MIA vs. DET  W  48.0   37  ...   \n2342  0022300061  2023-10-24T00:00:00  DEN vs. LAL  W  48.0   48  ...   \n2343  0022300061  2023-10-24T00:00:00    LAL @ DEN  L  48.0   41  ...   \n2344  0022300062  2023-10-24T00:00:00  GSW vs. PHX  L  48.0   36  ...   \n2345  0022300062  2023-10-24T00:00:00    PHX @ GSW  W  48.0   42  ...   \n\n      AST_RANK  TOV_RANK  STL_RANK  BLK_RANK  BLKA_RANK  PF_RANK  PFD_RANK  \\\n0          511      1644      1095       256       1686      681      1447   \n1         1515       324        99      1305       1044      681      1447   \n2          313      1644       520       256       1388     1131      2332   \n3         1185      1180       791       431       1917      681      1447   \n4         1185      1438       791      1989       1917       68      2220   \n...        ...       ...       ...       ...        ...      ...       ...   \n2341      1846        49       190      1676       2335      901       299   \n2342       649       732       520       662        672      347      1217   \n2343      1700       732      1773      1305       1388      901      1845   \n2344      2190       505       190       662       1686     1923       425   \n2345      1700      2104      1773       431       1388     1765       299   \n\n      PTS_RANK  PLUS_MINUS_RANK  AVAILABLE_FLAG  \n0         1755             1598               1  \n1         1188              345               1  \n2          860              680               1  \n3         1188              680               1  \n4         1623             2045               1  \n...        ...              ...             ...  \n2341      1886             1133               1  \n2342       797              458               1  \n2343      1623             1832               1  \n2344      1817             1336               1  \n2345      1564              957               1  \n\n[2346 rows x 57 columns]",
      "text/html": "<div>\n<style scoped>\n    .dataframe tbody tr th:only-of-type {\n        vertical-align: middle;\n    }\n\n    .dataframe tbody tr th {\n        vertical-align: top;\n    }\n\n    .dataframe thead th {\n        text-align: right;\n    }\n</style>\n<table border=\"1\" class=\"dataframe\">\n  <thead>\n    <tr style=\"text-align: right;\">\n      <th></th>\n      <th>SEASON_YEAR</th>\n      <th>TEAM_ID</th>\n      <th>TEAM_ABBREVIATION</th>\n      <th>TEAM_NAME</th>\n      <th>GAME_ID</th>\n      <th>GAME_DATE</th>\n      <th>MATCHUP</th>\n      <th>WL</th>\n      <th>MIN</th>\n      <th>FGM</th>\n      <th>...</th>\n      <th>AST_RANK</th>\n      <th>TOV_RANK</th>\n      <th>STL_RANK</th>\n      <th>BLK_RANK</th>\n      <th>BLKA_RANK</th>\n      <th>PF_RANK</th>\n      <th>PFD_RANK</th>\n      <th>PTS_RANK</th>\n      <th>PLUS_MINUS_RANK</th>\n      <th>AVAILABLE_FLAG</th>\n    </tr>\n  </thead>\n  <tbody>\n    <tr>\n      <th>0</th>\n      <td>2023-24</td>\n      <td>1610612756</td>\n      <td>PHX</td>\n      <td>Phoenix Suns</td>\n      <td>0022301138</td>\n      <td>2024-04-07T00:00:00</td>\n      <td>PHX vs. NOP</td>\n      <td>L</td>\n      <td>48.0</td>\n      <td>39</td>\n      <td>...</td>\n      <td>511</td>\n      <td>1644</td>\n      <td>1095</td>\n      <td>256</td>\n      <td>1686</td>\n      <td>681</td>\n      <td>1447</td>\n      <td>1755</td>\n      <td>1598</td>\n      <td>1</td>\n    </tr>\n    <tr>\n      <th>1</th>\n      <td>2023-24</td>\n      <td>1610612753</td>\n      <td>ORL</td>\n      <td>Orlando Magic</td>\n      <td>0022301136</td>\n      <td>2024-04-07T00:00:00</td>\n      <td>ORL vs. CHI</td>\n      <td>W</td>\n      <td>48.0</td>\n      <td>42</td>\n      <td>...</td>\n      <td>1515</td>\n      <td>324</td>\n      <td>99</td>\n      <td>1305</td>\n      <td>1044</td>\n      <td>681</td>\n      <td>1447</td>\n      <td>1188</td>\n      <td>345</td>\n      <td>1</td>\n    </tr>\n    <tr>\n      <th>2</th>\n      <td>2023-24</td>\n      <td>1610612744</td>\n      <td>GSW</td>\n      <td>Golden State Warriors</td>\n      <td>0022301142</td>\n      <td>2024-04-07T00:00:00</td>\n      <td>GSW vs. UTA</td>\n      <td>W</td>\n      <td>48.0</td>\n      <td>49</td>\n      <td>...</td>\n      <td>313</td>\n      <td>1644</td>\n      <td>520</td>\n      <td>256</td>\n      <td>1388</td>\n      <td>1131</td>\n      <td>2332</td>\n      <td>860</td>\n      <td>680</td>\n      <td>1</td>\n    </tr>\n    <tr>\n      <th>3</th>\n      <td>2023-24</td>\n      <td>1610612740</td>\n      <td>NOP</td>\n      <td>New Orleans Pelicans</td>\n      <td>0022301138</td>\n      <td>2024-04-07T00:00:00</td>\n      <td>NOP @ PHX</td>\n      <td>W</td>\n      <td>48.0</td>\n      <td>40</td>\n      <td>...</td>\n      <td>1185</td>\n      <td>1180</td>\n      <td>791</td>\n      <td>431</td>\n      <td>1917</td>\n      <td>681</td>\n      <td>1447</td>\n      <td>1188</td>\n      <td>680</td>\n      <td>1</td>\n    </tr>\n    <tr>\n      <th>4</th>\n      <td>2023-24</td>\n      <td>1610612757</td>\n      <td>POR</td>\n      <td>Portland Trail Blazers</td>\n      <td>0022301134</td>\n      <td>2024-04-07T00:00:00</td>\n      <td>POR @ BOS</td>\n      <td>L</td>\n      <td>48.0</td>\n      <td>40</td>\n      <td>...</td>\n      <td>1185</td>\n      <td>1438</td>\n      <td>791</td>\n      <td>1989</td>\n      <td>1917</td>\n      <td>68</td>\n      <td>2220</td>\n      <td>1623</td>\n      <td>2045</td>\n      <td>1</td>\n    </tr>\n    <tr>\n      <th>...</th>\n      <td>...</td>\n      <td>...</td>\n      <td>...</td>\n      <td>...</td>\n      <td>...</td>\n      <td>...</td>\n      <td>...</td>\n      <td>...</td>\n      <td>...</td>\n      <td>...</td>\n      <td>...</td>\n      <td>...</td>\n      <td>...</td>\n      <td>...</td>\n      <td>...</td>\n      <td>...</td>\n      <td>...</td>\n      <td>...</td>\n      <td>...</td>\n      <td>...</td>\n      <td>...</td>\n    </tr>\n    <tr>\n      <th>2341</th>\n      <td>2023-24</td>\n      <td>1610612748</td>\n      <td>MIA</td>\n      <td>Miami Heat</td>\n      <td>0022300068</td>\n      <td>2023-10-25T00:00:00</td>\n      <td>MIA vs. DET</td>\n      <td>W</td>\n      <td>48.0</td>\n      <td>37</td>\n      <td>...</td>\n      <td>1846</td>\n      <td>49</td>\n      <td>190</td>\n      <td>1676</td>\n      <td>2335</td>\n      <td>901</td>\n      <td>299</td>\n      <td>1886</td>\n      <td>1133</td>\n      <td>1</td>\n    </tr>\n    <tr>\n      <th>2342</th>\n      <td>2023-24</td>\n      <td>1610612743</td>\n      <td>DEN</td>\n      <td>Denver Nuggets</td>\n      <td>0022300061</td>\n      <td>2023-10-24T00:00:00</td>\n      <td>DEN vs. LAL</td>\n      <td>W</td>\n      <td>48.0</td>\n      <td>48</td>\n      <td>...</td>\n      <td>649</td>\n      <td>732</td>\n      <td>520</td>\n      <td>662</td>\n      <td>672</td>\n      <td>347</td>\n      <td>1217</td>\n      <td>797</td>\n      <td>458</td>\n      <td>1</td>\n    </tr>\n    <tr>\n      <th>2343</th>\n      <td>2023-24</td>\n      <td>1610612747</td>\n      <td>LAL</td>\n      <td>Los Angeles Lakers</td>\n      <td>0022300061</td>\n      <td>2023-10-24T00:00:00</td>\n      <td>LAL @ DEN</td>\n      <td>L</td>\n      <td>48.0</td>\n      <td>41</td>\n      <td>...</td>\n      <td>1700</td>\n      <td>732</td>\n      <td>1773</td>\n      <td>1305</td>\n      <td>1388</td>\n      <td>901</td>\n      <td>1845</td>\n      <td>1623</td>\n      <td>1832</td>\n      <td>1</td>\n    </tr>\n    <tr>\n      <th>2344</th>\n      <td>2023-24</td>\n      <td>1610612744</td>\n      <td>GSW</td>\n      <td>Golden State Warriors</td>\n      <td>0022300062</td>\n      <td>2023-10-24T00:00:00</td>\n      <td>GSW vs. PHX</td>\n      <td>L</td>\n      <td>48.0</td>\n      <td>36</td>\n      <td>...</td>\n      <td>2190</td>\n      <td>505</td>\n      <td>190</td>\n      <td>662</td>\n      <td>1686</td>\n      <td>1923</td>\n      <td>425</td>\n      <td>1817</td>\n      <td>1336</td>\n      <td>1</td>\n    </tr>\n    <tr>\n      <th>2345</th>\n      <td>2023-24</td>\n      <td>1610612756</td>\n      <td>PHX</td>\n      <td>Phoenix Suns</td>\n      <td>0022300062</td>\n      <td>2023-10-24T00:00:00</td>\n      <td>PHX @ GSW</td>\n      <td>W</td>\n      <td>48.0</td>\n      <td>42</td>\n      <td>...</td>\n      <td>1700</td>\n      <td>2104</td>\n      <td>1773</td>\n      <td>431</td>\n      <td>1388</td>\n      <td>1765</td>\n      <td>299</td>\n      <td>1564</td>\n      <td>957</td>\n      <td>1</td>\n    </tr>\n  </tbody>\n</table>\n<p>2346 rows × 57 columns</p>\n</div>"
     },
     "execution_count": 103,
     "metadata": {},
     "output_type": "execute_result"
    }
   ],
   "source": [
    "teamGameLogs = teamgamelogs.TeamGameLogs(season_nullable='2023-24')\n",
    "df = teamGameLogs.get_data_frames()[0]\n",
    "\n",
    "df"
   ]
  },
  {
   "cell_type": "code",
   "execution_count": 104,
   "id": "ab2508e48ba18f38",
   "metadata": {
    "ExecuteTime": {
     "end_time": "2024-04-09T23:10:46.585282800Z",
     "start_time": "2024-04-09T23:10:46.575472100Z"
    }
   },
   "outputs": [],
   "source": [
    "# Set initial Elo ratings manually\n",
    "\n",
    "initial_elo = dict()  # Create a dictionary to hold initial elos\n",
    "\n",
    "# ELO RATINGS AT START OF 2023-24 SEASON, from https://neilpaine.substack.com/p/2023-24-nba-elo-ratings\n",
    "initial_elo[\"ATL\"] = 1500\n",
    "initial_elo[\"BKN\"] = 1431\n",
    "initial_elo[\"BOS\"] = 1771\n",
    "initial_elo[\"CHA\"] = 1291\n",
    "initial_elo[\"CHI\"] = 1471\n",
    "initial_elo[\"CLE\"] = 1556\n",
    "initial_elo[\"DAL\"] = 1636\n",
    "initial_elo[\"DEN\"] = 1650\n",
    "initial_elo[\"DET\"] = 1287\n",
    "initial_elo[\"GSW\"] = 1603\n",
    "initial_elo[\"HOU\"] = 1531\n",
    "initial_elo[\"IND\"] = 1583\n",
    "initial_elo[\"LAC\"] = 1543\n",
    "initial_elo[\"LAL\"] = 1571\n",
    "initial_elo[\"MEM\"] = 1326\n",
    "initial_elo[\"MIA\"] = 1555\n",
    "initial_elo[\"MIL\"] = 1584\n",
    "initial_elo[\"MIN\"] = 1674\n",
    "initial_elo[\"NOP\"] = 1606\n",
    "initial_elo[\"NYK\"] = 1569\n",
    "initial_elo[\"OKC\"] = 1631\n",
    "initial_elo[\"ORL\"] = 1529\n",
    "initial_elo[\"PHI\"] = 1483\n",
    "initial_elo[\"PHX\"] = 1613\n",
    "initial_elo[\"POR\"] = 1300\n",
    "initial_elo[\"SAC\"] = 1546\n",
    "initial_elo[\"SAS\"] = 1372\n",
    "initial_elo[\"TOR\"] = 1291\n",
    "initial_elo[\"UTA\"] = 1365\n",
    "initial_elo[\"WAS\"] = 1282"
   ]
  },
  {
   "cell_type": "code",
   "execution_count": 105,
   "id": "36488977",
   "metadata": {
    "ExecuteTime": {
     "end_time": "2024-04-09T23:10:46.621803500Z",
     "start_time": "2024-04-09T23:10:46.580268200Z"
    }
   },
   "outputs": [
    {
     "data": {
      "text/plain": "     SEASON_YEAR     TEAM_ID TEAM_ABBREVIATION              TEAM_NAME  \\\n0        2023-24  1610612756               PHX           Phoenix Suns   \n1        2023-24  1610612743               DEN         Denver Nuggets   \n2        2023-24  1610612744               GSW  Golden State Warriors   \n3        2023-24  1610612747               LAL     Los Angeles Lakers   \n4        2023-24  1610612758               SAC       Sacramento Kings   \n...          ...         ...               ...                    ...   \n2341     2023-24  1610612742               DAL       Dallas Mavericks   \n2342     2023-24  1610612748               MIA             Miami Heat   \n2343     2023-24  1610612739               CLE    Cleveland Cavaliers   \n2344     2023-24  1610612745               HOU        Houston Rockets   \n2345     2023-24  1610612756               PHX           Phoenix Suns   \n\n         GAME_ID  GAME_DATE      MATCHUP WL   MIN  FGM  ...  AST_RANK  \\\n0     0022300062 2023-10-24    PHX @ GSW  W  48.0   42  ...      1700   \n1     0022300061 2023-10-24  DEN vs. LAL  W  48.0   48  ...       649   \n2     0022300062 2023-10-24  GSW vs. PHX  L  48.0   36  ...      2190   \n3     0022300061 2023-10-24    LAL @ DEN  L  48.0   41  ...      1700   \n4     0022300072 2023-10-25    SAC @ UTA  W  48.0   47  ...       649   \n...          ...        ...          ... ..   ...  ...  ...       ...   \n2341  0022301131 2024-04-07  DAL vs. HOU  W  53.0   46  ...      1971   \n2342  0022301133 2024-04-07    MIA @ IND  L  48.0   39  ...      1971   \n2343  0022301132 2024-04-07    CLE @ LAC  L  48.0   42  ...       985   \n2344  0022301131 2024-04-07    HOU @ DAL  L  53.0   46  ...       405   \n2345  0022301138 2024-04-07  PHX vs. NOP  L  48.0   39  ...       511   \n\n      TOV_RANK  STL_RANK  BLK_RANK  BLKA_RANK  PF_RANK  PFD_RANK  PTS_RANK  \\\n0         2104      1773       431       1388     1765       299      1564   \n1          732       520       662        672      347      1217       797   \n2          505       190       662       1686     1923       425      1817   \n3          732      1773      1305       1388      901      1845      1623   \n4          732      1435       256        131     2156       769       240   \n...        ...       ...       ...        ...      ...       ...       ...   \n2341      1835      2002       662       1388     2224         1        13   \n2342        49      2177      1989       1388     1765       192      1063   \n2343       505       326      1989        131      503       425       860   \n2344       505       190       662       1388     2343        85       102   \n2345      1644      1095       256       1686      681      1447      1755   \n\n      PLUS_MINUS_RANK  AVAILABLE_FLAG  \n0                 957               1  \n1                 458               1  \n2                1336               1  \n3                1832               1  \n4                 303               1  \n...               ...             ...  \n2341              516               1  \n2342             1215               1  \n2343             1215               1  \n2344             1783               1  \n2345             1598               1  \n\n[2346 rows x 57 columns]",
      "text/html": "<div>\n<style scoped>\n    .dataframe tbody tr th:only-of-type {\n        vertical-align: middle;\n    }\n\n    .dataframe tbody tr th {\n        vertical-align: top;\n    }\n\n    .dataframe thead th {\n        text-align: right;\n    }\n</style>\n<table border=\"1\" class=\"dataframe\">\n  <thead>\n    <tr style=\"text-align: right;\">\n      <th></th>\n      <th>SEASON_YEAR</th>\n      <th>TEAM_ID</th>\n      <th>TEAM_ABBREVIATION</th>\n      <th>TEAM_NAME</th>\n      <th>GAME_ID</th>\n      <th>GAME_DATE</th>\n      <th>MATCHUP</th>\n      <th>WL</th>\n      <th>MIN</th>\n      <th>FGM</th>\n      <th>...</th>\n      <th>AST_RANK</th>\n      <th>TOV_RANK</th>\n      <th>STL_RANK</th>\n      <th>BLK_RANK</th>\n      <th>BLKA_RANK</th>\n      <th>PF_RANK</th>\n      <th>PFD_RANK</th>\n      <th>PTS_RANK</th>\n      <th>PLUS_MINUS_RANK</th>\n      <th>AVAILABLE_FLAG</th>\n    </tr>\n  </thead>\n  <tbody>\n    <tr>\n      <th>0</th>\n      <td>2023-24</td>\n      <td>1610612756</td>\n      <td>PHX</td>\n      <td>Phoenix Suns</td>\n      <td>0022300062</td>\n      <td>2023-10-24</td>\n      <td>PHX @ GSW</td>\n      <td>W</td>\n      <td>48.0</td>\n      <td>42</td>\n      <td>...</td>\n      <td>1700</td>\n      <td>2104</td>\n      <td>1773</td>\n      <td>431</td>\n      <td>1388</td>\n      <td>1765</td>\n      <td>299</td>\n      <td>1564</td>\n      <td>957</td>\n      <td>1</td>\n    </tr>\n    <tr>\n      <th>1</th>\n      <td>2023-24</td>\n      <td>1610612743</td>\n      <td>DEN</td>\n      <td>Denver Nuggets</td>\n      <td>0022300061</td>\n      <td>2023-10-24</td>\n      <td>DEN vs. LAL</td>\n      <td>W</td>\n      <td>48.0</td>\n      <td>48</td>\n      <td>...</td>\n      <td>649</td>\n      <td>732</td>\n      <td>520</td>\n      <td>662</td>\n      <td>672</td>\n      <td>347</td>\n      <td>1217</td>\n      <td>797</td>\n      <td>458</td>\n      <td>1</td>\n    </tr>\n    <tr>\n      <th>2</th>\n      <td>2023-24</td>\n      <td>1610612744</td>\n      <td>GSW</td>\n      <td>Golden State Warriors</td>\n      <td>0022300062</td>\n      <td>2023-10-24</td>\n      <td>GSW vs. PHX</td>\n      <td>L</td>\n      <td>48.0</td>\n      <td>36</td>\n      <td>...</td>\n      <td>2190</td>\n      <td>505</td>\n      <td>190</td>\n      <td>662</td>\n      <td>1686</td>\n      <td>1923</td>\n      <td>425</td>\n      <td>1817</td>\n      <td>1336</td>\n      <td>1</td>\n    </tr>\n    <tr>\n      <th>3</th>\n      <td>2023-24</td>\n      <td>1610612747</td>\n      <td>LAL</td>\n      <td>Los Angeles Lakers</td>\n      <td>0022300061</td>\n      <td>2023-10-24</td>\n      <td>LAL @ DEN</td>\n      <td>L</td>\n      <td>48.0</td>\n      <td>41</td>\n      <td>...</td>\n      <td>1700</td>\n      <td>732</td>\n      <td>1773</td>\n      <td>1305</td>\n      <td>1388</td>\n      <td>901</td>\n      <td>1845</td>\n      <td>1623</td>\n      <td>1832</td>\n      <td>1</td>\n    </tr>\n    <tr>\n      <th>4</th>\n      <td>2023-24</td>\n      <td>1610612758</td>\n      <td>SAC</td>\n      <td>Sacramento Kings</td>\n      <td>0022300072</td>\n      <td>2023-10-25</td>\n      <td>SAC @ UTA</td>\n      <td>W</td>\n      <td>48.0</td>\n      <td>47</td>\n      <td>...</td>\n      <td>649</td>\n      <td>732</td>\n      <td>1435</td>\n      <td>256</td>\n      <td>131</td>\n      <td>2156</td>\n      <td>769</td>\n      <td>240</td>\n      <td>303</td>\n      <td>1</td>\n    </tr>\n    <tr>\n      <th>...</th>\n      <td>...</td>\n      <td>...</td>\n      <td>...</td>\n      <td>...</td>\n      <td>...</td>\n      <td>...</td>\n      <td>...</td>\n      <td>...</td>\n      <td>...</td>\n      <td>...</td>\n      <td>...</td>\n      <td>...</td>\n      <td>...</td>\n      <td>...</td>\n      <td>...</td>\n      <td>...</td>\n      <td>...</td>\n      <td>...</td>\n      <td>...</td>\n      <td>...</td>\n      <td>...</td>\n    </tr>\n    <tr>\n      <th>2341</th>\n      <td>2023-24</td>\n      <td>1610612742</td>\n      <td>DAL</td>\n      <td>Dallas Mavericks</td>\n      <td>0022301131</td>\n      <td>2024-04-07</td>\n      <td>DAL vs. HOU</td>\n      <td>W</td>\n      <td>53.0</td>\n      <td>46</td>\n      <td>...</td>\n      <td>1971</td>\n      <td>1835</td>\n      <td>2002</td>\n      <td>662</td>\n      <td>1388</td>\n      <td>2224</td>\n      <td>1</td>\n      <td>13</td>\n      <td>516</td>\n      <td>1</td>\n    </tr>\n    <tr>\n      <th>2342</th>\n      <td>2023-24</td>\n      <td>1610612748</td>\n      <td>MIA</td>\n      <td>Miami Heat</td>\n      <td>0022301133</td>\n      <td>2024-04-07</td>\n      <td>MIA @ IND</td>\n      <td>L</td>\n      <td>48.0</td>\n      <td>39</td>\n      <td>...</td>\n      <td>1971</td>\n      <td>49</td>\n      <td>2177</td>\n      <td>1989</td>\n      <td>1388</td>\n      <td>1765</td>\n      <td>192</td>\n      <td>1063</td>\n      <td>1215</td>\n      <td>1</td>\n    </tr>\n    <tr>\n      <th>2343</th>\n      <td>2023-24</td>\n      <td>1610612739</td>\n      <td>CLE</td>\n      <td>Cleveland Cavaliers</td>\n      <td>0022301132</td>\n      <td>2024-04-07</td>\n      <td>CLE @ LAC</td>\n      <td>L</td>\n      <td>48.0</td>\n      <td>42</td>\n      <td>...</td>\n      <td>985</td>\n      <td>505</td>\n      <td>326</td>\n      <td>1989</td>\n      <td>131</td>\n      <td>503</td>\n      <td>425</td>\n      <td>860</td>\n      <td>1215</td>\n      <td>1</td>\n    </tr>\n    <tr>\n      <th>2344</th>\n      <td>2023-24</td>\n      <td>1610612745</td>\n      <td>HOU</td>\n      <td>Houston Rockets</td>\n      <td>0022301131</td>\n      <td>2024-04-07</td>\n      <td>HOU @ DAL</td>\n      <td>L</td>\n      <td>53.0</td>\n      <td>46</td>\n      <td>...</td>\n      <td>405</td>\n      <td>505</td>\n      <td>190</td>\n      <td>662</td>\n      <td>1388</td>\n      <td>2343</td>\n      <td>85</td>\n      <td>102</td>\n      <td>1783</td>\n      <td>1</td>\n    </tr>\n    <tr>\n      <th>2345</th>\n      <td>2023-24</td>\n      <td>1610612756</td>\n      <td>PHX</td>\n      <td>Phoenix Suns</td>\n      <td>0022301138</td>\n      <td>2024-04-07</td>\n      <td>PHX vs. NOP</td>\n      <td>L</td>\n      <td>48.0</td>\n      <td>39</td>\n      <td>...</td>\n      <td>511</td>\n      <td>1644</td>\n      <td>1095</td>\n      <td>256</td>\n      <td>1686</td>\n      <td>681</td>\n      <td>1447</td>\n      <td>1755</td>\n      <td>1598</td>\n      <td>1</td>\n    </tr>\n  </tbody>\n</table>\n<p>2346 rows × 57 columns</p>\n</div>"
     },
     "execution_count": 105,
     "metadata": {},
     "output_type": "execute_result"
    }
   ],
   "source": [
    "##Sort games by date\n",
    "df['GAME_DATE'] = pd.to_datetime(df['GAME_DATE'])\n",
    "df = df.sort_values(\"GAME_DATE\")\n",
    "df = df.reset_index(drop=True) # drop old index\n",
    "df"
   ]
  },
  {
   "cell_type": "code",
   "outputs": [],
   "source": [
    "# Functions to calculate and retrieve elos\n",
    "\n",
    "# retrieve the previous elo\n",
    "def get_prev_elo(team, date, season, stats_df, elo_df):\n",
    "    # Get row of previous game\n",
    "    prev_game = stats_df[(stats_df[\"GAME_DATE\"] < date) & (stats_df[\"TEAM_ABBREVIATION\"] == team)].sort_values(by=\"GAME_DATE\").tail(1).iloc[0]\n",
    "    \n",
    "    # Extract the elo from that game\n",
    "    elo_rating = elo_df[(elo_df[\"date\"] == prev_game[\"GAME_DATE\"]) & (elo_df[\"team\"] == prev_game['TEAM_ABBREVIATION']) & (elo_df[\"team_opp\"] == team_opponent(prev_game[\"GAME_ID\"], prev_game[\"TEAM_ABBREVIATION\"]))]['team_elo_after'].values[0]\n",
    "    \n",
    "    if prev_game[\"SEASON_YEAR\"] != season:\n",
    "        return (0.75 * elo_rating) + (0.25 * 1505) # This is how elo ratings are carried over to next season\n",
    "    else:\n",
    "        return elo_rating\n",
    "    \n",
    "def calculate_expected_win_probability(team_elo_rating, team_opp_elo_rating):\n",
    "    E_team = 1./(1 + 10 ** ((team_opp_elo_rating - team_elo_rating) / (400.)))\n",
    "    return E_team\n",
    "    \n",
    "def S_var(team_pts, opp_pts):\n",
    "    S_team, S_opp = 0, 0\n",
    "    \n",
    "    if team_pts > opp_pts:\n",
    "        S_team = 1\n",
    "    elif opp_pts > team_pts:\n",
    "        S_opp = 1\n",
    "    else:\n",
    "        S_team, S_opp = 0.5, 0.5\n",
    "    \n",
    "    return S_team, S_opp\n",
    "\n",
    "# Compute the moving K constant from Silver's formula\n",
    "def K_constant(MOV, elo_diff):\n",
    "    K_0 = 20\n",
    "    \n",
    "    if MOV > 0:  # if \"team\" is the winner\n",
    "        multiplier = ((MOV + 3)**(0.8)) / (7.5 + 0.006*(elo_diff))\n",
    "    else:  # if \"team_opp\" is the winner\n",
    "        multiplier = ((-MOV + 3)**(0.8)) / (7.5 + 0.006*(-elo_diff))  # note how we have to flip the elo_diff and make MOV positive\n",
    "    \n",
    "    return K_0 * multiplier\n",
    "\n",
    "\n",
    "def update_elo(team_pts, opp_pts, team_elo_before, team_opp_elo_before, home):\n",
    "    \n",
    "    # In Silver's elo calculations, home advantage is accounted for by increasing the home team elo rating by 100 for the E and K calculations\n",
    "    home_court_advantage = 100\n",
    "    \n",
    "    # Add the home court advantage (we will need to remove this later)\n",
    "    if home == 1:\n",
    "        team_elo_before += home_court_advantage\n",
    "    else:\n",
    "        team_opp_elo_before += home_court_advantage\n",
    "    \n",
    "    E_team = calculate_expected_win_probability(team_elo_before, team_opp_elo_before)\n",
    "    E_team_opp = 1 - E_team\n",
    "    \n",
    "    elo_diff = team_elo_before - team_opp_elo_before\n",
    "    \n",
    "    # MOV = Margin of Victory\n",
    "    MOV = team_pts - opp_pts\n",
    "    \n",
    "    # S variable in Silver's equation, value for was the winner\n",
    "    S_team, S_opp = S_var(team_pts, opp_pts)\n",
    "    \n",
    "    # K constant\n",
    "    K = K_constant(MOV, elo_diff)\n",
    "    \n",
    "    # Remove the home court advantage (we are done calculating the different variables, revert to true elo)\n",
    "    if home == 1:\n",
    "        team_elo_before -= home_court_advantage\n",
    "    else:\n",
    "        team_opp_elo_before -= home_court_advantage\n",
    "    \n",
    "    # Calculate the elos (which is a recursive formula)\n",
    "    team_elo_after = team_elo_before + K * (S_team - E_team)\n",
    "    team_opp_elo_after = team_opp_elo_before + K * (S_opp - E_team_opp)\n",
    "    \n",
    "    return team_elo_after, team_opp_elo_after\n",
    "\n",
    "def team_opponent(game_id, team_we_know):\n",
    "    # this function should spew out the opposing team\n",
    "    df_opponent = df[(df['GAME_ID'] == game_id) & (df['TEAM_ABBREVIATION'] != team_we_know)]\n",
    "    opponent = df_opponent['TEAM_ABBREVIATION'].iloc[0] \n",
    "    return opponent\n",
    "\n",
    "def are_they_home(matchup):\n",
    "    if \"@\" in matchup:\n",
    "        return 0\n",
    "    else:\n",
    "        return 1\n",
    "    \n",
    "def team_opponent_pts(game_id, team_we_know):\n",
    "    df_opponent = df[(df['GAME_ID'] == game_id) & (df['TEAM_ABBREVIATION'] != team_we_know)]\n",
    "    team_pts = df_opponent['PTS'].iloc[0] \n",
    "    return team_pts\n",
    "    "
   ],
   "metadata": {
    "collapsed": false,
    "ExecuteTime": {
     "end_time": "2024-04-09T23:10:46.655400900Z",
     "start_time": "2024-04-09T23:10:46.608843800Z"
    }
   },
   "id": "6cdc43e8ffb62bc0",
   "execution_count": 106
  },
  {
   "cell_type": "code",
   "outputs": [
    {
     "name": "stderr",
     "output_type": "stream",
     "text": [
      "C:\\Users\\Bryan Hernandez\\AppData\\Local\\Temp\\ipykernel_31720\\4114563302.py:48: FutureWarning: The behavior of DataFrame concatenation with empty or all-NA entries is deprecated. In a future version, this will no longer exclude empty or all-NA columns when determining the result dtypes. To retain the old behavior, exclude the relevant entries before the concat operation.\n",
      "  elo_df = pd.concat([elo_df, new_row], ignore_index=True)\n"
     ]
    },
    {
     "name": "stdout",
     "output_type": "stream",
     "text": [
      "Processed 1000/2346\n",
      "Processed 2000/2346\n"
     ]
    }
   ],
   "source": [
    "# Create DataFrames to store elo calculations for each game and elos for each team\n",
    "elo_df = pd.DataFrame(columns=['date', 'season', 'team', 'team_opp', 'team_elo_before', 'team_opp_elo_before', \n",
    "                               'team_elo_after', 'team_opp_elo_after'])\n",
    "# teams_elo_df = pd\n",
    "\n",
    "row_count = 0\n",
    "\n",
    "for index, row in df.iterrows():\n",
    "    game_date = row[\"GAME_DATE\"]\n",
    "    season = row[\"SEASON_YEAR\"]\n",
    "    team = row[\"TEAM_ABBREVIATION\"]\n",
    "    \n",
    "    team_opp = team_opponent(row[\"GAME_ID\"], row[\"TEAM_ABBREVIATION\"]) ##TODO: based on game_id, figure out who opponent is for that game\n",
    "    is_this_team_home = are_they_home(row[\"MATCHUP\"]) ##TODO: another function, using the matchup and '@' and vs. symbol to find which team was home\n",
    "    \n",
    "    team_pts = row[\"PTS\"]\n",
    "    opp_pts = team_opponent_pts(row[\"GAME_ID\"], row[\"TEAM_ABBREVIATION\"])##TODO: using game_id, find pts of opposing team\n",
    "    \n",
    "    # Check if we need to initialize the elo\n",
    "    if (team not in elo_df[\"team\"].values):\n",
    "        team_starting_elo = initial_elo[team]\n",
    "        team_elo_before = team_starting_elo\n",
    "    else:\n",
    "        team_elo_before = get_prev_elo(team, game_date, season, df, elo_df)\n",
    "    \n",
    "    if (team_opp not in elo_df[\"team_opp\"].values):\n",
    "        team_opp_starting_elo = initial_elo[team_opp]\n",
    "        team_opp_elo_before = team_opp_starting_elo\n",
    "    else:\n",
    "        team_opp_elo_before = get_prev_elo(team_opp, game_date, season, df, elo_df)\n",
    "    \n",
    "    team_elo_after, team_opp_elo_after = update_elo(team_pts, opp_pts, team_elo_before, team_opp_elo_before, is_this_team_home)\n",
    "    \n",
    "    new_row_in_elo_df = {\n",
    "        \"date\": game_date, \n",
    "        \"season\": season, \n",
    "        \"team\": team, \n",
    "        \"team_opp\": team_opp, \n",
    "        \"team_elo_before\": team_elo_before, \n",
    "        \"team_opp_elo_before\": team_opp_elo_before, \n",
    "        \"team_elo_after\": team_elo_after, \n",
    "        \"team_opp_elo_after\": team_opp_elo_after,\n",
    "        \"home\": is_this_team_home\n",
    "    }\n",
    "    \n",
    "    new_row = pd.DataFrame([new_row_in_elo_df])\n",
    "    \n",
    "    elo_df = pd.concat([elo_df, new_row], ignore_index=True)\n",
    "    \n",
    "    row_count += 1\n",
    "    \n",
    "    if(row_count % 1000 == 0):\n",
    "        print(f\"Processed {row_count}/{len(df)}\")"
   ],
   "metadata": {
    "collapsed": false,
    "ExecuteTime": {
     "end_time": "2024-04-09T23:11:00.853157200Z",
     "start_time": "2024-04-09T23:10:46.618287700Z"
    }
   },
   "id": "54d385af5136c6f9",
   "execution_count": 107
  },
  {
   "cell_type": "code",
   "outputs": [
    {
     "data": {
      "text/plain": "           date   season team team_opp team_elo_before team_opp_elo_before  \\\n0    2023-10-24  2023-24  PHX      GSW            1613                1603   \n1    2023-10-24  2023-24  DEN      LAL            1650                1571   \n2    2023-10-24  2023-24  GSW      PHX            1603                1613   \n3    2023-10-24  2023-24  LAL      DEN            1571                1650   \n4    2023-10-25  2023-24  SAC      UTA            1546                1365   \n...         ...      ...  ...      ...             ...                 ...   \n2341 2024-04-07  2023-24  DAL      HOU     1653.992249         1507.596093   \n2342 2024-04-07  2023-24  MIA      IND      1559.97416         1594.894924   \n2343 2024-04-07  2023-24  CLE      LAC     1536.971667         1562.655139   \n2344 2024-04-07  2023-24  HOU      DAL     1507.596093         1653.992249   \n2345 2024-04-07  2023-24  PHX      NOP     1640.068772         1586.394229   \n\n      team_elo_after  team_opp_elo_after  home  \n0        1621.541974         1594.458026   0.0  \n1        1655.354069         1565.645931   1.0  \n2        1594.458026         1621.541974   1.0  \n3        1565.645931         1655.354069   0.0  \n4        1556.179499         1354.820501   0.0  \n...              ...                 ...   ...  \n2341     1657.578038         1504.010304   1.0  \n2342     1557.226304         1597.642779   0.0  \n2343     1534.103629         1565.523177   0.0  \n2344     1504.010304         1657.578038   0.0  \n2345     1625.414944         1601.048057   1.0  \n\n[2346 rows x 9 columns]",
      "text/html": "<div>\n<style scoped>\n    .dataframe tbody tr th:only-of-type {\n        vertical-align: middle;\n    }\n\n    .dataframe tbody tr th {\n        vertical-align: top;\n    }\n\n    .dataframe thead th {\n        text-align: right;\n    }\n</style>\n<table border=\"1\" class=\"dataframe\">\n  <thead>\n    <tr style=\"text-align: right;\">\n      <th></th>\n      <th>date</th>\n      <th>season</th>\n      <th>team</th>\n      <th>team_opp</th>\n      <th>team_elo_before</th>\n      <th>team_opp_elo_before</th>\n      <th>team_elo_after</th>\n      <th>team_opp_elo_after</th>\n      <th>home</th>\n    </tr>\n  </thead>\n  <tbody>\n    <tr>\n      <th>0</th>\n      <td>2023-10-24</td>\n      <td>2023-24</td>\n      <td>PHX</td>\n      <td>GSW</td>\n      <td>1613</td>\n      <td>1603</td>\n      <td>1621.541974</td>\n      <td>1594.458026</td>\n      <td>0.0</td>\n    </tr>\n    <tr>\n      <th>1</th>\n      <td>2023-10-24</td>\n      <td>2023-24</td>\n      <td>DEN</td>\n      <td>LAL</td>\n      <td>1650</td>\n      <td>1571</td>\n      <td>1655.354069</td>\n      <td>1565.645931</td>\n      <td>1.0</td>\n    </tr>\n    <tr>\n      <th>2</th>\n      <td>2023-10-24</td>\n      <td>2023-24</td>\n      <td>GSW</td>\n      <td>PHX</td>\n      <td>1603</td>\n      <td>1613</td>\n      <td>1594.458026</td>\n      <td>1621.541974</td>\n      <td>1.0</td>\n    </tr>\n    <tr>\n      <th>3</th>\n      <td>2023-10-24</td>\n      <td>2023-24</td>\n      <td>LAL</td>\n      <td>DEN</td>\n      <td>1571</td>\n      <td>1650</td>\n      <td>1565.645931</td>\n      <td>1655.354069</td>\n      <td>0.0</td>\n    </tr>\n    <tr>\n      <th>4</th>\n      <td>2023-10-25</td>\n      <td>2023-24</td>\n      <td>SAC</td>\n      <td>UTA</td>\n      <td>1546</td>\n      <td>1365</td>\n      <td>1556.179499</td>\n      <td>1354.820501</td>\n      <td>0.0</td>\n    </tr>\n    <tr>\n      <th>...</th>\n      <td>...</td>\n      <td>...</td>\n      <td>...</td>\n      <td>...</td>\n      <td>...</td>\n      <td>...</td>\n      <td>...</td>\n      <td>...</td>\n      <td>...</td>\n    </tr>\n    <tr>\n      <th>2341</th>\n      <td>2024-04-07</td>\n      <td>2023-24</td>\n      <td>DAL</td>\n      <td>HOU</td>\n      <td>1653.992249</td>\n      <td>1507.596093</td>\n      <td>1657.578038</td>\n      <td>1504.010304</td>\n      <td>1.0</td>\n    </tr>\n    <tr>\n      <th>2342</th>\n      <td>2024-04-07</td>\n      <td>2023-24</td>\n      <td>MIA</td>\n      <td>IND</td>\n      <td>1559.97416</td>\n      <td>1594.894924</td>\n      <td>1557.226304</td>\n      <td>1597.642779</td>\n      <td>0.0</td>\n    </tr>\n    <tr>\n      <th>2343</th>\n      <td>2024-04-07</td>\n      <td>2023-24</td>\n      <td>CLE</td>\n      <td>LAC</td>\n      <td>1536.971667</td>\n      <td>1562.655139</td>\n      <td>1534.103629</td>\n      <td>1565.523177</td>\n      <td>0.0</td>\n    </tr>\n    <tr>\n      <th>2344</th>\n      <td>2024-04-07</td>\n      <td>2023-24</td>\n      <td>HOU</td>\n      <td>DAL</td>\n      <td>1507.596093</td>\n      <td>1653.992249</td>\n      <td>1504.010304</td>\n      <td>1657.578038</td>\n      <td>0.0</td>\n    </tr>\n    <tr>\n      <th>2345</th>\n      <td>2024-04-07</td>\n      <td>2023-24</td>\n      <td>PHX</td>\n      <td>NOP</td>\n      <td>1640.068772</td>\n      <td>1586.394229</td>\n      <td>1625.414944</td>\n      <td>1601.048057</td>\n      <td>1.0</td>\n    </tr>\n  </tbody>\n</table>\n<p>2346 rows × 9 columns</p>\n</div>"
     },
     "execution_count": 108,
     "metadata": {},
     "output_type": "execute_result"
    }
   ],
   "source": [
    "elo_df"
   ],
   "metadata": {
    "collapsed": false,
    "ExecuteTime": {
     "end_time": "2024-04-09T23:11:00.870531Z",
     "start_time": "2024-04-09T23:11:00.853157200Z"
    }
   },
   "id": "2b309a28ee1dd940",
   "execution_count": 108
  },
  {
   "cell_type": "code",
   "outputs": [],
   "source": [
    "def get_recent_elo(team_abbv):\n",
    "    # Ensure the 'date' column is in the correct datetime format (if not already)\n",
    "    elo_df['date'] = pd.to_datetime(elo_df['date'])\n",
    "    \n",
    "    # Filter the DataFrame for rows matching the specific team\n",
    "    team_data = elo_df[elo_df[\"team\"] == team_abbv]\n",
    "    \n",
    "    # Find the most recent date in the filtered DataFrame\n",
    "    most_recent_date = team_data['date'].max()\n",
    "    \n",
    "    # Filter the DataFrame again for rows that match the most recent date for the team\n",
    "    elo_df_now = team_data[team_data[\"date\"] == most_recent_date]\n",
    "    \n",
    "    # Return the 'team_elo_after' value for the most recent date\n",
    "    # Using .iloc[-1] to ensure we get the last (or only) record if there are multiple games on the most recent date\n",
    "    return elo_df_now[\"team_elo_after\"].iloc[0]\n",
    "    "
   ],
   "metadata": {
    "collapsed": false,
    "ExecuteTime": {
     "end_time": "2024-04-09T23:22:53.492467400Z",
     "start_time": "2024-04-09T23:22:53.475504300Z"
    }
   },
   "id": "a4f8d4bed081d569",
   "execution_count": 135
  },
  {
   "cell_type": "code",
   "outputs": [
    {
     "name": "stdout",
     "output_type": "stream",
     "text": [
      "1625.4149437986496\n"
     ]
    }
   ],
   "source": [
    "print(get_recent_elo(\"PHX\"))"
   ],
   "metadata": {
    "collapsed": false,
    "ExecuteTime": {
     "end_time": "2024-04-09T23:23:04.594851400Z",
     "start_time": "2024-04-09T23:23:04.573870600Z"
    }
   },
   "id": "900ba711b6dbecf4",
   "execution_count": 137
  },
  {
   "cell_type": "code",
   "outputs": [],
   "source": [],
   "metadata": {
    "collapsed": false
   },
   "id": "2180d60ce0c3c8c5"
  }
 ],
 "metadata": {
  "kernelspec": {
   "display_name": "Python 3 (ipykernel)",
   "language": "python",
   "name": "python3"
  },
  "language_info": {
   "codemirror_mode": {
    "name": "ipython",
    "version": 3
   },
   "file_extension": ".py",
   "mimetype": "text/x-python",
   "name": "python",
   "nbconvert_exporter": "python",
   "pygments_lexer": "ipython3",
   "version": "3.10.4"
  }
 },
 "nbformat": 4,
 "nbformat_minor": 5
}
