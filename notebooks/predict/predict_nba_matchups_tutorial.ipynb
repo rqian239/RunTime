{
 "cells": [
  {
   "cell_type": "markdown",
   "id": "8a4c8679",
   "metadata": {},
   "source": [
    "# Predict NBA Games Tutorial\n",
    "\n",
    "The following is an exploratory notebook for predicting the results of historial NBA games. This notebook follows the tutorial by Vikas Paruchuri of Dataquest, which can be found [here](https://www.youtube.com/watch?v=egTylm6C2is) and in [this repo](https://github.com/dataquestio/project-walkthroughs/tree/master/nba_games).\n",
    "\n",
    "The dataset for this notebook can be found [here](https://www.youtube.com/redirect?event=video_description&redir_token=QUFFLUhqbmpENGkySmZQVzk3Z0VRMkdnOXhJLWw2eUFCd3xBQ3Jtc0trU0RGdUFyd3dQazNjaXJPOVd4NW9xVzhpYUdHLUZ6UEQ2dGUtSnd6S3ZtVC13bnhuZWx4em9QeTZKVm5kNkVUX2F6U2IzTzNCalBoSml5WGt5b09YTlhSN1o0WWZOVThsNGV1NnNwZl9BVW41RWpJdw&q=https%3A%2F%2Fdrive.google.com%2Fuc%3Fexport%3Ddownload%26id%3D1YyNpERG0jqPlpxZvvELaNcMHTiKVpfWe&v=egTylm6C2is) and should be placed in the \"../data/raw/\" directory."
   ]
  },
  {
   "cell_type": "code",
   "execution_count": 1,
   "id": "82010f79",
   "metadata": {
    "ExecuteTime": {
     "end_time": "2024-03-09T03:17:52.124936100Z",
     "start_time": "2024-03-09T03:17:51.540407800Z"
    }
   },
   "outputs": [],
   "source": [
    "import pandas as pd"
   ]
  },
  {
   "cell_type": "code",
   "execution_count": 2,
   "id": "9a1c5e79",
   "metadata": {
    "ExecuteTime": {
     "end_time": "2024-03-09T03:17:52.375228700Z",
     "start_time": "2024-03-09T03:17:52.125937300Z"
    }
   },
   "outputs": [
    {
     "data": {
      "text/plain": "          mp   mp.1    fg   fga    fg%    3p   3pa    3p%    ft   fta  ...  \\\n0      240.0  240.0  37.0  96.0  0.385  12.0  29.0  0.414  20.0  26.0  ...   \n1      240.0  240.0  37.0  82.0  0.451   8.0  27.0  0.296  12.0  15.0  ...   \n2      240.0  240.0  38.0  94.0  0.404   9.0  29.0  0.310  10.0  17.0  ...   \n3      240.0  240.0  37.0  87.0  0.425   7.0  19.0  0.368  16.0  23.0  ...   \n4      240.0  240.0  35.0  83.0  0.422   6.0  18.0  0.333  19.0  27.0  ...   \n...      ...    ...   ...   ...    ...   ...   ...    ...   ...   ...  ...   \n22039  240.0  240.0  44.0  83.0  0.530  13.0  26.0  0.500  12.0  19.0  ...   \n22040  240.0  240.0  46.0  89.0  0.517  11.0  30.0  0.367  25.0  27.0  ...   \n22041  240.0  240.0  31.0  83.0  0.373   8.0  29.0  0.276  21.0  30.0  ...   \n22042  240.0  240.0  49.0  92.0  0.533  20.0  42.0  0.476  22.0  28.0  ...   \n22043  240.0  240.0  43.0  93.0  0.462  22.0  49.0  0.449  29.0  32.0  ...   \n\n       tov%_max_opp  usg%_max_opp  ortg_max_opp  drtg_max_opp  team_opp  \\\n0              57.1          33.8         258.0         121.0       ATL   \n1              33.3          23.6         132.0         104.0       DET   \n2              53.2          34.6         162.0         104.0       CHI   \n3              30.4          29.0         138.0         105.0       CLE   \n4              69.4          43.7         206.0         104.0       GSW   \n...             ...           ...           ...           ...       ...   \n22039          40.0          34.5         170.0         121.0       MIL   \n22040          25.8          31.5         200.0         137.0       POR   \n22041          33.3          33.0         181.0         101.0       MIN   \n22042          66.7          30.8         175.0         146.0       UTA   \n22043          25.0          33.4         189.0         142.0       GSW   \n\n       total_opp  home_opp  season        date    won  \n0             94         1    2016  2015-10-27   True  \n1            106         0    2016  2015-10-27  False  \n2             97         1    2016  2015-10-27  False  \n3             95         0    2016  2015-10-27   True  \n4            111         1    2016  2015-10-27  False  \n...          ...       ...     ...         ...    ...  \n22039        110         0    2024  2024-02-15   True  \n22040         91         1    2024  2024-02-15   True  \n22041        128         0    2024  2024-02-15  False  \n22042        137         1    2024  2024-02-15   True  \n22043        140         0    2024  2024-02-15  False  \n\n[22044 rows x 150 columns]",
      "text/html": "<div>\n<style scoped>\n    .dataframe tbody tr th:only-of-type {\n        vertical-align: middle;\n    }\n\n    .dataframe tbody tr th {\n        vertical-align: top;\n    }\n\n    .dataframe thead th {\n        text-align: right;\n    }\n</style>\n<table border=\"1\" class=\"dataframe\">\n  <thead>\n    <tr style=\"text-align: right;\">\n      <th></th>\n      <th>mp</th>\n      <th>mp.1</th>\n      <th>fg</th>\n      <th>fga</th>\n      <th>fg%</th>\n      <th>3p</th>\n      <th>3pa</th>\n      <th>3p%</th>\n      <th>ft</th>\n      <th>fta</th>\n      <th>...</th>\n      <th>tov%_max_opp</th>\n      <th>usg%_max_opp</th>\n      <th>ortg_max_opp</th>\n      <th>drtg_max_opp</th>\n      <th>team_opp</th>\n      <th>total_opp</th>\n      <th>home_opp</th>\n      <th>season</th>\n      <th>date</th>\n      <th>won</th>\n    </tr>\n  </thead>\n  <tbody>\n    <tr>\n      <th>0</th>\n      <td>240.0</td>\n      <td>240.0</td>\n      <td>37.0</td>\n      <td>96.0</td>\n      <td>0.385</td>\n      <td>12.0</td>\n      <td>29.0</td>\n      <td>0.414</td>\n      <td>20.0</td>\n      <td>26.0</td>\n      <td>...</td>\n      <td>57.1</td>\n      <td>33.8</td>\n      <td>258.0</td>\n      <td>121.0</td>\n      <td>ATL</td>\n      <td>94</td>\n      <td>1</td>\n      <td>2016</td>\n      <td>2015-10-27</td>\n      <td>True</td>\n    </tr>\n    <tr>\n      <th>1</th>\n      <td>240.0</td>\n      <td>240.0</td>\n      <td>37.0</td>\n      <td>82.0</td>\n      <td>0.451</td>\n      <td>8.0</td>\n      <td>27.0</td>\n      <td>0.296</td>\n      <td>12.0</td>\n      <td>15.0</td>\n      <td>...</td>\n      <td>33.3</td>\n      <td>23.6</td>\n      <td>132.0</td>\n      <td>104.0</td>\n      <td>DET</td>\n      <td>106</td>\n      <td>0</td>\n      <td>2016</td>\n      <td>2015-10-27</td>\n      <td>False</td>\n    </tr>\n    <tr>\n      <th>2</th>\n      <td>240.0</td>\n      <td>240.0</td>\n      <td>38.0</td>\n      <td>94.0</td>\n      <td>0.404</td>\n      <td>9.0</td>\n      <td>29.0</td>\n      <td>0.310</td>\n      <td>10.0</td>\n      <td>17.0</td>\n      <td>...</td>\n      <td>53.2</td>\n      <td>34.6</td>\n      <td>162.0</td>\n      <td>104.0</td>\n      <td>CHI</td>\n      <td>97</td>\n      <td>1</td>\n      <td>2016</td>\n      <td>2015-10-27</td>\n      <td>False</td>\n    </tr>\n    <tr>\n      <th>3</th>\n      <td>240.0</td>\n      <td>240.0</td>\n      <td>37.0</td>\n      <td>87.0</td>\n      <td>0.425</td>\n      <td>7.0</td>\n      <td>19.0</td>\n      <td>0.368</td>\n      <td>16.0</td>\n      <td>23.0</td>\n      <td>...</td>\n      <td>30.4</td>\n      <td>29.0</td>\n      <td>138.0</td>\n      <td>105.0</td>\n      <td>CLE</td>\n      <td>95</td>\n      <td>0</td>\n      <td>2016</td>\n      <td>2015-10-27</td>\n      <td>True</td>\n    </tr>\n    <tr>\n      <th>4</th>\n      <td>240.0</td>\n      <td>240.0</td>\n      <td>35.0</td>\n      <td>83.0</td>\n      <td>0.422</td>\n      <td>6.0</td>\n      <td>18.0</td>\n      <td>0.333</td>\n      <td>19.0</td>\n      <td>27.0</td>\n      <td>...</td>\n      <td>69.4</td>\n      <td>43.7</td>\n      <td>206.0</td>\n      <td>104.0</td>\n      <td>GSW</td>\n      <td>111</td>\n      <td>1</td>\n      <td>2016</td>\n      <td>2015-10-27</td>\n      <td>False</td>\n    </tr>\n    <tr>\n      <th>...</th>\n      <td>...</td>\n      <td>...</td>\n      <td>...</td>\n      <td>...</td>\n      <td>...</td>\n      <td>...</td>\n      <td>...</td>\n      <td>...</td>\n      <td>...</td>\n      <td>...</td>\n      <td>...</td>\n      <td>...</td>\n      <td>...</td>\n      <td>...</td>\n      <td>...</td>\n      <td>...</td>\n      <td>...</td>\n      <td>...</td>\n      <td>...</td>\n      <td>...</td>\n      <td>...</td>\n    </tr>\n    <tr>\n      <th>22039</th>\n      <td>240.0</td>\n      <td>240.0</td>\n      <td>44.0</td>\n      <td>83.0</td>\n      <td>0.530</td>\n      <td>13.0</td>\n      <td>26.0</td>\n      <td>0.500</td>\n      <td>12.0</td>\n      <td>19.0</td>\n      <td>...</td>\n      <td>40.0</td>\n      <td>34.5</td>\n      <td>170.0</td>\n      <td>121.0</td>\n      <td>MIL</td>\n      <td>110</td>\n      <td>0</td>\n      <td>2024</td>\n      <td>2024-02-15</td>\n      <td>True</td>\n    </tr>\n    <tr>\n      <th>22040</th>\n      <td>240.0</td>\n      <td>240.0</td>\n      <td>46.0</td>\n      <td>89.0</td>\n      <td>0.517</td>\n      <td>11.0</td>\n      <td>30.0</td>\n      <td>0.367</td>\n      <td>25.0</td>\n      <td>27.0</td>\n      <td>...</td>\n      <td>25.8</td>\n      <td>31.5</td>\n      <td>200.0</td>\n      <td>137.0</td>\n      <td>POR</td>\n      <td>91</td>\n      <td>1</td>\n      <td>2024</td>\n      <td>2024-02-15</td>\n      <td>True</td>\n    </tr>\n    <tr>\n      <th>22041</th>\n      <td>240.0</td>\n      <td>240.0</td>\n      <td>31.0</td>\n      <td>83.0</td>\n      <td>0.373</td>\n      <td>8.0</td>\n      <td>29.0</td>\n      <td>0.276</td>\n      <td>21.0</td>\n      <td>30.0</td>\n      <td>...</td>\n      <td>33.3</td>\n      <td>33.0</td>\n      <td>181.0</td>\n      <td>101.0</td>\n      <td>MIN</td>\n      <td>128</td>\n      <td>0</td>\n      <td>2024</td>\n      <td>2024-02-15</td>\n      <td>False</td>\n    </tr>\n    <tr>\n      <th>22042</th>\n      <td>240.0</td>\n      <td>240.0</td>\n      <td>49.0</td>\n      <td>92.0</td>\n      <td>0.533</td>\n      <td>20.0</td>\n      <td>42.0</td>\n      <td>0.476</td>\n      <td>22.0</td>\n      <td>28.0</td>\n      <td>...</td>\n      <td>66.7</td>\n      <td>30.8</td>\n      <td>175.0</td>\n      <td>146.0</td>\n      <td>UTA</td>\n      <td>137</td>\n      <td>1</td>\n      <td>2024</td>\n      <td>2024-02-15</td>\n      <td>True</td>\n    </tr>\n    <tr>\n      <th>22043</th>\n      <td>240.0</td>\n      <td>240.0</td>\n      <td>43.0</td>\n      <td>93.0</td>\n      <td>0.462</td>\n      <td>22.0</td>\n      <td>49.0</td>\n      <td>0.449</td>\n      <td>29.0</td>\n      <td>32.0</td>\n      <td>...</td>\n      <td>25.0</td>\n      <td>33.4</td>\n      <td>189.0</td>\n      <td>142.0</td>\n      <td>GSW</td>\n      <td>140</td>\n      <td>0</td>\n      <td>2024</td>\n      <td>2024-02-15</td>\n      <td>False</td>\n    </tr>\n  </tbody>\n</table>\n<p>22044 rows × 150 columns</p>\n</div>"
     },
     "execution_count": 2,
     "metadata": {},
     "output_type": "execute_result"
    }
   ],
   "source": [
    "df = pd.read_csv(\"nba_games_runtime.csv\", index_col=0) # read NBA data, first col is our pandas index\n",
    "df"
   ]
  },
  {
   "cell_type": "code",
   "execution_count": 3,
   "id": "9a436b7d",
   "metadata": {
    "ExecuteTime": {
     "end_time": "2024-03-09T03:17:52.446467600Z",
     "start_time": "2024-03-09T03:17:52.376230Z"
    }
   },
   "outputs": [
    {
     "data": {
      "text/plain": "          mp   mp.1    fg   fga    fg%    3p   3pa    3p%    ft   fta  ...  \\\n0      240.0  240.0  37.0  96.0  0.385  12.0  29.0  0.414  20.0  26.0  ...   \n1      240.0  240.0  37.0  82.0  0.451   8.0  27.0  0.296  12.0  15.0  ...   \n2      240.0  240.0  38.0  94.0  0.404   9.0  29.0  0.310  10.0  17.0  ...   \n3      240.0  240.0  37.0  87.0  0.425   7.0  19.0  0.368  16.0  23.0  ...   \n4      240.0  240.0  35.0  83.0  0.422   6.0  18.0  0.333  19.0  27.0  ...   \n...      ...    ...   ...   ...    ...   ...   ...    ...   ...   ...  ...   \n22039  240.0  240.0  42.0  90.0  0.467  11.0  44.0  0.250  15.0  20.0  ...   \n22040  240.0  240.0  44.0  83.0  0.530  13.0  26.0  0.500  12.0  19.0  ...   \n22041  240.0  240.0  46.0  89.0  0.517  11.0  30.0  0.367  25.0  27.0  ...   \n22042  240.0  240.0  31.0  83.0  0.373   8.0  29.0  0.276  21.0  30.0  ...   \n22043  240.0  240.0  43.0  93.0  0.462  22.0  49.0  0.449  29.0  32.0  ...   \n\n       tov%_max_opp  usg%_max_opp  ortg_max_opp  drtg_max_opp  team_opp  \\\n0              57.1          33.8         258.0         121.0       ATL   \n1              33.3          23.6         132.0         104.0       DET   \n2              53.2          34.6         162.0         104.0       CHI   \n3              30.4          29.0         138.0         105.0       CLE   \n4              69.4          43.7         206.0         104.0       GSW   \n...             ...           ...           ...           ...       ...   \n22039          25.0          32.0         161.0         118.0       MEM   \n22040          40.0          34.5         170.0         121.0       MIL   \n22041          25.8          31.5         200.0         137.0       POR   \n22042          33.3          33.0         181.0         101.0       MIN   \n22043          25.0          33.4         189.0         142.0       GSW   \n\n       total_opp  home_opp  season        date    won  \n0             94         1    2016  2015-10-27   True  \n1            106         0    2016  2015-10-27  False  \n2             97         1    2016  2015-10-27  False  \n3             95         0    2016  2015-10-27   True  \n4            111         1    2016  2015-10-27  False  \n...          ...       ...     ...         ...    ...  \n22039        113         1    2024  2024-02-15  False  \n22040        110         0    2024  2024-02-15   True  \n22041         91         1    2024  2024-02-15   True  \n22042        128         0    2024  2024-02-15  False  \n22043        140         0    2024  2024-02-15  False  \n\n[22044 rows x 150 columns]",
      "text/html": "<div>\n<style scoped>\n    .dataframe tbody tr th:only-of-type {\n        vertical-align: middle;\n    }\n\n    .dataframe tbody tr th {\n        vertical-align: top;\n    }\n\n    .dataframe thead th {\n        text-align: right;\n    }\n</style>\n<table border=\"1\" class=\"dataframe\">\n  <thead>\n    <tr style=\"text-align: right;\">\n      <th></th>\n      <th>mp</th>\n      <th>mp.1</th>\n      <th>fg</th>\n      <th>fga</th>\n      <th>fg%</th>\n      <th>3p</th>\n      <th>3pa</th>\n      <th>3p%</th>\n      <th>ft</th>\n      <th>fta</th>\n      <th>...</th>\n      <th>tov%_max_opp</th>\n      <th>usg%_max_opp</th>\n      <th>ortg_max_opp</th>\n      <th>drtg_max_opp</th>\n      <th>team_opp</th>\n      <th>total_opp</th>\n      <th>home_opp</th>\n      <th>season</th>\n      <th>date</th>\n      <th>won</th>\n    </tr>\n  </thead>\n  <tbody>\n    <tr>\n      <th>0</th>\n      <td>240.0</td>\n      <td>240.0</td>\n      <td>37.0</td>\n      <td>96.0</td>\n      <td>0.385</td>\n      <td>12.0</td>\n      <td>29.0</td>\n      <td>0.414</td>\n      <td>20.0</td>\n      <td>26.0</td>\n      <td>...</td>\n      <td>57.1</td>\n      <td>33.8</td>\n      <td>258.0</td>\n      <td>121.0</td>\n      <td>ATL</td>\n      <td>94</td>\n      <td>1</td>\n      <td>2016</td>\n      <td>2015-10-27</td>\n      <td>True</td>\n    </tr>\n    <tr>\n      <th>1</th>\n      <td>240.0</td>\n      <td>240.0</td>\n      <td>37.0</td>\n      <td>82.0</td>\n      <td>0.451</td>\n      <td>8.0</td>\n      <td>27.0</td>\n      <td>0.296</td>\n      <td>12.0</td>\n      <td>15.0</td>\n      <td>...</td>\n      <td>33.3</td>\n      <td>23.6</td>\n      <td>132.0</td>\n      <td>104.0</td>\n      <td>DET</td>\n      <td>106</td>\n      <td>0</td>\n      <td>2016</td>\n      <td>2015-10-27</td>\n      <td>False</td>\n    </tr>\n    <tr>\n      <th>2</th>\n      <td>240.0</td>\n      <td>240.0</td>\n      <td>38.0</td>\n      <td>94.0</td>\n      <td>0.404</td>\n      <td>9.0</td>\n      <td>29.0</td>\n      <td>0.310</td>\n      <td>10.0</td>\n      <td>17.0</td>\n      <td>...</td>\n      <td>53.2</td>\n      <td>34.6</td>\n      <td>162.0</td>\n      <td>104.0</td>\n      <td>CHI</td>\n      <td>97</td>\n      <td>1</td>\n      <td>2016</td>\n      <td>2015-10-27</td>\n      <td>False</td>\n    </tr>\n    <tr>\n      <th>3</th>\n      <td>240.0</td>\n      <td>240.0</td>\n      <td>37.0</td>\n      <td>87.0</td>\n      <td>0.425</td>\n      <td>7.0</td>\n      <td>19.0</td>\n      <td>0.368</td>\n      <td>16.0</td>\n      <td>23.0</td>\n      <td>...</td>\n      <td>30.4</td>\n      <td>29.0</td>\n      <td>138.0</td>\n      <td>105.0</td>\n      <td>CLE</td>\n      <td>95</td>\n      <td>0</td>\n      <td>2016</td>\n      <td>2015-10-27</td>\n      <td>True</td>\n    </tr>\n    <tr>\n      <th>4</th>\n      <td>240.0</td>\n      <td>240.0</td>\n      <td>35.0</td>\n      <td>83.0</td>\n      <td>0.422</td>\n      <td>6.0</td>\n      <td>18.0</td>\n      <td>0.333</td>\n      <td>19.0</td>\n      <td>27.0</td>\n      <td>...</td>\n      <td>69.4</td>\n      <td>43.7</td>\n      <td>206.0</td>\n      <td>104.0</td>\n      <td>GSW</td>\n      <td>111</td>\n      <td>1</td>\n      <td>2016</td>\n      <td>2015-10-27</td>\n      <td>False</td>\n    </tr>\n    <tr>\n      <th>...</th>\n      <td>...</td>\n      <td>...</td>\n      <td>...</td>\n      <td>...</td>\n      <td>...</td>\n      <td>...</td>\n      <td>...</td>\n      <td>...</td>\n      <td>...</td>\n      <td>...</td>\n      <td>...</td>\n      <td>...</td>\n      <td>...</td>\n      <td>...</td>\n      <td>...</td>\n      <td>...</td>\n      <td>...</td>\n      <td>...</td>\n      <td>...</td>\n      <td>...</td>\n      <td>...</td>\n    </tr>\n    <tr>\n      <th>22039</th>\n      <td>240.0</td>\n      <td>240.0</td>\n      <td>42.0</td>\n      <td>90.0</td>\n      <td>0.467</td>\n      <td>11.0</td>\n      <td>44.0</td>\n      <td>0.250</td>\n      <td>15.0</td>\n      <td>20.0</td>\n      <td>...</td>\n      <td>25.0</td>\n      <td>32.0</td>\n      <td>161.0</td>\n      <td>118.0</td>\n      <td>MEM</td>\n      <td>113</td>\n      <td>1</td>\n      <td>2024</td>\n      <td>2024-02-15</td>\n      <td>False</td>\n    </tr>\n    <tr>\n      <th>22040</th>\n      <td>240.0</td>\n      <td>240.0</td>\n      <td>44.0</td>\n      <td>83.0</td>\n      <td>0.530</td>\n      <td>13.0</td>\n      <td>26.0</td>\n      <td>0.500</td>\n      <td>12.0</td>\n      <td>19.0</td>\n      <td>...</td>\n      <td>40.0</td>\n      <td>34.5</td>\n      <td>170.0</td>\n      <td>121.0</td>\n      <td>MIL</td>\n      <td>110</td>\n      <td>0</td>\n      <td>2024</td>\n      <td>2024-02-15</td>\n      <td>True</td>\n    </tr>\n    <tr>\n      <th>22041</th>\n      <td>240.0</td>\n      <td>240.0</td>\n      <td>46.0</td>\n      <td>89.0</td>\n      <td>0.517</td>\n      <td>11.0</td>\n      <td>30.0</td>\n      <td>0.367</td>\n      <td>25.0</td>\n      <td>27.0</td>\n      <td>...</td>\n      <td>25.8</td>\n      <td>31.5</td>\n      <td>200.0</td>\n      <td>137.0</td>\n      <td>POR</td>\n      <td>91</td>\n      <td>1</td>\n      <td>2024</td>\n      <td>2024-02-15</td>\n      <td>True</td>\n    </tr>\n    <tr>\n      <th>22042</th>\n      <td>240.0</td>\n      <td>240.0</td>\n      <td>31.0</td>\n      <td>83.0</td>\n      <td>0.373</td>\n      <td>8.0</td>\n      <td>29.0</td>\n      <td>0.276</td>\n      <td>21.0</td>\n      <td>30.0</td>\n      <td>...</td>\n      <td>33.3</td>\n      <td>33.0</td>\n      <td>181.0</td>\n      <td>101.0</td>\n      <td>MIN</td>\n      <td>128</td>\n      <td>0</td>\n      <td>2024</td>\n      <td>2024-02-15</td>\n      <td>False</td>\n    </tr>\n    <tr>\n      <th>22043</th>\n      <td>240.0</td>\n      <td>240.0</td>\n      <td>43.0</td>\n      <td>93.0</td>\n      <td>0.462</td>\n      <td>22.0</td>\n      <td>49.0</td>\n      <td>0.449</td>\n      <td>29.0</td>\n      <td>32.0</td>\n      <td>...</td>\n      <td>25.0</td>\n      <td>33.4</td>\n      <td>189.0</td>\n      <td>142.0</td>\n      <td>GSW</td>\n      <td>140</td>\n      <td>0</td>\n      <td>2024</td>\n      <td>2024-02-15</td>\n      <td>False</td>\n    </tr>\n  </tbody>\n</table>\n<p>22044 rows × 150 columns</p>\n</div>"
     },
     "execution_count": 3,
     "metadata": {},
     "output_type": "execute_result"
    }
   ],
   "source": [
    "df = df.sort_values(\"date\")\n",
    "df = df.reset_index(drop=True) # drop old index\n",
    "df"
   ]
  },
  {
   "cell_type": "code",
   "execution_count": 4,
   "id": "be85bb88",
   "metadata": {
    "ExecuteTime": {
     "end_time": "2024-03-09T03:17:52.533203800Z",
     "start_time": "2024-03-09T03:17:52.425477500Z"
    }
   },
   "outputs": [
    {
     "data": {
      "text/plain": "          mp    fg   fga    fg%    3p   3pa    3p%    ft   fta    ft%  ...  \\\n0      240.0  37.0  96.0  0.385  12.0  29.0  0.414  20.0  26.0  0.769  ...   \n1      240.0  37.0  82.0  0.451   8.0  27.0  0.296  12.0  15.0  0.800  ...   \n2      240.0  38.0  94.0  0.404   9.0  29.0  0.310  10.0  17.0  0.588  ...   \n3      240.0  37.0  87.0  0.425   7.0  19.0  0.368  16.0  23.0  0.696  ...   \n4      240.0  35.0  83.0  0.422   6.0  18.0  0.333  19.0  27.0  0.704  ...   \n...      ...   ...   ...    ...   ...   ...    ...   ...   ...    ...  ...   \n22039  240.0  42.0  90.0  0.467  11.0  44.0  0.250  15.0  20.0  0.750  ...   \n22040  240.0  44.0  83.0  0.530  13.0  26.0  0.500  12.0  19.0  0.632  ...   \n22041  240.0  46.0  89.0  0.517  11.0  30.0  0.367  25.0  27.0  0.926  ...   \n22042  240.0  31.0  83.0  0.373   8.0  29.0  0.276  21.0  30.0  0.700  ...   \n22043  240.0  43.0  93.0  0.462  22.0  49.0  0.449  29.0  32.0  0.906  ...   \n\n       tov%_max_opp  usg%_max_opp  ortg_max_opp  drtg_max_opp  team_opp  \\\n0              57.1          33.8         258.0         121.0       ATL   \n1              33.3          23.6         132.0         104.0       DET   \n2              53.2          34.6         162.0         104.0       CHI   \n3              30.4          29.0         138.0         105.0       CLE   \n4              69.4          43.7         206.0         104.0       GSW   \n...             ...           ...           ...           ...       ...   \n22039          25.0          32.0         161.0         118.0       MEM   \n22040          40.0          34.5         170.0         121.0       MIL   \n22041          25.8          31.5         200.0         137.0       POR   \n22042          33.3          33.0         181.0         101.0       MIN   \n22043          25.0          33.4         189.0         142.0       GSW   \n\n       total_opp  home_opp  season        date    won  \n0             94         1    2016  2015-10-27   True  \n1            106         0    2016  2015-10-27  False  \n2             97         1    2016  2015-10-27  False  \n3             95         0    2016  2015-10-27   True  \n4            111         1    2016  2015-10-27  False  \n...          ...       ...     ...         ...    ...  \n22039        113         1    2024  2024-02-15  False  \n22040        110         0    2024  2024-02-15   True  \n22041         91         1    2024  2024-02-15   True  \n22042        128         0    2024  2024-02-15  False  \n22043        140         0    2024  2024-02-15  False  \n\n[22044 rows x 147 columns]",
      "text/html": "<div>\n<style scoped>\n    .dataframe tbody tr th:only-of-type {\n        vertical-align: middle;\n    }\n\n    .dataframe tbody tr th {\n        vertical-align: top;\n    }\n\n    .dataframe thead th {\n        text-align: right;\n    }\n</style>\n<table border=\"1\" class=\"dataframe\">\n  <thead>\n    <tr style=\"text-align: right;\">\n      <th></th>\n      <th>mp</th>\n      <th>fg</th>\n      <th>fga</th>\n      <th>fg%</th>\n      <th>3p</th>\n      <th>3pa</th>\n      <th>3p%</th>\n      <th>ft</th>\n      <th>fta</th>\n      <th>ft%</th>\n      <th>...</th>\n      <th>tov%_max_opp</th>\n      <th>usg%_max_opp</th>\n      <th>ortg_max_opp</th>\n      <th>drtg_max_opp</th>\n      <th>team_opp</th>\n      <th>total_opp</th>\n      <th>home_opp</th>\n      <th>season</th>\n      <th>date</th>\n      <th>won</th>\n    </tr>\n  </thead>\n  <tbody>\n    <tr>\n      <th>0</th>\n      <td>240.0</td>\n      <td>37.0</td>\n      <td>96.0</td>\n      <td>0.385</td>\n      <td>12.0</td>\n      <td>29.0</td>\n      <td>0.414</td>\n      <td>20.0</td>\n      <td>26.0</td>\n      <td>0.769</td>\n      <td>...</td>\n      <td>57.1</td>\n      <td>33.8</td>\n      <td>258.0</td>\n      <td>121.0</td>\n      <td>ATL</td>\n      <td>94</td>\n      <td>1</td>\n      <td>2016</td>\n      <td>2015-10-27</td>\n      <td>True</td>\n    </tr>\n    <tr>\n      <th>1</th>\n      <td>240.0</td>\n      <td>37.0</td>\n      <td>82.0</td>\n      <td>0.451</td>\n      <td>8.0</td>\n      <td>27.0</td>\n      <td>0.296</td>\n      <td>12.0</td>\n      <td>15.0</td>\n      <td>0.800</td>\n      <td>...</td>\n      <td>33.3</td>\n      <td>23.6</td>\n      <td>132.0</td>\n      <td>104.0</td>\n      <td>DET</td>\n      <td>106</td>\n      <td>0</td>\n      <td>2016</td>\n      <td>2015-10-27</td>\n      <td>False</td>\n    </tr>\n    <tr>\n      <th>2</th>\n      <td>240.0</td>\n      <td>38.0</td>\n      <td>94.0</td>\n      <td>0.404</td>\n      <td>9.0</td>\n      <td>29.0</td>\n      <td>0.310</td>\n      <td>10.0</td>\n      <td>17.0</td>\n      <td>0.588</td>\n      <td>...</td>\n      <td>53.2</td>\n      <td>34.6</td>\n      <td>162.0</td>\n      <td>104.0</td>\n      <td>CHI</td>\n      <td>97</td>\n      <td>1</td>\n      <td>2016</td>\n      <td>2015-10-27</td>\n      <td>False</td>\n    </tr>\n    <tr>\n      <th>3</th>\n      <td>240.0</td>\n      <td>37.0</td>\n      <td>87.0</td>\n      <td>0.425</td>\n      <td>7.0</td>\n      <td>19.0</td>\n      <td>0.368</td>\n      <td>16.0</td>\n      <td>23.0</td>\n      <td>0.696</td>\n      <td>...</td>\n      <td>30.4</td>\n      <td>29.0</td>\n      <td>138.0</td>\n      <td>105.0</td>\n      <td>CLE</td>\n      <td>95</td>\n      <td>0</td>\n      <td>2016</td>\n      <td>2015-10-27</td>\n      <td>True</td>\n    </tr>\n    <tr>\n      <th>4</th>\n      <td>240.0</td>\n      <td>35.0</td>\n      <td>83.0</td>\n      <td>0.422</td>\n      <td>6.0</td>\n      <td>18.0</td>\n      <td>0.333</td>\n      <td>19.0</td>\n      <td>27.0</td>\n      <td>0.704</td>\n      <td>...</td>\n      <td>69.4</td>\n      <td>43.7</td>\n      <td>206.0</td>\n      <td>104.0</td>\n      <td>GSW</td>\n      <td>111</td>\n      <td>1</td>\n      <td>2016</td>\n      <td>2015-10-27</td>\n      <td>False</td>\n    </tr>\n    <tr>\n      <th>...</th>\n      <td>...</td>\n      <td>...</td>\n      <td>...</td>\n      <td>...</td>\n      <td>...</td>\n      <td>...</td>\n      <td>...</td>\n      <td>...</td>\n      <td>...</td>\n      <td>...</td>\n      <td>...</td>\n      <td>...</td>\n      <td>...</td>\n      <td>...</td>\n      <td>...</td>\n      <td>...</td>\n      <td>...</td>\n      <td>...</td>\n      <td>...</td>\n      <td>...</td>\n      <td>...</td>\n    </tr>\n    <tr>\n      <th>22039</th>\n      <td>240.0</td>\n      <td>42.0</td>\n      <td>90.0</td>\n      <td>0.467</td>\n      <td>11.0</td>\n      <td>44.0</td>\n      <td>0.250</td>\n      <td>15.0</td>\n      <td>20.0</td>\n      <td>0.750</td>\n      <td>...</td>\n      <td>25.0</td>\n      <td>32.0</td>\n      <td>161.0</td>\n      <td>118.0</td>\n      <td>MEM</td>\n      <td>113</td>\n      <td>1</td>\n      <td>2024</td>\n      <td>2024-02-15</td>\n      <td>False</td>\n    </tr>\n    <tr>\n      <th>22040</th>\n      <td>240.0</td>\n      <td>44.0</td>\n      <td>83.0</td>\n      <td>0.530</td>\n      <td>13.0</td>\n      <td>26.0</td>\n      <td>0.500</td>\n      <td>12.0</td>\n      <td>19.0</td>\n      <td>0.632</td>\n      <td>...</td>\n      <td>40.0</td>\n      <td>34.5</td>\n      <td>170.0</td>\n      <td>121.0</td>\n      <td>MIL</td>\n      <td>110</td>\n      <td>0</td>\n      <td>2024</td>\n      <td>2024-02-15</td>\n      <td>True</td>\n    </tr>\n    <tr>\n      <th>22041</th>\n      <td>240.0</td>\n      <td>46.0</td>\n      <td>89.0</td>\n      <td>0.517</td>\n      <td>11.0</td>\n      <td>30.0</td>\n      <td>0.367</td>\n      <td>25.0</td>\n      <td>27.0</td>\n      <td>0.926</td>\n      <td>...</td>\n      <td>25.8</td>\n      <td>31.5</td>\n      <td>200.0</td>\n      <td>137.0</td>\n      <td>POR</td>\n      <td>91</td>\n      <td>1</td>\n      <td>2024</td>\n      <td>2024-02-15</td>\n      <td>True</td>\n    </tr>\n    <tr>\n      <th>22042</th>\n      <td>240.0</td>\n      <td>31.0</td>\n      <td>83.0</td>\n      <td>0.373</td>\n      <td>8.0</td>\n      <td>29.0</td>\n      <td>0.276</td>\n      <td>21.0</td>\n      <td>30.0</td>\n      <td>0.700</td>\n      <td>...</td>\n      <td>33.3</td>\n      <td>33.0</td>\n      <td>181.0</td>\n      <td>101.0</td>\n      <td>MIN</td>\n      <td>128</td>\n      <td>0</td>\n      <td>2024</td>\n      <td>2024-02-15</td>\n      <td>False</td>\n    </tr>\n    <tr>\n      <th>22043</th>\n      <td>240.0</td>\n      <td>43.0</td>\n      <td>93.0</td>\n      <td>0.462</td>\n      <td>22.0</td>\n      <td>49.0</td>\n      <td>0.449</td>\n      <td>29.0</td>\n      <td>32.0</td>\n      <td>0.906</td>\n      <td>...</td>\n      <td>25.0</td>\n      <td>33.4</td>\n      <td>189.0</td>\n      <td>142.0</td>\n      <td>GSW</td>\n      <td>140</td>\n      <td>0</td>\n      <td>2024</td>\n      <td>2024-02-15</td>\n      <td>False</td>\n    </tr>\n  </tbody>\n</table>\n<p>22044 rows × 147 columns</p>\n</div>"
     },
     "execution_count": 4,
     "metadata": {},
     "output_type": "execute_result"
    }
   ],
   "source": [
    "# Remove extraneous columns\n",
    "del df[\"mp.1\"]\n",
    "del df[\"mp_opp.1\"]\n",
    "del df[\"index_opp\"]\n",
    "df"
   ]
  },
  {
   "cell_type": "code",
   "execution_count": 5,
   "id": "e8b8bc02",
   "metadata": {
    "ExecuteTime": {
     "end_time": "2024-03-09T03:17:52.694225700Z",
     "start_time": "2024-03-09T03:17:52.466687Z"
    }
   },
   "outputs": [
    {
     "name": "stderr",
     "output_type": "stream",
     "text": [
      "C:\\Users\\Bryan Hernandez\\AppData\\Local\\Temp\\ipykernel_416\\1699326195.py:7: DeprecationWarning: DataFrameGroupBy.apply operated on the grouping columns. This behavior is deprecated, and in a future version of pandas the grouping columns will be excluded from the operation. Either pass `include_groups=False` to exclude the groupings or explicitly select the grouping columns after groupby to silence this warning.\n",
      "  df = df.groupby(\"team\", group_keys=False).apply(add_target)\n"
     ]
    }
   ],
   "source": [
    "# This adds a \"target\" column to our data frame, which is what we should predict as the outcome of the subsequent game\n",
    "def add_target(team):\n",
    "    new_team_df = team.copy()\n",
    "    new_team_df[\"target\"] = new_team_df[\"won\"].shift(-1)\n",
    "    return new_team_df\n",
    "\n",
    "df = df.groupby(\"team\", group_keys=False).apply(add_target)"
   ]
  },
  {
   "cell_type": "code",
   "execution_count": 6,
   "id": "82959220",
   "metadata": {
    "ExecuteTime": {
     "end_time": "2024-03-09T03:17:52.696234Z",
     "start_time": "2024-03-09T03:17:52.619104400Z"
    }
   },
   "outputs": [
    {
     "data": {
      "text/plain": "0        DET\n1        ATL\n2        CLE\n3        CHI\n4        NOP\n        ... \n22039    MIL\n22040    MEM\n22041    MIN\n22042    POR\n22043    UTA\nName: team, Length: 22044, dtype: object"
     },
     "execution_count": 6,
     "metadata": {},
     "output_type": "execute_result"
    }
   ],
   "source": [
    "df[\"team\"]"
   ]
  },
  {
   "cell_type": "code",
   "execution_count": 7,
   "id": "e357feb8",
   "metadata": {
    "ExecuteTime": {
     "end_time": "2024-03-09T03:17:52.789629800Z",
     "start_time": "2024-03-09T03:17:52.625077700Z"
    }
   },
   "outputs": [
    {
     "data": {
      "text/plain": "          mp    fg   fga    fg%    3p   3pa    3p%    ft   fta    ft%  ...  \\\n16     240.0  36.0  80.0  0.450   7.0  18.0  0.389  27.0  39.0  0.692  ...   \n58     240.0  36.0  82.0  0.439  11.0  26.0  0.423  30.0  35.0  0.857  ...   \n77     240.0  41.0  90.0  0.456  11.0  25.0  0.440  13.0  20.0  0.650  ...   \n115    240.0  37.0  82.0  0.451   5.0  17.0  0.294  23.0  26.0  0.885  ...   \n125    240.0  33.0  79.0  0.418   5.0  14.0  0.357  32.0  39.0  0.821  ...   \n...      ...   ...   ...    ...   ...   ...    ...   ...   ...    ...  ...   \n21920  240.0  43.0  81.0  0.531  17.0  33.0  0.515  20.0  24.0  0.833  ...   \n21942  240.0  40.0  95.0  0.421  10.0  33.0  0.303  17.0  19.0  0.895  ...   \n21960  240.0  35.0  87.0  0.402   9.0  31.0  0.290  16.0  23.0  0.696  ...   \n21981  240.0  39.0  98.0  0.398   8.0  31.0  0.258  13.0  16.0  0.813  ...   \n22014  240.0  50.0  98.0  0.510   6.0  26.0  0.231  19.0  26.0  0.731  ...   \n\n       usg%_max_opp  ortg_max_opp  drtg_max_opp  team_opp  total_opp  \\\n16             31.1         127.0         110.0       IND         99   \n58             32.7         120.0         116.0       BOS        103   \n77             53.8         150.0         130.0       MIL         87   \n115           100.0         136.0         114.0       DAL         91   \n125            39.0         139.0         119.0       OKC         98   \n...             ...           ...           ...       ...        ...   \n21920          36.6         209.0         137.0       CHO        117   \n21942          30.9         300.0         118.0       HOU        104   \n21960          27.2         229.0         113.0       CLE        119   \n21981          34.3         155.0         107.0       SAS        122   \n22014          28.1         200.0         128.0       IND        127   \n\n       home_opp  season        date    won  target  \n16            0    2016  2015-10-28   True    True  \n58            1    2016  2015-10-30   True    True  \n77            0    2016  2015-11-01   True    True  \n115           1    2016  2015-11-03   True    True  \n125           1    2016  2015-11-04   True   False  \n...         ...     ...         ...    ...     ...  \n21920         1    2024  2024-02-07   True    True  \n21942         0    2024  2024-02-09   True   False  \n21960         0    2024  2024-02-10  False   False  \n21981         0    2024  2024-02-12  False   False  \n22014         0    2024  2024-02-14  False     NaN  \n\n[773 rows x 148 columns]",
      "text/html": "<div>\n<style scoped>\n    .dataframe tbody tr th:only-of-type {\n        vertical-align: middle;\n    }\n\n    .dataframe tbody tr th {\n        vertical-align: top;\n    }\n\n    .dataframe thead th {\n        text-align: right;\n    }\n</style>\n<table border=\"1\" class=\"dataframe\">\n  <thead>\n    <tr style=\"text-align: right;\">\n      <th></th>\n      <th>mp</th>\n      <th>fg</th>\n      <th>fga</th>\n      <th>fg%</th>\n      <th>3p</th>\n      <th>3pa</th>\n      <th>3p%</th>\n      <th>ft</th>\n      <th>fta</th>\n      <th>ft%</th>\n      <th>...</th>\n      <th>usg%_max_opp</th>\n      <th>ortg_max_opp</th>\n      <th>drtg_max_opp</th>\n      <th>team_opp</th>\n      <th>total_opp</th>\n      <th>home_opp</th>\n      <th>season</th>\n      <th>date</th>\n      <th>won</th>\n      <th>target</th>\n    </tr>\n  </thead>\n  <tbody>\n    <tr>\n      <th>16</th>\n      <td>240.0</td>\n      <td>36.0</td>\n      <td>80.0</td>\n      <td>0.450</td>\n      <td>7.0</td>\n      <td>18.0</td>\n      <td>0.389</td>\n      <td>27.0</td>\n      <td>39.0</td>\n      <td>0.692</td>\n      <td>...</td>\n      <td>31.1</td>\n      <td>127.0</td>\n      <td>110.0</td>\n      <td>IND</td>\n      <td>99</td>\n      <td>0</td>\n      <td>2016</td>\n      <td>2015-10-28</td>\n      <td>True</td>\n      <td>True</td>\n    </tr>\n    <tr>\n      <th>58</th>\n      <td>240.0</td>\n      <td>36.0</td>\n      <td>82.0</td>\n      <td>0.439</td>\n      <td>11.0</td>\n      <td>26.0</td>\n      <td>0.423</td>\n      <td>30.0</td>\n      <td>35.0</td>\n      <td>0.857</td>\n      <td>...</td>\n      <td>32.7</td>\n      <td>120.0</td>\n      <td>116.0</td>\n      <td>BOS</td>\n      <td>103</td>\n      <td>1</td>\n      <td>2016</td>\n      <td>2015-10-30</td>\n      <td>True</td>\n      <td>True</td>\n    </tr>\n    <tr>\n      <th>77</th>\n      <td>240.0</td>\n      <td>41.0</td>\n      <td>90.0</td>\n      <td>0.456</td>\n      <td>11.0</td>\n      <td>25.0</td>\n      <td>0.440</td>\n      <td>13.0</td>\n      <td>20.0</td>\n      <td>0.650</td>\n      <td>...</td>\n      <td>53.8</td>\n      <td>150.0</td>\n      <td>130.0</td>\n      <td>MIL</td>\n      <td>87</td>\n      <td>0</td>\n      <td>2016</td>\n      <td>2015-11-01</td>\n      <td>True</td>\n      <td>True</td>\n    </tr>\n    <tr>\n      <th>115</th>\n      <td>240.0</td>\n      <td>37.0</td>\n      <td>82.0</td>\n      <td>0.451</td>\n      <td>5.0</td>\n      <td>17.0</td>\n      <td>0.294</td>\n      <td>23.0</td>\n      <td>26.0</td>\n      <td>0.885</td>\n      <td>...</td>\n      <td>100.0</td>\n      <td>136.0</td>\n      <td>114.0</td>\n      <td>DAL</td>\n      <td>91</td>\n      <td>1</td>\n      <td>2016</td>\n      <td>2015-11-03</td>\n      <td>True</td>\n      <td>True</td>\n    </tr>\n    <tr>\n      <th>125</th>\n      <td>240.0</td>\n      <td>33.0</td>\n      <td>79.0</td>\n      <td>0.418</td>\n      <td>5.0</td>\n      <td>14.0</td>\n      <td>0.357</td>\n      <td>32.0</td>\n      <td>39.0</td>\n      <td>0.821</td>\n      <td>...</td>\n      <td>39.0</td>\n      <td>139.0</td>\n      <td>119.0</td>\n      <td>OKC</td>\n      <td>98</td>\n      <td>1</td>\n      <td>2016</td>\n      <td>2015-11-04</td>\n      <td>True</td>\n      <td>False</td>\n    </tr>\n    <tr>\n      <th>...</th>\n      <td>...</td>\n      <td>...</td>\n      <td>...</td>\n      <td>...</td>\n      <td>...</td>\n      <td>...</td>\n      <td>...</td>\n      <td>...</td>\n      <td>...</td>\n      <td>...</td>\n      <td>...</td>\n      <td>...</td>\n      <td>...</td>\n      <td>...</td>\n      <td>...</td>\n      <td>...</td>\n      <td>...</td>\n      <td>...</td>\n      <td>...</td>\n      <td>...</td>\n      <td>...</td>\n    </tr>\n    <tr>\n      <th>21920</th>\n      <td>240.0</td>\n      <td>43.0</td>\n      <td>81.0</td>\n      <td>0.531</td>\n      <td>17.0</td>\n      <td>33.0</td>\n      <td>0.515</td>\n      <td>20.0</td>\n      <td>24.0</td>\n      <td>0.833</td>\n      <td>...</td>\n      <td>36.6</td>\n      <td>209.0</td>\n      <td>137.0</td>\n      <td>CHO</td>\n      <td>117</td>\n      <td>1</td>\n      <td>2024</td>\n      <td>2024-02-07</td>\n      <td>True</td>\n      <td>True</td>\n    </tr>\n    <tr>\n      <th>21942</th>\n      <td>240.0</td>\n      <td>40.0</td>\n      <td>95.0</td>\n      <td>0.421</td>\n      <td>10.0</td>\n      <td>33.0</td>\n      <td>0.303</td>\n      <td>17.0</td>\n      <td>19.0</td>\n      <td>0.895</td>\n      <td>...</td>\n      <td>30.9</td>\n      <td>300.0</td>\n      <td>118.0</td>\n      <td>HOU</td>\n      <td>104</td>\n      <td>0</td>\n      <td>2024</td>\n      <td>2024-02-09</td>\n      <td>True</td>\n      <td>False</td>\n    </tr>\n    <tr>\n      <th>21960</th>\n      <td>240.0</td>\n      <td>35.0</td>\n      <td>87.0</td>\n      <td>0.402</td>\n      <td>9.0</td>\n      <td>31.0</td>\n      <td>0.290</td>\n      <td>16.0</td>\n      <td>23.0</td>\n      <td>0.696</td>\n      <td>...</td>\n      <td>27.2</td>\n      <td>229.0</td>\n      <td>113.0</td>\n      <td>CLE</td>\n      <td>119</td>\n      <td>0</td>\n      <td>2024</td>\n      <td>2024-02-10</td>\n      <td>False</td>\n      <td>False</td>\n    </tr>\n    <tr>\n      <th>21981</th>\n      <td>240.0</td>\n      <td>39.0</td>\n      <td>98.0</td>\n      <td>0.398</td>\n      <td>8.0</td>\n      <td>31.0</td>\n      <td>0.258</td>\n      <td>13.0</td>\n      <td>16.0</td>\n      <td>0.813</td>\n      <td>...</td>\n      <td>34.3</td>\n      <td>155.0</td>\n      <td>107.0</td>\n      <td>SAS</td>\n      <td>122</td>\n      <td>0</td>\n      <td>2024</td>\n      <td>2024-02-12</td>\n      <td>False</td>\n      <td>False</td>\n    </tr>\n    <tr>\n      <th>22014</th>\n      <td>240.0</td>\n      <td>50.0</td>\n      <td>98.0</td>\n      <td>0.510</td>\n      <td>6.0</td>\n      <td>26.0</td>\n      <td>0.231</td>\n      <td>19.0</td>\n      <td>26.0</td>\n      <td>0.731</td>\n      <td>...</td>\n      <td>28.1</td>\n      <td>200.0</td>\n      <td>128.0</td>\n      <td>IND</td>\n      <td>127</td>\n      <td>0</td>\n      <td>2024</td>\n      <td>2024-02-14</td>\n      <td>False</td>\n      <td>NaN</td>\n    </tr>\n  </tbody>\n</table>\n<p>773 rows × 148 columns</p>\n</div>"
     },
     "execution_count": 7,
     "metadata": {},
     "output_type": "execute_result"
    }
   ],
   "source": [
    "df[df[\"team\"] == \"TOR\"]"
   ]
  },
  {
   "cell_type": "code",
   "execution_count": 8,
   "id": "75870480",
   "metadata": {
    "ExecuteTime": {
     "end_time": "2024-03-09T03:17:52.791858600Z",
     "start_time": "2024-03-09T03:17:52.650946300Z"
    }
   },
   "outputs": [],
   "source": [
    "df.loc[pd.isnull(df[\"target\"]), \"target\"] = 2"
   ]
  },
  {
   "cell_type": "code",
   "execution_count": 9,
   "id": "6dfab9f0",
   "metadata": {
    "ExecuteTime": {
     "end_time": "2024-03-09T03:17:52.825852400Z",
     "start_time": "2024-03-09T03:17:52.656534600Z"
    }
   },
   "outputs": [],
   "source": [
    "df[\"target\"] = df[\"target\"].astype(int, errors=\"ignore\")"
   ]
  },
  {
   "cell_type": "code",
   "execution_count": 10,
   "id": "49496153",
   "metadata": {
    "ExecuteTime": {
     "end_time": "2024-03-09T03:17:52.828857500Z",
     "start_time": "2024-03-09T03:17:52.664841600Z"
    }
   },
   "outputs": [
    {
     "data": {
      "text/plain": "won\nTrue     11022\nFalse    11022\nName: count, dtype: int64"
     },
     "execution_count": 10,
     "metadata": {},
     "output_type": "execute_result"
    }
   ],
   "source": [
    "# Check our dataset is balanced\n",
    "df[\"won\"].value_counts()"
   ]
  },
  {
   "cell_type": "code",
   "execution_count": 11,
   "id": "b0e04d40",
   "metadata": {
    "ExecuteTime": {
     "end_time": "2024-03-09T03:17:52.829854500Z",
     "start_time": "2024-03-09T03:17:52.674907100Z"
    }
   },
   "outputs": [
    {
     "data": {
      "text/plain": "target\n1    11008\n0    11006\n2       30\nName: count, dtype: int64"
     },
     "execution_count": 11,
     "metadata": {},
     "output_type": "execute_result"
    }
   ],
   "source": [
    "df[\"target\"].value_counts()"
   ]
  },
  {
   "cell_type": "code",
   "execution_count": 12,
   "id": "31b4f921",
   "metadata": {
    "ExecuteTime": {
     "end_time": "2024-03-09T03:17:52.858862900Z",
     "start_time": "2024-03-09T03:17:52.684327100Z"
    }
   },
   "outputs": [],
   "source": [
    "nulls = pd.isnull(df)"
   ]
  },
  {
   "cell_type": "code",
   "execution_count": 13,
   "id": "a1795cb7",
   "metadata": {
    "ExecuteTime": {
     "end_time": "2024-03-09T03:17:52.892948600Z",
     "start_time": "2024-03-09T03:17:52.698234900Z"
    }
   },
   "outputs": [],
   "source": [
    "nulls = nulls.sum()"
   ]
  },
  {
   "cell_type": "code",
   "execution_count": 14,
   "id": "970e2242",
   "metadata": {
    "ExecuteTime": {
     "end_time": "2024-03-09T03:17:52.894946500Z",
     "start_time": "2024-03-09T03:17:52.706802300Z"
    }
   },
   "outputs": [
    {
     "data": {
      "text/plain": "+/-             22044\nmp_max          22044\nmp_max.1        22044\n+/-_max            17\n+/-_opp         22044\nmp_max_opp      22044\nmp_max_opp.1    22044\n+/-_max_opp        17\ndtype: int64"
     },
     "execution_count": 14,
     "metadata": {},
     "output_type": "execute_result"
    }
   ],
   "source": [
    "nulls = nulls[nulls > 0]\n",
    "nulls"
   ]
  },
  {
   "cell_type": "code",
   "execution_count": 15,
   "id": "786fb91c",
   "metadata": {
    "ExecuteTime": {
     "end_time": "2024-03-09T03:17:52.926945900Z",
     "start_time": "2024-03-09T03:17:52.713950600Z"
    }
   },
   "outputs": [
    {
     "data": {
      "text/plain": "Index(['mp', 'fg', 'fga', 'fg%', '3p', '3pa', '3p%', 'ft', 'fta', 'ft%',\n       ...\n       'usg%_max_opp', 'ortg_max_opp', 'drtg_max_opp', 'team_opp', 'total_opp',\n       'home_opp', 'season', 'date', 'won', 'target'],\n      dtype='object', length=140)"
     },
     "execution_count": 15,
     "metadata": {},
     "output_type": "execute_result"
    }
   ],
   "source": [
    "valid_columns = df.columns[~df.columns.isin(nulls.index)]\n",
    "valid_columns"
   ]
  },
  {
   "cell_type": "code",
   "execution_count": 16,
   "id": "138e7283",
   "metadata": {
    "ExecuteTime": {
     "end_time": "2024-03-09T03:17:52.928944800Z",
     "start_time": "2024-03-09T03:17:52.721721300Z"
    }
   },
   "outputs": [],
   "source": [
    "df = df[valid_columns].copy()"
   ]
  },
  {
   "cell_type": "code",
   "execution_count": 17,
   "id": "c6519d22",
   "metadata": {
    "ExecuteTime": {
     "end_time": "2024-03-09T03:17:52.936946Z",
     "start_time": "2024-03-09T03:17:52.768581200Z"
    }
   },
   "outputs": [
    {
     "data": {
      "text/plain": "          mp    fg   fga    fg%    3p   3pa    3p%    ft   fta    ft%  ...  \\\n0      240.0  37.0  96.0  0.385  12.0  29.0  0.414  20.0  26.0  0.769  ...   \n1      240.0  37.0  82.0  0.451   8.0  27.0  0.296  12.0  15.0  0.800  ...   \n2      240.0  38.0  94.0  0.404   9.0  29.0  0.310  10.0  17.0  0.588  ...   \n3      240.0  37.0  87.0  0.425   7.0  19.0  0.368  16.0  23.0  0.696  ...   \n4      240.0  35.0  83.0  0.422   6.0  18.0  0.333  19.0  27.0  0.704  ...   \n...      ...   ...   ...    ...   ...   ...    ...   ...   ...    ...  ...   \n22039  240.0  42.0  90.0  0.467  11.0  44.0  0.250  15.0  20.0  0.750  ...   \n22040  240.0  44.0  83.0  0.530  13.0  26.0  0.500  12.0  19.0  0.632  ...   \n22041  240.0  46.0  89.0  0.517  11.0  30.0  0.367  25.0  27.0  0.926  ...   \n22042  240.0  31.0  83.0  0.373   8.0  29.0  0.276  21.0  30.0  0.700  ...   \n22043  240.0  43.0  93.0  0.462  22.0  49.0  0.449  29.0  32.0  0.906  ...   \n\n       usg%_max_opp  ortg_max_opp  drtg_max_opp  team_opp  total_opp  \\\n0              33.8         258.0         121.0       ATL         94   \n1              23.6         132.0         104.0       DET        106   \n2              34.6         162.0         104.0       CHI         97   \n3              29.0         138.0         105.0       CLE         95   \n4              43.7         206.0         104.0       GSW        111   \n...             ...           ...           ...       ...        ...   \n22039          32.0         161.0         118.0       MEM        113   \n22040          34.5         170.0         121.0       MIL        110   \n22041          31.5         200.0         137.0       POR         91   \n22042          33.0         181.0         101.0       MIN        128   \n22043          33.4         189.0         142.0       GSW        140   \n\n       home_opp  season        date    won  target  \n0             1    2016  2015-10-27   True       1  \n1             0    2016  2015-10-27  False       1  \n2             1    2016  2015-10-27  False       1  \n3             0    2016  2015-10-27   True       1  \n4             1    2016  2015-10-27  False       0  \n...         ...     ...         ...    ...     ...  \n22039         1    2024  2024-02-15  False       2  \n22040         0    2024  2024-02-15   True       2  \n22041         1    2024  2024-02-15   True       2  \n22042         0    2024  2024-02-15  False       2  \n22043         0    2024  2024-02-15  False       2  \n\n[22044 rows x 140 columns]",
      "text/html": "<div>\n<style scoped>\n    .dataframe tbody tr th:only-of-type {\n        vertical-align: middle;\n    }\n\n    .dataframe tbody tr th {\n        vertical-align: top;\n    }\n\n    .dataframe thead th {\n        text-align: right;\n    }\n</style>\n<table border=\"1\" class=\"dataframe\">\n  <thead>\n    <tr style=\"text-align: right;\">\n      <th></th>\n      <th>mp</th>\n      <th>fg</th>\n      <th>fga</th>\n      <th>fg%</th>\n      <th>3p</th>\n      <th>3pa</th>\n      <th>3p%</th>\n      <th>ft</th>\n      <th>fta</th>\n      <th>ft%</th>\n      <th>...</th>\n      <th>usg%_max_opp</th>\n      <th>ortg_max_opp</th>\n      <th>drtg_max_opp</th>\n      <th>team_opp</th>\n      <th>total_opp</th>\n      <th>home_opp</th>\n      <th>season</th>\n      <th>date</th>\n      <th>won</th>\n      <th>target</th>\n    </tr>\n  </thead>\n  <tbody>\n    <tr>\n      <th>0</th>\n      <td>240.0</td>\n      <td>37.0</td>\n      <td>96.0</td>\n      <td>0.385</td>\n      <td>12.0</td>\n      <td>29.0</td>\n      <td>0.414</td>\n      <td>20.0</td>\n      <td>26.0</td>\n      <td>0.769</td>\n      <td>...</td>\n      <td>33.8</td>\n      <td>258.0</td>\n      <td>121.0</td>\n      <td>ATL</td>\n      <td>94</td>\n      <td>1</td>\n      <td>2016</td>\n      <td>2015-10-27</td>\n      <td>True</td>\n      <td>1</td>\n    </tr>\n    <tr>\n      <th>1</th>\n      <td>240.0</td>\n      <td>37.0</td>\n      <td>82.0</td>\n      <td>0.451</td>\n      <td>8.0</td>\n      <td>27.0</td>\n      <td>0.296</td>\n      <td>12.0</td>\n      <td>15.0</td>\n      <td>0.800</td>\n      <td>...</td>\n      <td>23.6</td>\n      <td>132.0</td>\n      <td>104.0</td>\n      <td>DET</td>\n      <td>106</td>\n      <td>0</td>\n      <td>2016</td>\n      <td>2015-10-27</td>\n      <td>False</td>\n      <td>1</td>\n    </tr>\n    <tr>\n      <th>2</th>\n      <td>240.0</td>\n      <td>38.0</td>\n      <td>94.0</td>\n      <td>0.404</td>\n      <td>9.0</td>\n      <td>29.0</td>\n      <td>0.310</td>\n      <td>10.0</td>\n      <td>17.0</td>\n      <td>0.588</td>\n      <td>...</td>\n      <td>34.6</td>\n      <td>162.0</td>\n      <td>104.0</td>\n      <td>CHI</td>\n      <td>97</td>\n      <td>1</td>\n      <td>2016</td>\n      <td>2015-10-27</td>\n      <td>False</td>\n      <td>1</td>\n    </tr>\n    <tr>\n      <th>3</th>\n      <td>240.0</td>\n      <td>37.0</td>\n      <td>87.0</td>\n      <td>0.425</td>\n      <td>7.0</td>\n      <td>19.0</td>\n      <td>0.368</td>\n      <td>16.0</td>\n      <td>23.0</td>\n      <td>0.696</td>\n      <td>...</td>\n      <td>29.0</td>\n      <td>138.0</td>\n      <td>105.0</td>\n      <td>CLE</td>\n      <td>95</td>\n      <td>0</td>\n      <td>2016</td>\n      <td>2015-10-27</td>\n      <td>True</td>\n      <td>1</td>\n    </tr>\n    <tr>\n      <th>4</th>\n      <td>240.0</td>\n      <td>35.0</td>\n      <td>83.0</td>\n      <td>0.422</td>\n      <td>6.0</td>\n      <td>18.0</td>\n      <td>0.333</td>\n      <td>19.0</td>\n      <td>27.0</td>\n      <td>0.704</td>\n      <td>...</td>\n      <td>43.7</td>\n      <td>206.0</td>\n      <td>104.0</td>\n      <td>GSW</td>\n      <td>111</td>\n      <td>1</td>\n      <td>2016</td>\n      <td>2015-10-27</td>\n      <td>False</td>\n      <td>0</td>\n    </tr>\n    <tr>\n      <th>...</th>\n      <td>...</td>\n      <td>...</td>\n      <td>...</td>\n      <td>...</td>\n      <td>...</td>\n      <td>...</td>\n      <td>...</td>\n      <td>...</td>\n      <td>...</td>\n      <td>...</td>\n      <td>...</td>\n      <td>...</td>\n      <td>...</td>\n      <td>...</td>\n      <td>...</td>\n      <td>...</td>\n      <td>...</td>\n      <td>...</td>\n      <td>...</td>\n      <td>...</td>\n      <td>...</td>\n    </tr>\n    <tr>\n      <th>22039</th>\n      <td>240.0</td>\n      <td>42.0</td>\n      <td>90.0</td>\n      <td>0.467</td>\n      <td>11.0</td>\n      <td>44.0</td>\n      <td>0.250</td>\n      <td>15.0</td>\n      <td>20.0</td>\n      <td>0.750</td>\n      <td>...</td>\n      <td>32.0</td>\n      <td>161.0</td>\n      <td>118.0</td>\n      <td>MEM</td>\n      <td>113</td>\n      <td>1</td>\n      <td>2024</td>\n      <td>2024-02-15</td>\n      <td>False</td>\n      <td>2</td>\n    </tr>\n    <tr>\n      <th>22040</th>\n      <td>240.0</td>\n      <td>44.0</td>\n      <td>83.0</td>\n      <td>0.530</td>\n      <td>13.0</td>\n      <td>26.0</td>\n      <td>0.500</td>\n      <td>12.0</td>\n      <td>19.0</td>\n      <td>0.632</td>\n      <td>...</td>\n      <td>34.5</td>\n      <td>170.0</td>\n      <td>121.0</td>\n      <td>MIL</td>\n      <td>110</td>\n      <td>0</td>\n      <td>2024</td>\n      <td>2024-02-15</td>\n      <td>True</td>\n      <td>2</td>\n    </tr>\n    <tr>\n      <th>22041</th>\n      <td>240.0</td>\n      <td>46.0</td>\n      <td>89.0</td>\n      <td>0.517</td>\n      <td>11.0</td>\n      <td>30.0</td>\n      <td>0.367</td>\n      <td>25.0</td>\n      <td>27.0</td>\n      <td>0.926</td>\n      <td>...</td>\n      <td>31.5</td>\n      <td>200.0</td>\n      <td>137.0</td>\n      <td>POR</td>\n      <td>91</td>\n      <td>1</td>\n      <td>2024</td>\n      <td>2024-02-15</td>\n      <td>True</td>\n      <td>2</td>\n    </tr>\n    <tr>\n      <th>22042</th>\n      <td>240.0</td>\n      <td>31.0</td>\n      <td>83.0</td>\n      <td>0.373</td>\n      <td>8.0</td>\n      <td>29.0</td>\n      <td>0.276</td>\n      <td>21.0</td>\n      <td>30.0</td>\n      <td>0.700</td>\n      <td>...</td>\n      <td>33.0</td>\n      <td>181.0</td>\n      <td>101.0</td>\n      <td>MIN</td>\n      <td>128</td>\n      <td>0</td>\n      <td>2024</td>\n      <td>2024-02-15</td>\n      <td>False</td>\n      <td>2</td>\n    </tr>\n    <tr>\n      <th>22043</th>\n      <td>240.0</td>\n      <td>43.0</td>\n      <td>93.0</td>\n      <td>0.462</td>\n      <td>22.0</td>\n      <td>49.0</td>\n      <td>0.449</td>\n      <td>29.0</td>\n      <td>32.0</td>\n      <td>0.906</td>\n      <td>...</td>\n      <td>33.4</td>\n      <td>189.0</td>\n      <td>142.0</td>\n      <td>GSW</td>\n      <td>140</td>\n      <td>0</td>\n      <td>2024</td>\n      <td>2024-02-15</td>\n      <td>False</td>\n      <td>2</td>\n    </tr>\n  </tbody>\n</table>\n<p>22044 rows × 140 columns</p>\n</div>"
     },
     "execution_count": 17,
     "metadata": {},
     "output_type": "execute_result"
    }
   ],
   "source": [
    "df  # should have 142 columns"
   ]
  },
  {
   "cell_type": "code",
   "execution_count": 18,
   "id": "6fc23af1",
   "metadata": {
    "ExecuteTime": {
     "end_time": "2024-03-09T03:17:53.845832400Z",
     "start_time": "2024-03-09T03:17:52.793853600Z"
    }
   },
   "outputs": [],
   "source": [
    "from sklearn.model_selection import TimeSeriesSplit\n",
    "from sklearn.feature_selection import SequentialFeatureSelector\n",
    "from sklearn.linear_model import RidgeClassifier\n",
    "\n",
    "rr = RidgeClassifier(alpha=1)\n",
    "split = TimeSeriesSplit(n_splits=3)\n",
    "\n",
    "sfs = SequentialFeatureSelector(rr, n_features_to_select=30, direction=\"forward\", cv=split)"
   ]
  },
  {
   "cell_type": "code",
   "execution_count": 19,
   "id": "a315a7cf",
   "metadata": {
    "ExecuteTime": {
     "end_time": "2024-03-09T03:17:53.868848700Z",
     "start_time": "2024-03-09T03:17:53.830755300Z"
    }
   },
   "outputs": [],
   "source": [
    "removed_columns = [\"season\", \"date\", \"won\", \"target\", \"team\", \"team_opp\"]"
   ]
  },
  {
   "cell_type": "code",
   "execution_count": 20,
   "id": "6771533f",
   "metadata": {
    "ExecuteTime": {
     "end_time": "2024-03-09T03:17:53.869848400Z",
     "start_time": "2024-03-09T03:17:53.833710700Z"
    }
   },
   "outputs": [],
   "source": [
    "selected_columns = df.columns[~df.columns.isin(removed_columns)]"
   ]
  },
  {
   "cell_type": "code",
   "execution_count": 21,
   "id": "96bcd682",
   "metadata": {
    "ExecuteTime": {
     "end_time": "2024-03-09T03:17:53.957802Z",
     "start_time": "2024-03-09T03:17:53.842831900Z"
    }
   },
   "outputs": [],
   "source": [
    "from sklearn.preprocessing import MinMaxScaler\n",
    "\n",
    "scaler = MinMaxScaler()\n",
    "df[selected_columns] = scaler.fit_transform(df[selected_columns])"
   ]
  },
  {
   "cell_type": "code",
   "execution_count": 22,
   "id": "bb93a70e",
   "metadata": {
    "ExecuteTime": {
     "end_time": "2024-03-09T03:17:53.988661900Z",
     "start_time": "2024-03-09T03:17:53.933792300Z"
    }
   },
   "outputs": [
    {
     "data": {
      "text/plain": "        mp        fg       fga       fg%        3p       3pa       3p%  \\\n0      0.0  0.391304  0.529412  0.277512  0.413793  0.378788  0.491686   \n1      0.0  0.391304  0.323529  0.435407  0.275862  0.348485  0.351544   \n2      0.0  0.413043  0.500000  0.322967  0.310345  0.378788  0.368171   \n3      0.0  0.391304  0.397059  0.373206  0.241379  0.227273  0.437055   \n4      0.0  0.347826  0.338235  0.366029  0.206897  0.212121  0.395487   \n...    ...       ...       ...       ...       ...       ...       ...   \n22039  0.0  0.500000  0.441176  0.473684  0.379310  0.606061  0.296912   \n22040  0.0  0.543478  0.338235  0.624402  0.448276  0.333333  0.593824   \n22041  0.0  0.586957  0.426471  0.593301  0.379310  0.393939  0.435867   \n22042  0.0  0.260870  0.338235  0.248804  0.275862  0.378788  0.327791   \n22043  0.0  0.521739  0.485294  0.461722  0.758621  0.681818  0.533254   \n\n             ft       fta       ft%  ...  usg%_max_opp  ortg_max_opp  \\\n0      0.441860  0.396825  0.730455  ...      0.151282      0.800948   \n1      0.255814  0.222222  0.766628  ...      0.020513      0.203791   \n2      0.209302  0.253968  0.519253  ...      0.161538      0.345972   \n3      0.348837  0.349206  0.645274  ...      0.089744      0.232227   \n4      0.418605  0.412698  0.654609  ...      0.278205      0.554502   \n...         ...       ...       ...  ...           ...           ...   \n22039  0.325581  0.301587  0.708285  ...      0.128205      0.341232   \n22040  0.255814  0.285714  0.570595  ...      0.160256      0.383886   \n22041  0.558140  0.412698  0.913652  ...      0.121795      0.526066   \n22042  0.465116  0.460317  0.649942  ...      0.141026      0.436019   \n22043  0.651163  0.492063  0.890315  ...      0.146154      0.473934   \n\n       drtg_max_opp  team_opp  total_opp  home_opp  season        date    won  \\\n0          0.517647       ATL   0.267857       1.0    2016  2015-10-27   True   \n1          0.317647       DET   0.375000       0.0    2016  2015-10-27  False   \n2          0.317647       CHI   0.294643       1.0    2016  2015-10-27  False   \n3          0.329412       CLE   0.276786       0.0    2016  2015-10-27   True   \n4          0.317647       GSW   0.419643       1.0    2016  2015-10-27  False   \n...             ...       ...        ...       ...     ...         ...    ...   \n22039      0.482353       MEM   0.437500       1.0    2024  2024-02-15  False   \n22040      0.517647       MIL   0.410714       0.0    2024  2024-02-15   True   \n22041      0.705882       POR   0.241071       1.0    2024  2024-02-15   True   \n22042      0.282353       MIN   0.571429       0.0    2024  2024-02-15  False   \n22043      0.764706       GSW   0.678571       0.0    2024  2024-02-15  False   \n\n       target  \n0           1  \n1           1  \n2           1  \n3           1  \n4           0  \n...       ...  \n22039       2  \n22040       2  \n22041       2  \n22042       2  \n22043       2  \n\n[22044 rows x 140 columns]",
      "text/html": "<div>\n<style scoped>\n    .dataframe tbody tr th:only-of-type {\n        vertical-align: middle;\n    }\n\n    .dataframe tbody tr th {\n        vertical-align: top;\n    }\n\n    .dataframe thead th {\n        text-align: right;\n    }\n</style>\n<table border=\"1\" class=\"dataframe\">\n  <thead>\n    <tr style=\"text-align: right;\">\n      <th></th>\n      <th>mp</th>\n      <th>fg</th>\n      <th>fga</th>\n      <th>fg%</th>\n      <th>3p</th>\n      <th>3pa</th>\n      <th>3p%</th>\n      <th>ft</th>\n      <th>fta</th>\n      <th>ft%</th>\n      <th>...</th>\n      <th>usg%_max_opp</th>\n      <th>ortg_max_opp</th>\n      <th>drtg_max_opp</th>\n      <th>team_opp</th>\n      <th>total_opp</th>\n      <th>home_opp</th>\n      <th>season</th>\n      <th>date</th>\n      <th>won</th>\n      <th>target</th>\n    </tr>\n  </thead>\n  <tbody>\n    <tr>\n      <th>0</th>\n      <td>0.0</td>\n      <td>0.391304</td>\n      <td>0.529412</td>\n      <td>0.277512</td>\n      <td>0.413793</td>\n      <td>0.378788</td>\n      <td>0.491686</td>\n      <td>0.441860</td>\n      <td>0.396825</td>\n      <td>0.730455</td>\n      <td>...</td>\n      <td>0.151282</td>\n      <td>0.800948</td>\n      <td>0.517647</td>\n      <td>ATL</td>\n      <td>0.267857</td>\n      <td>1.0</td>\n      <td>2016</td>\n      <td>2015-10-27</td>\n      <td>True</td>\n      <td>1</td>\n    </tr>\n    <tr>\n      <th>1</th>\n      <td>0.0</td>\n      <td>0.391304</td>\n      <td>0.323529</td>\n      <td>0.435407</td>\n      <td>0.275862</td>\n      <td>0.348485</td>\n      <td>0.351544</td>\n      <td>0.255814</td>\n      <td>0.222222</td>\n      <td>0.766628</td>\n      <td>...</td>\n      <td>0.020513</td>\n      <td>0.203791</td>\n      <td>0.317647</td>\n      <td>DET</td>\n      <td>0.375000</td>\n      <td>0.0</td>\n      <td>2016</td>\n      <td>2015-10-27</td>\n      <td>False</td>\n      <td>1</td>\n    </tr>\n    <tr>\n      <th>2</th>\n      <td>0.0</td>\n      <td>0.413043</td>\n      <td>0.500000</td>\n      <td>0.322967</td>\n      <td>0.310345</td>\n      <td>0.378788</td>\n      <td>0.368171</td>\n      <td>0.209302</td>\n      <td>0.253968</td>\n      <td>0.519253</td>\n      <td>...</td>\n      <td>0.161538</td>\n      <td>0.345972</td>\n      <td>0.317647</td>\n      <td>CHI</td>\n      <td>0.294643</td>\n      <td>1.0</td>\n      <td>2016</td>\n      <td>2015-10-27</td>\n      <td>False</td>\n      <td>1</td>\n    </tr>\n    <tr>\n      <th>3</th>\n      <td>0.0</td>\n      <td>0.391304</td>\n      <td>0.397059</td>\n      <td>0.373206</td>\n      <td>0.241379</td>\n      <td>0.227273</td>\n      <td>0.437055</td>\n      <td>0.348837</td>\n      <td>0.349206</td>\n      <td>0.645274</td>\n      <td>...</td>\n      <td>0.089744</td>\n      <td>0.232227</td>\n      <td>0.329412</td>\n      <td>CLE</td>\n      <td>0.276786</td>\n      <td>0.0</td>\n      <td>2016</td>\n      <td>2015-10-27</td>\n      <td>True</td>\n      <td>1</td>\n    </tr>\n    <tr>\n      <th>4</th>\n      <td>0.0</td>\n      <td>0.347826</td>\n      <td>0.338235</td>\n      <td>0.366029</td>\n      <td>0.206897</td>\n      <td>0.212121</td>\n      <td>0.395487</td>\n      <td>0.418605</td>\n      <td>0.412698</td>\n      <td>0.654609</td>\n      <td>...</td>\n      <td>0.278205</td>\n      <td>0.554502</td>\n      <td>0.317647</td>\n      <td>GSW</td>\n      <td>0.419643</td>\n      <td>1.0</td>\n      <td>2016</td>\n      <td>2015-10-27</td>\n      <td>False</td>\n      <td>0</td>\n    </tr>\n    <tr>\n      <th>...</th>\n      <td>...</td>\n      <td>...</td>\n      <td>...</td>\n      <td>...</td>\n      <td>...</td>\n      <td>...</td>\n      <td>...</td>\n      <td>...</td>\n      <td>...</td>\n      <td>...</td>\n      <td>...</td>\n      <td>...</td>\n      <td>...</td>\n      <td>...</td>\n      <td>...</td>\n      <td>...</td>\n      <td>...</td>\n      <td>...</td>\n      <td>...</td>\n      <td>...</td>\n      <td>...</td>\n    </tr>\n    <tr>\n      <th>22039</th>\n      <td>0.0</td>\n      <td>0.500000</td>\n      <td>0.441176</td>\n      <td>0.473684</td>\n      <td>0.379310</td>\n      <td>0.606061</td>\n      <td>0.296912</td>\n      <td>0.325581</td>\n      <td>0.301587</td>\n      <td>0.708285</td>\n      <td>...</td>\n      <td>0.128205</td>\n      <td>0.341232</td>\n      <td>0.482353</td>\n      <td>MEM</td>\n      <td>0.437500</td>\n      <td>1.0</td>\n      <td>2024</td>\n      <td>2024-02-15</td>\n      <td>False</td>\n      <td>2</td>\n    </tr>\n    <tr>\n      <th>22040</th>\n      <td>0.0</td>\n      <td>0.543478</td>\n      <td>0.338235</td>\n      <td>0.624402</td>\n      <td>0.448276</td>\n      <td>0.333333</td>\n      <td>0.593824</td>\n      <td>0.255814</td>\n      <td>0.285714</td>\n      <td>0.570595</td>\n      <td>...</td>\n      <td>0.160256</td>\n      <td>0.383886</td>\n      <td>0.517647</td>\n      <td>MIL</td>\n      <td>0.410714</td>\n      <td>0.0</td>\n      <td>2024</td>\n      <td>2024-02-15</td>\n      <td>True</td>\n      <td>2</td>\n    </tr>\n    <tr>\n      <th>22041</th>\n      <td>0.0</td>\n      <td>0.586957</td>\n      <td>0.426471</td>\n      <td>0.593301</td>\n      <td>0.379310</td>\n      <td>0.393939</td>\n      <td>0.435867</td>\n      <td>0.558140</td>\n      <td>0.412698</td>\n      <td>0.913652</td>\n      <td>...</td>\n      <td>0.121795</td>\n      <td>0.526066</td>\n      <td>0.705882</td>\n      <td>POR</td>\n      <td>0.241071</td>\n      <td>1.0</td>\n      <td>2024</td>\n      <td>2024-02-15</td>\n      <td>True</td>\n      <td>2</td>\n    </tr>\n    <tr>\n      <th>22042</th>\n      <td>0.0</td>\n      <td>0.260870</td>\n      <td>0.338235</td>\n      <td>0.248804</td>\n      <td>0.275862</td>\n      <td>0.378788</td>\n      <td>0.327791</td>\n      <td>0.465116</td>\n      <td>0.460317</td>\n      <td>0.649942</td>\n      <td>...</td>\n      <td>0.141026</td>\n      <td>0.436019</td>\n      <td>0.282353</td>\n      <td>MIN</td>\n      <td>0.571429</td>\n      <td>0.0</td>\n      <td>2024</td>\n      <td>2024-02-15</td>\n      <td>False</td>\n      <td>2</td>\n    </tr>\n    <tr>\n      <th>22043</th>\n      <td>0.0</td>\n      <td>0.521739</td>\n      <td>0.485294</td>\n      <td>0.461722</td>\n      <td>0.758621</td>\n      <td>0.681818</td>\n      <td>0.533254</td>\n      <td>0.651163</td>\n      <td>0.492063</td>\n      <td>0.890315</td>\n      <td>...</td>\n      <td>0.146154</td>\n      <td>0.473934</td>\n      <td>0.764706</td>\n      <td>GSW</td>\n      <td>0.678571</td>\n      <td>0.0</td>\n      <td>2024</td>\n      <td>2024-02-15</td>\n      <td>False</td>\n      <td>2</td>\n    </tr>\n  </tbody>\n</table>\n<p>22044 rows × 140 columns</p>\n</div>"
     },
     "execution_count": 22,
     "metadata": {},
     "output_type": "execute_result"
    }
   ],
   "source": [
    "df"
   ]
  },
  {
   "cell_type": "code",
   "execution_count": 23,
   "id": "c01a2baa",
   "metadata": {
    "ExecuteTime": {
     "end_time": "2024-03-09T03:19:07.587759Z",
     "start_time": "2024-03-09T03:17:53.965138900Z"
    }
   },
   "outputs": [
    {
     "data": {
      "text/plain": "SequentialFeatureSelector(cv=TimeSeriesSplit(gap=0, max_train_size=None, n_splits=3, test_size=None),\n                          estimator=RidgeClassifier(alpha=1),\n                          n_features_to_select=30)",
      "text/html": "<style>#sk-container-id-1 {\n  /* Definition of color scheme common for light and dark mode */\n  --sklearn-color-text: black;\n  --sklearn-color-line: gray;\n  /* Definition of color scheme for unfitted estimators */\n  --sklearn-color-unfitted-level-0: #fff5e6;\n  --sklearn-color-unfitted-level-1: #f6e4d2;\n  --sklearn-color-unfitted-level-2: #ffe0b3;\n  --sklearn-color-unfitted-level-3: chocolate;\n  /* Definition of color scheme for fitted estimators */\n  --sklearn-color-fitted-level-0: #f0f8ff;\n  --sklearn-color-fitted-level-1: #d4ebff;\n  --sklearn-color-fitted-level-2: #b3dbfd;\n  --sklearn-color-fitted-level-3: cornflowerblue;\n\n  /* Specific color for light theme */\n  --sklearn-color-text-on-default-background: var(--sg-text-color, var(--theme-code-foreground, var(--jp-content-font-color1, black)));\n  --sklearn-color-background: var(--sg-background-color, var(--theme-background, var(--jp-layout-color0, white)));\n  --sklearn-color-border-box: var(--sg-text-color, var(--theme-code-foreground, var(--jp-content-font-color1, black)));\n  --sklearn-color-icon: #696969;\n\n  @media (prefers-color-scheme: dark) {\n    /* Redefinition of color scheme for dark theme */\n    --sklearn-color-text-on-default-background: var(--sg-text-color, var(--theme-code-foreground, var(--jp-content-font-color1, white)));\n    --sklearn-color-background: var(--sg-background-color, var(--theme-background, var(--jp-layout-color0, #111)));\n    --sklearn-color-border-box: var(--sg-text-color, var(--theme-code-foreground, var(--jp-content-font-color1, white)));\n    --sklearn-color-icon: #878787;\n  }\n}\n\n#sk-container-id-1 {\n  color: var(--sklearn-color-text);\n}\n\n#sk-container-id-1 pre {\n  padding: 0;\n}\n\n#sk-container-id-1 input.sk-hidden--visually {\n  border: 0;\n  clip: rect(1px 1px 1px 1px);\n  clip: rect(1px, 1px, 1px, 1px);\n  height: 1px;\n  margin: -1px;\n  overflow: hidden;\n  padding: 0;\n  position: absolute;\n  width: 1px;\n}\n\n#sk-container-id-1 div.sk-dashed-wrapped {\n  border: 1px dashed var(--sklearn-color-line);\n  margin: 0 0.4em 0.5em 0.4em;\n  box-sizing: border-box;\n  padding-bottom: 0.4em;\n  background-color: var(--sklearn-color-background);\n}\n\n#sk-container-id-1 div.sk-container {\n  /* jupyter's `normalize.less` sets `[hidden] { display: none; }`\n     but bootstrap.min.css set `[hidden] { display: none !important; }`\n     so we also need the `!important` here to be able to override the\n     default hidden behavior on the sphinx rendered scikit-learn.org.\n     See: https://github.com/scikit-learn/scikit-learn/issues/21755 */\n  display: inline-block !important;\n  position: relative;\n}\n\n#sk-container-id-1 div.sk-text-repr-fallback {\n  display: none;\n}\n\ndiv.sk-parallel-item,\ndiv.sk-serial,\ndiv.sk-item {\n  /* draw centered vertical line to link estimators */\n  background-image: linear-gradient(var(--sklearn-color-text-on-default-background), var(--sklearn-color-text-on-default-background));\n  background-size: 2px 100%;\n  background-repeat: no-repeat;\n  background-position: center center;\n}\n\n/* Parallel-specific style estimator block */\n\n#sk-container-id-1 div.sk-parallel-item::after {\n  content: \"\";\n  width: 100%;\n  border-bottom: 2px solid var(--sklearn-color-text-on-default-background);\n  flex-grow: 1;\n}\n\n#sk-container-id-1 div.sk-parallel {\n  display: flex;\n  align-items: stretch;\n  justify-content: center;\n  background-color: var(--sklearn-color-background);\n  position: relative;\n}\n\n#sk-container-id-1 div.sk-parallel-item {\n  display: flex;\n  flex-direction: column;\n}\n\n#sk-container-id-1 div.sk-parallel-item:first-child::after {\n  align-self: flex-end;\n  width: 50%;\n}\n\n#sk-container-id-1 div.sk-parallel-item:last-child::after {\n  align-self: flex-start;\n  width: 50%;\n}\n\n#sk-container-id-1 div.sk-parallel-item:only-child::after {\n  width: 0;\n}\n\n/* Serial-specific style estimator block */\n\n#sk-container-id-1 div.sk-serial {\n  display: flex;\n  flex-direction: column;\n  align-items: center;\n  background-color: var(--sklearn-color-background);\n  padding-right: 1em;\n  padding-left: 1em;\n}\n\n\n/* Toggleable style: style used for estimator/Pipeline/ColumnTransformer box that is\nclickable and can be expanded/collapsed.\n- Pipeline and ColumnTransformer use this feature and define the default style\n- Estimators will overwrite some part of the style using the `sk-estimator` class\n*/\n\n/* Pipeline and ColumnTransformer style (default) */\n\n#sk-container-id-1 div.sk-toggleable {\n  /* Default theme specific background. It is overwritten whether we have a\n  specific estimator or a Pipeline/ColumnTransformer */\n  background-color: var(--sklearn-color-background);\n}\n\n/* Toggleable label */\n#sk-container-id-1 label.sk-toggleable__label {\n  cursor: pointer;\n  display: block;\n  width: 100%;\n  margin-bottom: 0;\n  padding: 0.5em;\n  box-sizing: border-box;\n  text-align: center;\n}\n\n#sk-container-id-1 label.sk-toggleable__label-arrow:before {\n  /* Arrow on the left of the label */\n  content: \"▸\";\n  float: left;\n  margin-right: 0.25em;\n  color: var(--sklearn-color-icon);\n}\n\n#sk-container-id-1 label.sk-toggleable__label-arrow:hover:before {\n  color: var(--sklearn-color-text);\n}\n\n/* Toggleable content - dropdown */\n\n#sk-container-id-1 div.sk-toggleable__content {\n  max-height: 0;\n  max-width: 0;\n  overflow: hidden;\n  text-align: left;\n  /* unfitted */\n  background-color: var(--sklearn-color-unfitted-level-0);\n}\n\n#sk-container-id-1 div.sk-toggleable__content.fitted {\n  /* fitted */\n  background-color: var(--sklearn-color-fitted-level-0);\n}\n\n#sk-container-id-1 div.sk-toggleable__content pre {\n  margin: 0.2em;\n  border-radius: 0.25em;\n  color: var(--sklearn-color-text);\n  /* unfitted */\n  background-color: var(--sklearn-color-unfitted-level-0);\n}\n\n#sk-container-id-1 div.sk-toggleable__content.fitted pre {\n  /* unfitted */\n  background-color: var(--sklearn-color-fitted-level-0);\n}\n\n#sk-container-id-1 input.sk-toggleable__control:checked~div.sk-toggleable__content {\n  /* Expand drop-down */\n  max-height: 200px;\n  max-width: 100%;\n  overflow: auto;\n}\n\n#sk-container-id-1 input.sk-toggleable__control:checked~label.sk-toggleable__label-arrow:before {\n  content: \"▾\";\n}\n\n/* Pipeline/ColumnTransformer-specific style */\n\n#sk-container-id-1 div.sk-label input.sk-toggleable__control:checked~label.sk-toggleable__label {\n  color: var(--sklearn-color-text);\n  background-color: var(--sklearn-color-unfitted-level-2);\n}\n\n#sk-container-id-1 div.sk-label.fitted input.sk-toggleable__control:checked~label.sk-toggleable__label {\n  background-color: var(--sklearn-color-fitted-level-2);\n}\n\n/* Estimator-specific style */\n\n/* Colorize estimator box */\n#sk-container-id-1 div.sk-estimator input.sk-toggleable__control:checked~label.sk-toggleable__label {\n  /* unfitted */\n  background-color: var(--sklearn-color-unfitted-level-2);\n}\n\n#sk-container-id-1 div.sk-estimator.fitted input.sk-toggleable__control:checked~label.sk-toggleable__label {\n  /* fitted */\n  background-color: var(--sklearn-color-fitted-level-2);\n}\n\n#sk-container-id-1 div.sk-label label.sk-toggleable__label,\n#sk-container-id-1 div.sk-label label {\n  /* The background is the default theme color */\n  color: var(--sklearn-color-text-on-default-background);\n}\n\n/* On hover, darken the color of the background */\n#sk-container-id-1 div.sk-label:hover label.sk-toggleable__label {\n  color: var(--sklearn-color-text);\n  background-color: var(--sklearn-color-unfitted-level-2);\n}\n\n/* Label box, darken color on hover, fitted */\n#sk-container-id-1 div.sk-label.fitted:hover label.sk-toggleable__label.fitted {\n  color: var(--sklearn-color-text);\n  background-color: var(--sklearn-color-fitted-level-2);\n}\n\n/* Estimator label */\n\n#sk-container-id-1 div.sk-label label {\n  font-family: monospace;\n  font-weight: bold;\n  display: inline-block;\n  line-height: 1.2em;\n}\n\n#sk-container-id-1 div.sk-label-container {\n  text-align: center;\n}\n\n/* Estimator-specific */\n#sk-container-id-1 div.sk-estimator {\n  font-family: monospace;\n  border: 1px dotted var(--sklearn-color-border-box);\n  border-radius: 0.25em;\n  box-sizing: border-box;\n  margin-bottom: 0.5em;\n  /* unfitted */\n  background-color: var(--sklearn-color-unfitted-level-0);\n}\n\n#sk-container-id-1 div.sk-estimator.fitted {\n  /* fitted */\n  background-color: var(--sklearn-color-fitted-level-0);\n}\n\n/* on hover */\n#sk-container-id-1 div.sk-estimator:hover {\n  /* unfitted */\n  background-color: var(--sklearn-color-unfitted-level-2);\n}\n\n#sk-container-id-1 div.sk-estimator.fitted:hover {\n  /* fitted */\n  background-color: var(--sklearn-color-fitted-level-2);\n}\n\n/* Specification for estimator info (e.g. \"i\" and \"?\") */\n\n/* Common style for \"i\" and \"?\" */\n\n.sk-estimator-doc-link,\na:link.sk-estimator-doc-link,\na:visited.sk-estimator-doc-link {\n  float: right;\n  font-size: smaller;\n  line-height: 1em;\n  font-family: monospace;\n  background-color: var(--sklearn-color-background);\n  border-radius: 1em;\n  height: 1em;\n  width: 1em;\n  text-decoration: none !important;\n  margin-left: 1ex;\n  /* unfitted */\n  border: var(--sklearn-color-unfitted-level-1) 1pt solid;\n  color: var(--sklearn-color-unfitted-level-1);\n}\n\n.sk-estimator-doc-link.fitted,\na:link.sk-estimator-doc-link.fitted,\na:visited.sk-estimator-doc-link.fitted {\n  /* fitted */\n  border: var(--sklearn-color-fitted-level-1) 1pt solid;\n  color: var(--sklearn-color-fitted-level-1);\n}\n\n/* On hover */\ndiv.sk-estimator:hover .sk-estimator-doc-link:hover,\n.sk-estimator-doc-link:hover,\ndiv.sk-label-container:hover .sk-estimator-doc-link:hover,\n.sk-estimator-doc-link:hover {\n  /* unfitted */\n  background-color: var(--sklearn-color-unfitted-level-3);\n  color: var(--sklearn-color-background);\n  text-decoration: none;\n}\n\ndiv.sk-estimator.fitted:hover .sk-estimator-doc-link.fitted:hover,\n.sk-estimator-doc-link.fitted:hover,\ndiv.sk-label-container:hover .sk-estimator-doc-link.fitted:hover,\n.sk-estimator-doc-link.fitted:hover {\n  /* fitted */\n  background-color: var(--sklearn-color-fitted-level-3);\n  color: var(--sklearn-color-background);\n  text-decoration: none;\n}\n\n/* Span, style for the box shown on hovering the info icon */\n.sk-estimator-doc-link span {\n  display: none;\n  z-index: 9999;\n  position: relative;\n  font-weight: normal;\n  right: .2ex;\n  padding: .5ex;\n  margin: .5ex;\n  width: min-content;\n  min-width: 20ex;\n  max-width: 50ex;\n  color: var(--sklearn-color-text);\n  box-shadow: 2pt 2pt 4pt #999;\n  /* unfitted */\n  background: var(--sklearn-color-unfitted-level-0);\n  border: .5pt solid var(--sklearn-color-unfitted-level-3);\n}\n\n.sk-estimator-doc-link.fitted span {\n  /* fitted */\n  background: var(--sklearn-color-fitted-level-0);\n  border: var(--sklearn-color-fitted-level-3);\n}\n\n.sk-estimator-doc-link:hover span {\n  display: block;\n}\n\n/* \"?\"-specific style due to the `<a>` HTML tag */\n\n#sk-container-id-1 a.estimator_doc_link {\n  float: right;\n  font-size: 1rem;\n  line-height: 1em;\n  font-family: monospace;\n  background-color: var(--sklearn-color-background);\n  border-radius: 1rem;\n  height: 1rem;\n  width: 1rem;\n  text-decoration: none;\n  /* unfitted */\n  color: var(--sklearn-color-unfitted-level-1);\n  border: var(--sklearn-color-unfitted-level-1) 1pt solid;\n}\n\n#sk-container-id-1 a.estimator_doc_link.fitted {\n  /* fitted */\n  border: var(--sklearn-color-fitted-level-1) 1pt solid;\n  color: var(--sklearn-color-fitted-level-1);\n}\n\n/* On hover */\n#sk-container-id-1 a.estimator_doc_link:hover {\n  /* unfitted */\n  background-color: var(--sklearn-color-unfitted-level-3);\n  color: var(--sklearn-color-background);\n  text-decoration: none;\n}\n\n#sk-container-id-1 a.estimator_doc_link.fitted:hover {\n  /* fitted */\n  background-color: var(--sklearn-color-fitted-level-3);\n}\n</style><div id=\"sk-container-id-1\" class=\"sk-top-container\"><div class=\"sk-text-repr-fallback\"><pre>SequentialFeatureSelector(cv=TimeSeriesSplit(gap=0, max_train_size=None, n_splits=3, test_size=None),\n                          estimator=RidgeClassifier(alpha=1),\n                          n_features_to_select=30)</pre><b>In a Jupyter environment, please rerun this cell to show the HTML representation or trust the notebook. <br />On GitHub, the HTML representation is unable to render, please try loading this page with nbviewer.org.</b></div><div class=\"sk-container\" hidden><div class=\"sk-item sk-dashed-wrapped\"><div class=\"sk-label-container\"><div class=\"sk-label fitted sk-toggleable\"><input class=\"sk-toggleable__control sk-hidden--visually\" id=\"sk-estimator-id-1\" type=\"checkbox\" ><label for=\"sk-estimator-id-1\" class=\"sk-toggleable__label fitted sk-toggleable__label-arrow fitted\">&nbsp;&nbsp;SequentialFeatureSelector<a class=\"sk-estimator-doc-link fitted\" rel=\"noreferrer\" target=\"_blank\" href=\"https://scikit-learn.org/1.4/modules/generated/sklearn.feature_selection.SequentialFeatureSelector.html\">?<span>Documentation for SequentialFeatureSelector</span></a><span class=\"sk-estimator-doc-link fitted\">i<span>Fitted</span></span></label><div class=\"sk-toggleable__content fitted\"><pre>SequentialFeatureSelector(cv=TimeSeriesSplit(gap=0, max_train_size=None, n_splits=3, test_size=None),\n                          estimator=RidgeClassifier(alpha=1),\n                          n_features_to_select=30)</pre></div> </div></div><div class=\"sk-parallel\"><div class=\"sk-parallel-item\"><div class=\"sk-item\"><div class=\"sk-label-container\"><div class=\"sk-label fitted sk-toggleable\"><input class=\"sk-toggleable__control sk-hidden--visually\" id=\"sk-estimator-id-2\" type=\"checkbox\" ><label for=\"sk-estimator-id-2\" class=\"sk-toggleable__label fitted sk-toggleable__label-arrow fitted\">estimator: RidgeClassifier</label><div class=\"sk-toggleable__content fitted\"><pre>RidgeClassifier(alpha=1)</pre></div> </div></div><div class=\"sk-serial\"><div class=\"sk-item\"><div class=\"sk-estimator fitted sk-toggleable\"><input class=\"sk-toggleable__control sk-hidden--visually\" id=\"sk-estimator-id-3\" type=\"checkbox\" ><label for=\"sk-estimator-id-3\" class=\"sk-toggleable__label fitted sk-toggleable__label-arrow fitted\">&nbsp;RidgeClassifier<a class=\"sk-estimator-doc-link fitted\" rel=\"noreferrer\" target=\"_blank\" href=\"https://scikit-learn.org/1.4/modules/generated/sklearn.linear_model.RidgeClassifier.html\">?<span>Documentation for RidgeClassifier</span></a></label><div class=\"sk-toggleable__content fitted\"><pre>RidgeClassifier(alpha=1)</pre></div> </div></div></div></div></div></div></div></div></div>"
     },
     "execution_count": 23,
     "metadata": {},
     "output_type": "execute_result"
    }
   ],
   "source": [
    "sfs.fit(df[selected_columns], df[\"target\"])"
   ]
  },
  {
   "cell_type": "code",
   "execution_count": 24,
   "id": "9609b844",
   "metadata": {
    "ExecuteTime": {
     "end_time": "2024-03-09T03:19:07.601772500Z",
     "start_time": "2024-03-09T03:19:07.586112700Z"
    }
   },
   "outputs": [],
   "source": [
    "predictors = list(selected_columns[sfs.get_support()])"
   ]
  },
  {
   "cell_type": "code",
   "execution_count": 25,
   "id": "66760dbe",
   "metadata": {
    "ExecuteTime": {
     "end_time": "2024-03-09T03:19:07.623957300Z",
     "start_time": "2024-03-09T03:19:07.590858400Z"
    }
   },
   "outputs": [
    {
     "data": {
      "text/plain": "['orb',\n 'drb',\n 'trb',\n 'pf',\n 'ftr',\n 'usg%',\n 'ft_max',\n 'fta_max',\n 'drb%_max',\n 'trb%_max',\n 'tov%_max',\n 'usg%_max',\n 'fg%_opp',\n 'ft%_opp',\n 'ast_opp',\n 'pf_opp',\n 'efg%_opp',\n 'blk%_opp',\n 'usg%_opp',\n '3p_max_opp',\n 'ft%_max_opp',\n 'orb_max_opp',\n 'tov_max_opp',\n 'pf_max_opp',\n 'drb%_max_opp',\n 'ast%_max_opp',\n 'stl%_max_opp',\n 'blk%_max_opp',\n 'tov%_max_opp',\n 'usg%_max_opp']"
     },
     "execution_count": 25,
     "metadata": {},
     "output_type": "execute_result"
    }
   ],
   "source": [
    "predictors"
   ]
  },
  {
   "cell_type": "code",
   "execution_count": 26,
   "id": "2a6637c9",
   "metadata": {
    "ExecuteTime": {
     "end_time": "2024-03-09T03:19:07.648957300Z",
     "start_time": "2024-03-09T03:19:07.609541Z"
    }
   },
   "outputs": [],
   "source": [
    "def backtest(data, model, predictors, start=2, step=1):\n",
    "    all_predictions = []\n",
    "    \n",
    "    seasons = sorted(data[\"season\"].unique())\n",
    "    \n",
    "    for i in range(start, len(seasons), step):\n",
    "        season = seasons[i]\n",
    "        \n",
    "        train = data[data[\"season\"] < season]\n",
    "        test = data[data[\"season\"] == season]\n",
    "        \n",
    "        model.fit(train[predictors], train[\"target\"])\n",
    "        \n",
    "        preds = model.predict(test[predictors])\n",
    "        preds = pd.Series(preds , index=test.index)\n",
    "        \n",
    "        combined = pd.concat([test[\"target\"], preds], axis=1)\n",
    "        combined.columns = [\"actual\", \"prediction\"]\n",
    "        \n",
    "        all_predictions.append(combined)\n",
    "    \n",
    "    return pd.concat(all_predictions)"
   ]
  },
  {
   "cell_type": "code",
   "execution_count": 27,
   "id": "0bcd53c8",
   "metadata": {
    "ExecuteTime": {
     "end_time": "2024-03-09T03:19:07.839165900Z",
     "start_time": "2024-03-09T03:19:07.616957300Z"
    }
   },
   "outputs": [],
   "source": [
    "predictions = backtest(df, rr, predictors)"
   ]
  },
  {
   "cell_type": "code",
   "execution_count": 28,
   "id": "31e3b7f6",
   "metadata": {
    "ExecuteTime": {
     "end_time": "2024-03-09T03:19:07.854589700Z",
     "start_time": "2024-03-09T03:19:07.838165600Z"
    }
   },
   "outputs": [
    {
     "data": {
      "text/plain": "       actual  prediction\n5250        0           0\n5251        1           0\n5252        1           1\n5253        1           0\n5254        1           1\n...       ...         ...\n22039       2           0\n22040       2           1\n22041       2           1\n22042       2           0\n22043       2           0\n\n[16794 rows x 2 columns]",
      "text/html": "<div>\n<style scoped>\n    .dataframe tbody tr th:only-of-type {\n        vertical-align: middle;\n    }\n\n    .dataframe tbody tr th {\n        vertical-align: top;\n    }\n\n    .dataframe thead th {\n        text-align: right;\n    }\n</style>\n<table border=\"1\" class=\"dataframe\">\n  <thead>\n    <tr style=\"text-align: right;\">\n      <th></th>\n      <th>actual</th>\n      <th>prediction</th>\n    </tr>\n  </thead>\n  <tbody>\n    <tr>\n      <th>5250</th>\n      <td>0</td>\n      <td>0</td>\n    </tr>\n    <tr>\n      <th>5251</th>\n      <td>1</td>\n      <td>0</td>\n    </tr>\n    <tr>\n      <th>5252</th>\n      <td>1</td>\n      <td>1</td>\n    </tr>\n    <tr>\n      <th>5253</th>\n      <td>1</td>\n      <td>0</td>\n    </tr>\n    <tr>\n      <th>5254</th>\n      <td>1</td>\n      <td>1</td>\n    </tr>\n    <tr>\n      <th>...</th>\n      <td>...</td>\n      <td>...</td>\n    </tr>\n    <tr>\n      <th>22039</th>\n      <td>2</td>\n      <td>0</td>\n    </tr>\n    <tr>\n      <th>22040</th>\n      <td>2</td>\n      <td>1</td>\n    </tr>\n    <tr>\n      <th>22041</th>\n      <td>2</td>\n      <td>1</td>\n    </tr>\n    <tr>\n      <th>22042</th>\n      <td>2</td>\n      <td>0</td>\n    </tr>\n    <tr>\n      <th>22043</th>\n      <td>2</td>\n      <td>0</td>\n    </tr>\n  </tbody>\n</table>\n<p>16794 rows × 2 columns</p>\n</div>"
     },
     "execution_count": 28,
     "metadata": {},
     "output_type": "execute_result"
    }
   ],
   "source": [
    "predictions"
   ]
  },
  {
   "cell_type": "code",
   "execution_count": 29,
   "id": "d6669b33",
   "metadata": {
    "ExecuteTime": {
     "end_time": "2024-03-09T03:19:07.871597800Z",
     "start_time": "2024-03-09T03:19:07.845759100Z"
    }
   },
   "outputs": [
    {
     "data": {
      "text/plain": "0.5419350990217132"
     },
     "execution_count": 29,
     "metadata": {},
     "output_type": "execute_result"
    }
   ],
   "source": [
    "from sklearn.metrics import accuracy_score\n",
    "\n",
    "predictions = predictions[predictions[\"actual\"] != 2]\n",
    "accuracy_score(predictions[\"actual\"], predictions[\"prediction\"])"
   ]
  },
  {
   "cell_type": "code",
   "execution_count": 30,
   "id": "4825d848",
   "metadata": {
    "ExecuteTime": {
     "end_time": "2024-03-09T03:19:07.917458500Z",
     "start_time": "2024-03-09T03:19:07.857596600Z"
    }
   },
   "outputs": [
    {
     "name": "stderr",
     "output_type": "stream",
     "text": [
      "C:\\Users\\Bryan Hernandez\\AppData\\Local\\Temp\\ipykernel_416\\1818935125.py:1: DeprecationWarning: DataFrameGroupBy.apply operated on the grouping columns. This behavior is deprecated, and in a future version of pandas the grouping columns will be excluded from the operation. Either pass `include_groups=False` to exclude the groupings or explicitly select the grouping columns after groupby to silence this warning.\n",
      "  df.groupby(\"home\").apply(lambda x: x[x[\"won\"] == 1].shape[0] / x.shape[0])\n"
     ]
    },
    {
     "data": {
      "text/plain": "home\n0.0    0.428053\n1.0    0.571947\ndtype: float64"
     },
     "execution_count": 30,
     "metadata": {},
     "output_type": "execute_result"
    }
   ],
   "source": [
    "df.groupby(\"home\").apply(lambda x: x[x[\"won\"] == 1].shape[0] / x.shape[0])"
   ]
  },
  {
   "cell_type": "code",
   "execution_count": 31,
   "id": "60bfde7e",
   "metadata": {
    "ExecuteTime": {
     "end_time": "2024-03-09T03:19:08.009987100Z",
     "start_time": "2024-03-09T03:19:07.901341800Z"
    }
   },
   "outputs": [],
   "source": [
    "df_rolling = df[list(selected_columns) + [\"won\", \"team\", \"season\"]]"
   ]
  },
  {
   "cell_type": "code",
   "execution_count": 32,
   "id": "d8f06af0",
   "metadata": {
    "ExecuteTime": {
     "end_time": "2024-03-09T03:19:08.012987200Z",
     "start_time": "2024-03-09T03:19:07.928730500Z"
    }
   },
   "outputs": [
    {
     "data": {
      "text/plain": "        mp        fg       fga       fg%        3p       3pa       3p%  \\\n0      0.0  0.391304  0.529412  0.277512  0.413793  0.378788  0.491686   \n1      0.0  0.391304  0.323529  0.435407  0.275862  0.348485  0.351544   \n2      0.0  0.413043  0.500000  0.322967  0.310345  0.378788  0.368171   \n3      0.0  0.391304  0.397059  0.373206  0.241379  0.227273  0.437055   \n4      0.0  0.347826  0.338235  0.366029  0.206897  0.212121  0.395487   \n...    ...       ...       ...       ...       ...       ...       ...   \n22039  0.0  0.500000  0.441176  0.473684  0.379310  0.606061  0.296912   \n22040  0.0  0.543478  0.338235  0.624402  0.448276  0.333333  0.593824   \n22041  0.0  0.586957  0.426471  0.593301  0.379310  0.393939  0.435867   \n22042  0.0  0.260870  0.338235  0.248804  0.275862  0.378788  0.327791   \n22043  0.0  0.521739  0.485294  0.461722  0.758621  0.681818  0.533254   \n\n             ft       fta       ft%  ...  blk%_max_opp  tov%_max_opp  \\\n0      0.441860  0.396825  0.730455  ...         0.071      0.550314   \n1      0.255814  0.222222  0.766628  ...         0.047      0.300839   \n2      0.209302  0.253968  0.519253  ...         0.140      0.509434   \n3      0.348837  0.349206  0.645274  ...         0.185      0.270440   \n4      0.418605  0.412698  0.654609  ...         0.079      0.679245   \n...         ...       ...       ...  ...           ...           ...   \n22039  0.325581  0.301587  0.708285  ...         0.045      0.213836   \n22040  0.255814  0.285714  0.570595  ...         0.097      0.371069   \n22041  0.558140  0.412698  0.913652  ...         0.089      0.222222   \n22042  0.465116  0.460317  0.649942  ...         0.068      0.300839   \n22043  0.651163  0.492063  0.890315  ...         0.140      0.213836   \n\n       usg%_max_opp  ortg_max_opp  drtg_max_opp  total_opp  home_opp    won  \\\n0          0.151282      0.800948      0.517647   0.267857       1.0   True   \n1          0.020513      0.203791      0.317647   0.375000       0.0  False   \n2          0.161538      0.345972      0.317647   0.294643       1.0  False   \n3          0.089744      0.232227      0.329412   0.276786       0.0   True   \n4          0.278205      0.554502      0.317647   0.419643       1.0  False   \n...             ...           ...           ...        ...       ...    ...   \n22039      0.128205      0.341232      0.482353   0.437500       1.0  False   \n22040      0.160256      0.383886      0.517647   0.410714       0.0   True   \n22041      0.121795      0.526066      0.705882   0.241071       1.0   True   \n22042      0.141026      0.436019      0.282353   0.571429       0.0  False   \n22043      0.146154      0.473934      0.764706   0.678571       0.0  False   \n\n       team  season  \n0       DET    2016  \n1       ATL    2016  \n2       CLE    2016  \n3       CHI    2016  \n4       NOP    2016  \n...     ...     ...  \n22039   MIL    2024  \n22040   MEM    2024  \n22041   MIN    2024  \n22042   POR    2024  \n22043   UTA    2024  \n\n[22044 rows x 137 columns]",
      "text/html": "<div>\n<style scoped>\n    .dataframe tbody tr th:only-of-type {\n        vertical-align: middle;\n    }\n\n    .dataframe tbody tr th {\n        vertical-align: top;\n    }\n\n    .dataframe thead th {\n        text-align: right;\n    }\n</style>\n<table border=\"1\" class=\"dataframe\">\n  <thead>\n    <tr style=\"text-align: right;\">\n      <th></th>\n      <th>mp</th>\n      <th>fg</th>\n      <th>fga</th>\n      <th>fg%</th>\n      <th>3p</th>\n      <th>3pa</th>\n      <th>3p%</th>\n      <th>ft</th>\n      <th>fta</th>\n      <th>ft%</th>\n      <th>...</th>\n      <th>blk%_max_opp</th>\n      <th>tov%_max_opp</th>\n      <th>usg%_max_opp</th>\n      <th>ortg_max_opp</th>\n      <th>drtg_max_opp</th>\n      <th>total_opp</th>\n      <th>home_opp</th>\n      <th>won</th>\n      <th>team</th>\n      <th>season</th>\n    </tr>\n  </thead>\n  <tbody>\n    <tr>\n      <th>0</th>\n      <td>0.0</td>\n      <td>0.391304</td>\n      <td>0.529412</td>\n      <td>0.277512</td>\n      <td>0.413793</td>\n      <td>0.378788</td>\n      <td>0.491686</td>\n      <td>0.441860</td>\n      <td>0.396825</td>\n      <td>0.730455</td>\n      <td>...</td>\n      <td>0.071</td>\n      <td>0.550314</td>\n      <td>0.151282</td>\n      <td>0.800948</td>\n      <td>0.517647</td>\n      <td>0.267857</td>\n      <td>1.0</td>\n      <td>True</td>\n      <td>DET</td>\n      <td>2016</td>\n    </tr>\n    <tr>\n      <th>1</th>\n      <td>0.0</td>\n      <td>0.391304</td>\n      <td>0.323529</td>\n      <td>0.435407</td>\n      <td>0.275862</td>\n      <td>0.348485</td>\n      <td>0.351544</td>\n      <td>0.255814</td>\n      <td>0.222222</td>\n      <td>0.766628</td>\n      <td>...</td>\n      <td>0.047</td>\n      <td>0.300839</td>\n      <td>0.020513</td>\n      <td>0.203791</td>\n      <td>0.317647</td>\n      <td>0.375000</td>\n      <td>0.0</td>\n      <td>False</td>\n      <td>ATL</td>\n      <td>2016</td>\n    </tr>\n    <tr>\n      <th>2</th>\n      <td>0.0</td>\n      <td>0.413043</td>\n      <td>0.500000</td>\n      <td>0.322967</td>\n      <td>0.310345</td>\n      <td>0.378788</td>\n      <td>0.368171</td>\n      <td>0.209302</td>\n      <td>0.253968</td>\n      <td>0.519253</td>\n      <td>...</td>\n      <td>0.140</td>\n      <td>0.509434</td>\n      <td>0.161538</td>\n      <td>0.345972</td>\n      <td>0.317647</td>\n      <td>0.294643</td>\n      <td>1.0</td>\n      <td>False</td>\n      <td>CLE</td>\n      <td>2016</td>\n    </tr>\n    <tr>\n      <th>3</th>\n      <td>0.0</td>\n      <td>0.391304</td>\n      <td>0.397059</td>\n      <td>0.373206</td>\n      <td>0.241379</td>\n      <td>0.227273</td>\n      <td>0.437055</td>\n      <td>0.348837</td>\n      <td>0.349206</td>\n      <td>0.645274</td>\n      <td>...</td>\n      <td>0.185</td>\n      <td>0.270440</td>\n      <td>0.089744</td>\n      <td>0.232227</td>\n      <td>0.329412</td>\n      <td>0.276786</td>\n      <td>0.0</td>\n      <td>True</td>\n      <td>CHI</td>\n      <td>2016</td>\n    </tr>\n    <tr>\n      <th>4</th>\n      <td>0.0</td>\n      <td>0.347826</td>\n      <td>0.338235</td>\n      <td>0.366029</td>\n      <td>0.206897</td>\n      <td>0.212121</td>\n      <td>0.395487</td>\n      <td>0.418605</td>\n      <td>0.412698</td>\n      <td>0.654609</td>\n      <td>...</td>\n      <td>0.079</td>\n      <td>0.679245</td>\n      <td>0.278205</td>\n      <td>0.554502</td>\n      <td>0.317647</td>\n      <td>0.419643</td>\n      <td>1.0</td>\n      <td>False</td>\n      <td>NOP</td>\n      <td>2016</td>\n    </tr>\n    <tr>\n      <th>...</th>\n      <td>...</td>\n      <td>...</td>\n      <td>...</td>\n      <td>...</td>\n      <td>...</td>\n      <td>...</td>\n      <td>...</td>\n      <td>...</td>\n      <td>...</td>\n      <td>...</td>\n      <td>...</td>\n      <td>...</td>\n      <td>...</td>\n      <td>...</td>\n      <td>...</td>\n      <td>...</td>\n      <td>...</td>\n      <td>...</td>\n      <td>...</td>\n      <td>...</td>\n      <td>...</td>\n    </tr>\n    <tr>\n      <th>22039</th>\n      <td>0.0</td>\n      <td>0.500000</td>\n      <td>0.441176</td>\n      <td>0.473684</td>\n      <td>0.379310</td>\n      <td>0.606061</td>\n      <td>0.296912</td>\n      <td>0.325581</td>\n      <td>0.301587</td>\n      <td>0.708285</td>\n      <td>...</td>\n      <td>0.045</td>\n      <td>0.213836</td>\n      <td>0.128205</td>\n      <td>0.341232</td>\n      <td>0.482353</td>\n      <td>0.437500</td>\n      <td>1.0</td>\n      <td>False</td>\n      <td>MIL</td>\n      <td>2024</td>\n    </tr>\n    <tr>\n      <th>22040</th>\n      <td>0.0</td>\n      <td>0.543478</td>\n      <td>0.338235</td>\n      <td>0.624402</td>\n      <td>0.448276</td>\n      <td>0.333333</td>\n      <td>0.593824</td>\n      <td>0.255814</td>\n      <td>0.285714</td>\n      <td>0.570595</td>\n      <td>...</td>\n      <td>0.097</td>\n      <td>0.371069</td>\n      <td>0.160256</td>\n      <td>0.383886</td>\n      <td>0.517647</td>\n      <td>0.410714</td>\n      <td>0.0</td>\n      <td>True</td>\n      <td>MEM</td>\n      <td>2024</td>\n    </tr>\n    <tr>\n      <th>22041</th>\n      <td>0.0</td>\n      <td>0.586957</td>\n      <td>0.426471</td>\n      <td>0.593301</td>\n      <td>0.379310</td>\n      <td>0.393939</td>\n      <td>0.435867</td>\n      <td>0.558140</td>\n      <td>0.412698</td>\n      <td>0.913652</td>\n      <td>...</td>\n      <td>0.089</td>\n      <td>0.222222</td>\n      <td>0.121795</td>\n      <td>0.526066</td>\n      <td>0.705882</td>\n      <td>0.241071</td>\n      <td>1.0</td>\n      <td>True</td>\n      <td>MIN</td>\n      <td>2024</td>\n    </tr>\n    <tr>\n      <th>22042</th>\n      <td>0.0</td>\n      <td>0.260870</td>\n      <td>0.338235</td>\n      <td>0.248804</td>\n      <td>0.275862</td>\n      <td>0.378788</td>\n      <td>0.327791</td>\n      <td>0.465116</td>\n      <td>0.460317</td>\n      <td>0.649942</td>\n      <td>...</td>\n      <td>0.068</td>\n      <td>0.300839</td>\n      <td>0.141026</td>\n      <td>0.436019</td>\n      <td>0.282353</td>\n      <td>0.571429</td>\n      <td>0.0</td>\n      <td>False</td>\n      <td>POR</td>\n      <td>2024</td>\n    </tr>\n    <tr>\n      <th>22043</th>\n      <td>0.0</td>\n      <td>0.521739</td>\n      <td>0.485294</td>\n      <td>0.461722</td>\n      <td>0.758621</td>\n      <td>0.681818</td>\n      <td>0.533254</td>\n      <td>0.651163</td>\n      <td>0.492063</td>\n      <td>0.890315</td>\n      <td>...</td>\n      <td>0.140</td>\n      <td>0.213836</td>\n      <td>0.146154</td>\n      <td>0.473934</td>\n      <td>0.764706</td>\n      <td>0.678571</td>\n      <td>0.0</td>\n      <td>False</td>\n      <td>UTA</td>\n      <td>2024</td>\n    </tr>\n  </tbody>\n</table>\n<p>22044 rows × 137 columns</p>\n</div>"
     },
     "execution_count": 32,
     "metadata": {},
     "output_type": "execute_result"
    }
   ],
   "source": [
    "df_rolling"
   ]
  },
  {
   "cell_type": "code",
   "execution_count": 33,
   "id": "e7466d87",
   "metadata": {
    "ExecuteTime": {
     "end_time": "2024-03-09T03:19:09.672500400Z",
     "start_time": "2024-03-09T03:19:07.963455600Z"
    }
   },
   "outputs": [
    {
     "name": "stderr",
     "output_type": "stream",
     "text": [
      "C:\\Users\\Bryan Hernandez\\AppData\\Local\\Temp\\ipykernel_416\\3222034562.py:10: DeprecationWarning: DataFrameGroupBy.apply operated on the grouping columns. This behavior is deprecated, and in a future version of pandas the grouping columns will be excluded from the operation. Either pass `include_groups=False` to exclude the groupings or explicitly select the grouping columns after groupby to silence this warning.\n",
      "  df_rolling = df_rolling.groupby([\"team\", \"season\"], group_keys=False).apply(find_team_averages)\n"
     ]
    }
   ],
   "source": [
    "def find_team_averages(team):\n",
    "    # Calculate rolling mean for numeric columns only\n",
    "    numeric_cols = team.select_dtypes(include='number')\n",
    "    rolling_numeric = numeric_cols.rolling(10).mean()\n",
    "#     # Ensure the order of rows is preserved by combining the numeric rolling means with non-numeric data\n",
    "#     team[numeric_cols.columns] = rolling_numeric\n",
    "    return rolling_numeric\n",
    "\n",
    "# Compute a rolling average of past 10 games, grouped by team and season\n",
    "df_rolling = df_rolling.groupby([\"team\", \"season\"], group_keys=False).apply(find_team_averages)"
   ]
  },
  {
   "cell_type": "code",
   "execution_count": 34,
   "id": "fed1a642",
   "metadata": {
    "ExecuteTime": {
     "end_time": "2024-03-09T03:19:09.688983800Z",
     "start_time": "2024-03-09T03:19:09.672500400Z"
    }
   },
   "outputs": [
    {
     "data": {
      "text/plain": "          mp        fg       fga       fg%        3p       3pa       3p%  \\\n0        NaN       NaN       NaN       NaN       NaN       NaN       NaN   \n1        NaN       NaN       NaN       NaN       NaN       NaN       NaN   \n2        NaN       NaN       NaN       NaN       NaN       NaN       NaN   \n3        NaN       NaN       NaN       NaN       NaN       NaN       NaN   \n4        NaN       NaN       NaN       NaN       NaN       NaN       NaN   \n...      ...       ...       ...       ...       ...       ...       ...   \n22039  0.000  0.480435  0.397059  0.487081  0.486207  0.542424  0.428029   \n22040  0.000  0.413043  0.375000  0.422010  0.500000  0.530303  0.450713   \n22041  0.025  0.519565  0.370588  0.563876  0.482759  0.448485  0.496200   \n22042  0.025  0.423913  0.360294  0.444019  0.334483  0.384848  0.395487   \n22043  0.000  0.539130  0.455882  0.507416  0.482759  0.515152  0.433135   \n\n             ft       fta       ft%  ...  ast%_max_opp  stl%_max_opp  \\\n0           NaN       NaN       NaN  ...           NaN           NaN   \n1           NaN       NaN       NaN  ...           NaN           NaN   \n2           NaN       NaN       NaN  ...           NaN           NaN   \n3           NaN       NaN       NaN  ...           NaN           NaN   \n4           NaN       NaN       NaN  ...           NaN           NaN   \n...         ...       ...       ...  ...           ...           ...   \n22039  0.318605  0.312698  0.674329  ...      0.341170        0.0558   \n22040  0.283721  0.279365  0.661960  ...      0.426376        0.0553   \n22041  0.397674  0.347619  0.752275  ...      0.379472        0.0476   \n22042  0.430233  0.358730  0.807351  ...      0.317775        0.1409   \n22043  0.411628  0.347619  0.785764  ...      0.359404        0.0659   \n\n       blk%_max_opp  tov%_max_opp  usg%_max_opp  ortg_max_opp  drtg_max_opp  \\\n0               NaN           NaN           NaN           NaN           NaN   \n1               NaN           NaN           NaN           NaN           NaN   \n2               NaN           NaN           NaN           NaN           NaN   \n3               NaN           NaN           NaN           NaN           NaN   \n4               NaN           NaN           NaN           NaN           NaN   \n...             ...           ...           ...           ...           ...   \n22039        0.0691      0.296331      0.276282      0.401896      0.510588   \n22040        0.0962      0.349790      0.115513      0.412322      0.445882   \n22041        0.0978      0.429874      0.163974      0.501422      0.647059   \n22042        0.0868      0.343082      0.212949      0.422275      0.504706   \n22043        0.1101      0.375786      0.291154      0.502844      0.634118   \n\n       total_opp  home_opp  season  \n0            NaN       NaN     NaN  \n1            NaN       NaN     NaN  \n2            NaN       NaN     NaN  \n3            NaN       NaN     NaN  \n4            NaN       NaN     NaN  \n...          ...       ...     ...  \n22039   0.437500       0.6  2024.0  \n22040   0.444643       0.3  2024.0  \n22041   0.350893       0.7  2024.0  \n22042   0.448214       0.3  2024.0  \n22043   0.566964       0.4  2024.0  \n\n[22044 rows x 135 columns]",
      "text/html": "<div>\n<style scoped>\n    .dataframe tbody tr th:only-of-type {\n        vertical-align: middle;\n    }\n\n    .dataframe tbody tr th {\n        vertical-align: top;\n    }\n\n    .dataframe thead th {\n        text-align: right;\n    }\n</style>\n<table border=\"1\" class=\"dataframe\">\n  <thead>\n    <tr style=\"text-align: right;\">\n      <th></th>\n      <th>mp</th>\n      <th>fg</th>\n      <th>fga</th>\n      <th>fg%</th>\n      <th>3p</th>\n      <th>3pa</th>\n      <th>3p%</th>\n      <th>ft</th>\n      <th>fta</th>\n      <th>ft%</th>\n      <th>...</th>\n      <th>ast%_max_opp</th>\n      <th>stl%_max_opp</th>\n      <th>blk%_max_opp</th>\n      <th>tov%_max_opp</th>\n      <th>usg%_max_opp</th>\n      <th>ortg_max_opp</th>\n      <th>drtg_max_opp</th>\n      <th>total_opp</th>\n      <th>home_opp</th>\n      <th>season</th>\n    </tr>\n  </thead>\n  <tbody>\n    <tr>\n      <th>0</th>\n      <td>NaN</td>\n      <td>NaN</td>\n      <td>NaN</td>\n      <td>NaN</td>\n      <td>NaN</td>\n      <td>NaN</td>\n      <td>NaN</td>\n      <td>NaN</td>\n      <td>NaN</td>\n      <td>NaN</td>\n      <td>...</td>\n      <td>NaN</td>\n      <td>NaN</td>\n      <td>NaN</td>\n      <td>NaN</td>\n      <td>NaN</td>\n      <td>NaN</td>\n      <td>NaN</td>\n      <td>NaN</td>\n      <td>NaN</td>\n      <td>NaN</td>\n    </tr>\n    <tr>\n      <th>1</th>\n      <td>NaN</td>\n      <td>NaN</td>\n      <td>NaN</td>\n      <td>NaN</td>\n      <td>NaN</td>\n      <td>NaN</td>\n      <td>NaN</td>\n      <td>NaN</td>\n      <td>NaN</td>\n      <td>NaN</td>\n      <td>...</td>\n      <td>NaN</td>\n      <td>NaN</td>\n      <td>NaN</td>\n      <td>NaN</td>\n      <td>NaN</td>\n      <td>NaN</td>\n      <td>NaN</td>\n      <td>NaN</td>\n      <td>NaN</td>\n      <td>NaN</td>\n    </tr>\n    <tr>\n      <th>2</th>\n      <td>NaN</td>\n      <td>NaN</td>\n      <td>NaN</td>\n      <td>NaN</td>\n      <td>NaN</td>\n      <td>NaN</td>\n      <td>NaN</td>\n      <td>NaN</td>\n      <td>NaN</td>\n      <td>NaN</td>\n      <td>...</td>\n      <td>NaN</td>\n      <td>NaN</td>\n      <td>NaN</td>\n      <td>NaN</td>\n      <td>NaN</td>\n      <td>NaN</td>\n      <td>NaN</td>\n      <td>NaN</td>\n      <td>NaN</td>\n      <td>NaN</td>\n    </tr>\n    <tr>\n      <th>3</th>\n      <td>NaN</td>\n      <td>NaN</td>\n      <td>NaN</td>\n      <td>NaN</td>\n      <td>NaN</td>\n      <td>NaN</td>\n      <td>NaN</td>\n      <td>NaN</td>\n      <td>NaN</td>\n      <td>NaN</td>\n      <td>...</td>\n      <td>NaN</td>\n      <td>NaN</td>\n      <td>NaN</td>\n      <td>NaN</td>\n      <td>NaN</td>\n      <td>NaN</td>\n      <td>NaN</td>\n      <td>NaN</td>\n      <td>NaN</td>\n      <td>NaN</td>\n    </tr>\n    <tr>\n      <th>4</th>\n      <td>NaN</td>\n      <td>NaN</td>\n      <td>NaN</td>\n      <td>NaN</td>\n      <td>NaN</td>\n      <td>NaN</td>\n      <td>NaN</td>\n      <td>NaN</td>\n      <td>NaN</td>\n      <td>NaN</td>\n      <td>...</td>\n      <td>NaN</td>\n      <td>NaN</td>\n      <td>NaN</td>\n      <td>NaN</td>\n      <td>NaN</td>\n      <td>NaN</td>\n      <td>NaN</td>\n      <td>NaN</td>\n      <td>NaN</td>\n      <td>NaN</td>\n    </tr>\n    <tr>\n      <th>...</th>\n      <td>...</td>\n      <td>...</td>\n      <td>...</td>\n      <td>...</td>\n      <td>...</td>\n      <td>...</td>\n      <td>...</td>\n      <td>...</td>\n      <td>...</td>\n      <td>...</td>\n      <td>...</td>\n      <td>...</td>\n      <td>...</td>\n      <td>...</td>\n      <td>...</td>\n      <td>...</td>\n      <td>...</td>\n      <td>...</td>\n      <td>...</td>\n      <td>...</td>\n      <td>...</td>\n    </tr>\n    <tr>\n      <th>22039</th>\n      <td>0.000</td>\n      <td>0.480435</td>\n      <td>0.397059</td>\n      <td>0.487081</td>\n      <td>0.486207</td>\n      <td>0.542424</td>\n      <td>0.428029</td>\n      <td>0.318605</td>\n      <td>0.312698</td>\n      <td>0.674329</td>\n      <td>...</td>\n      <td>0.341170</td>\n      <td>0.0558</td>\n      <td>0.0691</td>\n      <td>0.296331</td>\n      <td>0.276282</td>\n      <td>0.401896</td>\n      <td>0.510588</td>\n      <td>0.437500</td>\n      <td>0.6</td>\n      <td>2024.0</td>\n    </tr>\n    <tr>\n      <th>22040</th>\n      <td>0.000</td>\n      <td>0.413043</td>\n      <td>0.375000</td>\n      <td>0.422010</td>\n      <td>0.500000</td>\n      <td>0.530303</td>\n      <td>0.450713</td>\n      <td>0.283721</td>\n      <td>0.279365</td>\n      <td>0.661960</td>\n      <td>...</td>\n      <td>0.426376</td>\n      <td>0.0553</td>\n      <td>0.0962</td>\n      <td>0.349790</td>\n      <td>0.115513</td>\n      <td>0.412322</td>\n      <td>0.445882</td>\n      <td>0.444643</td>\n      <td>0.3</td>\n      <td>2024.0</td>\n    </tr>\n    <tr>\n      <th>22041</th>\n      <td>0.025</td>\n      <td>0.519565</td>\n      <td>0.370588</td>\n      <td>0.563876</td>\n      <td>0.482759</td>\n      <td>0.448485</td>\n      <td>0.496200</td>\n      <td>0.397674</td>\n      <td>0.347619</td>\n      <td>0.752275</td>\n      <td>...</td>\n      <td>0.379472</td>\n      <td>0.0476</td>\n      <td>0.0978</td>\n      <td>0.429874</td>\n      <td>0.163974</td>\n      <td>0.501422</td>\n      <td>0.647059</td>\n      <td>0.350893</td>\n      <td>0.7</td>\n      <td>2024.0</td>\n    </tr>\n    <tr>\n      <th>22042</th>\n      <td>0.025</td>\n      <td>0.423913</td>\n      <td>0.360294</td>\n      <td>0.444019</td>\n      <td>0.334483</td>\n      <td>0.384848</td>\n      <td>0.395487</td>\n      <td>0.430233</td>\n      <td>0.358730</td>\n      <td>0.807351</td>\n      <td>...</td>\n      <td>0.317775</td>\n      <td>0.1409</td>\n      <td>0.0868</td>\n      <td>0.343082</td>\n      <td>0.212949</td>\n      <td>0.422275</td>\n      <td>0.504706</td>\n      <td>0.448214</td>\n      <td>0.3</td>\n      <td>2024.0</td>\n    </tr>\n    <tr>\n      <th>22043</th>\n      <td>0.000</td>\n      <td>0.539130</td>\n      <td>0.455882</td>\n      <td>0.507416</td>\n      <td>0.482759</td>\n      <td>0.515152</td>\n      <td>0.433135</td>\n      <td>0.411628</td>\n      <td>0.347619</td>\n      <td>0.785764</td>\n      <td>...</td>\n      <td>0.359404</td>\n      <td>0.0659</td>\n      <td>0.1101</td>\n      <td>0.375786</td>\n      <td>0.291154</td>\n      <td>0.502844</td>\n      <td>0.634118</td>\n      <td>0.566964</td>\n      <td>0.4</td>\n      <td>2024.0</td>\n    </tr>\n  </tbody>\n</table>\n<p>22044 rows × 135 columns</p>\n</div>"
     },
     "execution_count": 34,
     "metadata": {},
     "output_type": "execute_result"
    }
   ],
   "source": [
    "df_rolling"
   ]
  },
  {
   "cell_type": "code",
   "execution_count": 35,
   "id": "259f1944",
   "metadata": {
    "ExecuteTime": {
     "end_time": "2024-03-09T03:19:09.760899400Z",
     "start_time": "2024-03-09T03:19:09.688983800Z"
    }
   },
   "outputs": [],
   "source": [
    "rolling_cols = [f\"{col}_10\" for col in df_rolling.columns]\n",
    "df_rolling.columns = rolling_cols\n",
    "\n",
    "df = pd.concat([df, df_rolling], axis=1)"
   ]
  },
  {
   "cell_type": "code",
   "execution_count": 36,
   "id": "d7385f36",
   "metadata": {
    "ExecuteTime": {
     "end_time": "2024-03-09T03:19:09.762898100Z",
     "start_time": "2024-03-09T03:19:09.725346900Z"
    }
   },
   "outputs": [
    {
     "data": {
      "text/plain": "        mp        fg       fga       fg%        3p       3pa       3p%  \\\n0      0.0  0.391304  0.529412  0.277512  0.413793  0.378788  0.491686   \n1      0.0  0.391304  0.323529  0.435407  0.275862  0.348485  0.351544   \n2      0.0  0.413043  0.500000  0.322967  0.310345  0.378788  0.368171   \n3      0.0  0.391304  0.397059  0.373206  0.241379  0.227273  0.437055   \n4      0.0  0.347826  0.338235  0.366029  0.206897  0.212121  0.395487   \n...    ...       ...       ...       ...       ...       ...       ...   \n22039  0.0  0.500000  0.441176  0.473684  0.379310  0.606061  0.296912   \n22040  0.0  0.543478  0.338235  0.624402  0.448276  0.333333  0.593824   \n22041  0.0  0.586957  0.426471  0.593301  0.379310  0.393939  0.435867   \n22042  0.0  0.260870  0.338235  0.248804  0.275862  0.378788  0.327791   \n22043  0.0  0.521739  0.485294  0.461722  0.758621  0.681818  0.533254   \n\n             ft       fta       ft%  ...  ast%_max_opp_10  stl%_max_opp_10  \\\n0      0.441860  0.396825  0.730455  ...              NaN              NaN   \n1      0.255814  0.222222  0.766628  ...              NaN              NaN   \n2      0.209302  0.253968  0.519253  ...              NaN              NaN   \n3      0.348837  0.349206  0.645274  ...              NaN              NaN   \n4      0.418605  0.412698  0.654609  ...              NaN              NaN   \n...         ...       ...       ...  ...              ...              ...   \n22039  0.325581  0.301587  0.708285  ...         0.341170           0.0558   \n22040  0.255814  0.285714  0.570595  ...         0.426376           0.0553   \n22041  0.558140  0.412698  0.913652  ...         0.379472           0.0476   \n22042  0.465116  0.460317  0.649942  ...         0.317775           0.1409   \n22043  0.651163  0.492063  0.890315  ...         0.359404           0.0659   \n\n       blk%_max_opp_10  tov%_max_opp_10  usg%_max_opp_10  ortg_max_opp_10  \\\n0                  NaN              NaN              NaN              NaN   \n1                  NaN              NaN              NaN              NaN   \n2                  NaN              NaN              NaN              NaN   \n3                  NaN              NaN              NaN              NaN   \n4                  NaN              NaN              NaN              NaN   \n...                ...              ...              ...              ...   \n22039           0.0691         0.296331         0.276282         0.401896   \n22040           0.0962         0.349790         0.115513         0.412322   \n22041           0.0978         0.429874         0.163974         0.501422   \n22042           0.0868         0.343082         0.212949         0.422275   \n22043           0.1101         0.375786         0.291154         0.502844   \n\n       drtg_max_opp_10  total_opp_10  home_opp_10  season_10  \n0                  NaN           NaN          NaN        NaN  \n1                  NaN           NaN          NaN        NaN  \n2                  NaN           NaN          NaN        NaN  \n3                  NaN           NaN          NaN        NaN  \n4                  NaN           NaN          NaN        NaN  \n...                ...           ...          ...        ...  \n22039         0.510588      0.437500          0.6     2024.0  \n22040         0.445882      0.444643          0.3     2024.0  \n22041         0.647059      0.350893          0.7     2024.0  \n22042         0.504706      0.448214          0.3     2024.0  \n22043         0.634118      0.566964          0.4     2024.0  \n\n[22044 rows x 275 columns]",
      "text/html": "<div>\n<style scoped>\n    .dataframe tbody tr th:only-of-type {\n        vertical-align: middle;\n    }\n\n    .dataframe tbody tr th {\n        vertical-align: top;\n    }\n\n    .dataframe thead th {\n        text-align: right;\n    }\n</style>\n<table border=\"1\" class=\"dataframe\">\n  <thead>\n    <tr style=\"text-align: right;\">\n      <th></th>\n      <th>mp</th>\n      <th>fg</th>\n      <th>fga</th>\n      <th>fg%</th>\n      <th>3p</th>\n      <th>3pa</th>\n      <th>3p%</th>\n      <th>ft</th>\n      <th>fta</th>\n      <th>ft%</th>\n      <th>...</th>\n      <th>ast%_max_opp_10</th>\n      <th>stl%_max_opp_10</th>\n      <th>blk%_max_opp_10</th>\n      <th>tov%_max_opp_10</th>\n      <th>usg%_max_opp_10</th>\n      <th>ortg_max_opp_10</th>\n      <th>drtg_max_opp_10</th>\n      <th>total_opp_10</th>\n      <th>home_opp_10</th>\n      <th>season_10</th>\n    </tr>\n  </thead>\n  <tbody>\n    <tr>\n      <th>0</th>\n      <td>0.0</td>\n      <td>0.391304</td>\n      <td>0.529412</td>\n      <td>0.277512</td>\n      <td>0.413793</td>\n      <td>0.378788</td>\n      <td>0.491686</td>\n      <td>0.441860</td>\n      <td>0.396825</td>\n      <td>0.730455</td>\n      <td>...</td>\n      <td>NaN</td>\n      <td>NaN</td>\n      <td>NaN</td>\n      <td>NaN</td>\n      <td>NaN</td>\n      <td>NaN</td>\n      <td>NaN</td>\n      <td>NaN</td>\n      <td>NaN</td>\n      <td>NaN</td>\n    </tr>\n    <tr>\n      <th>1</th>\n      <td>0.0</td>\n      <td>0.391304</td>\n      <td>0.323529</td>\n      <td>0.435407</td>\n      <td>0.275862</td>\n      <td>0.348485</td>\n      <td>0.351544</td>\n      <td>0.255814</td>\n      <td>0.222222</td>\n      <td>0.766628</td>\n      <td>...</td>\n      <td>NaN</td>\n      <td>NaN</td>\n      <td>NaN</td>\n      <td>NaN</td>\n      <td>NaN</td>\n      <td>NaN</td>\n      <td>NaN</td>\n      <td>NaN</td>\n      <td>NaN</td>\n      <td>NaN</td>\n    </tr>\n    <tr>\n      <th>2</th>\n      <td>0.0</td>\n      <td>0.413043</td>\n      <td>0.500000</td>\n      <td>0.322967</td>\n      <td>0.310345</td>\n      <td>0.378788</td>\n      <td>0.368171</td>\n      <td>0.209302</td>\n      <td>0.253968</td>\n      <td>0.519253</td>\n      <td>...</td>\n      <td>NaN</td>\n      <td>NaN</td>\n      <td>NaN</td>\n      <td>NaN</td>\n      <td>NaN</td>\n      <td>NaN</td>\n      <td>NaN</td>\n      <td>NaN</td>\n      <td>NaN</td>\n      <td>NaN</td>\n    </tr>\n    <tr>\n      <th>3</th>\n      <td>0.0</td>\n      <td>0.391304</td>\n      <td>0.397059</td>\n      <td>0.373206</td>\n      <td>0.241379</td>\n      <td>0.227273</td>\n      <td>0.437055</td>\n      <td>0.348837</td>\n      <td>0.349206</td>\n      <td>0.645274</td>\n      <td>...</td>\n      <td>NaN</td>\n      <td>NaN</td>\n      <td>NaN</td>\n      <td>NaN</td>\n      <td>NaN</td>\n      <td>NaN</td>\n      <td>NaN</td>\n      <td>NaN</td>\n      <td>NaN</td>\n      <td>NaN</td>\n    </tr>\n    <tr>\n      <th>4</th>\n      <td>0.0</td>\n      <td>0.347826</td>\n      <td>0.338235</td>\n      <td>0.366029</td>\n      <td>0.206897</td>\n      <td>0.212121</td>\n      <td>0.395487</td>\n      <td>0.418605</td>\n      <td>0.412698</td>\n      <td>0.654609</td>\n      <td>...</td>\n      <td>NaN</td>\n      <td>NaN</td>\n      <td>NaN</td>\n      <td>NaN</td>\n      <td>NaN</td>\n      <td>NaN</td>\n      <td>NaN</td>\n      <td>NaN</td>\n      <td>NaN</td>\n      <td>NaN</td>\n    </tr>\n    <tr>\n      <th>...</th>\n      <td>...</td>\n      <td>...</td>\n      <td>...</td>\n      <td>...</td>\n      <td>...</td>\n      <td>...</td>\n      <td>...</td>\n      <td>...</td>\n      <td>...</td>\n      <td>...</td>\n      <td>...</td>\n      <td>...</td>\n      <td>...</td>\n      <td>...</td>\n      <td>...</td>\n      <td>...</td>\n      <td>...</td>\n      <td>...</td>\n      <td>...</td>\n      <td>...</td>\n      <td>...</td>\n    </tr>\n    <tr>\n      <th>22039</th>\n      <td>0.0</td>\n      <td>0.500000</td>\n      <td>0.441176</td>\n      <td>0.473684</td>\n      <td>0.379310</td>\n      <td>0.606061</td>\n      <td>0.296912</td>\n      <td>0.325581</td>\n      <td>0.301587</td>\n      <td>0.708285</td>\n      <td>...</td>\n      <td>0.341170</td>\n      <td>0.0558</td>\n      <td>0.0691</td>\n      <td>0.296331</td>\n      <td>0.276282</td>\n      <td>0.401896</td>\n      <td>0.510588</td>\n      <td>0.437500</td>\n      <td>0.6</td>\n      <td>2024.0</td>\n    </tr>\n    <tr>\n      <th>22040</th>\n      <td>0.0</td>\n      <td>0.543478</td>\n      <td>0.338235</td>\n      <td>0.624402</td>\n      <td>0.448276</td>\n      <td>0.333333</td>\n      <td>0.593824</td>\n      <td>0.255814</td>\n      <td>0.285714</td>\n      <td>0.570595</td>\n      <td>...</td>\n      <td>0.426376</td>\n      <td>0.0553</td>\n      <td>0.0962</td>\n      <td>0.349790</td>\n      <td>0.115513</td>\n      <td>0.412322</td>\n      <td>0.445882</td>\n      <td>0.444643</td>\n      <td>0.3</td>\n      <td>2024.0</td>\n    </tr>\n    <tr>\n      <th>22041</th>\n      <td>0.0</td>\n      <td>0.586957</td>\n      <td>0.426471</td>\n      <td>0.593301</td>\n      <td>0.379310</td>\n      <td>0.393939</td>\n      <td>0.435867</td>\n      <td>0.558140</td>\n      <td>0.412698</td>\n      <td>0.913652</td>\n      <td>...</td>\n      <td>0.379472</td>\n      <td>0.0476</td>\n      <td>0.0978</td>\n      <td>0.429874</td>\n      <td>0.163974</td>\n      <td>0.501422</td>\n      <td>0.647059</td>\n      <td>0.350893</td>\n      <td>0.7</td>\n      <td>2024.0</td>\n    </tr>\n    <tr>\n      <th>22042</th>\n      <td>0.0</td>\n      <td>0.260870</td>\n      <td>0.338235</td>\n      <td>0.248804</td>\n      <td>0.275862</td>\n      <td>0.378788</td>\n      <td>0.327791</td>\n      <td>0.465116</td>\n      <td>0.460317</td>\n      <td>0.649942</td>\n      <td>...</td>\n      <td>0.317775</td>\n      <td>0.1409</td>\n      <td>0.0868</td>\n      <td>0.343082</td>\n      <td>0.212949</td>\n      <td>0.422275</td>\n      <td>0.504706</td>\n      <td>0.448214</td>\n      <td>0.3</td>\n      <td>2024.0</td>\n    </tr>\n    <tr>\n      <th>22043</th>\n      <td>0.0</td>\n      <td>0.521739</td>\n      <td>0.485294</td>\n      <td>0.461722</td>\n      <td>0.758621</td>\n      <td>0.681818</td>\n      <td>0.533254</td>\n      <td>0.651163</td>\n      <td>0.492063</td>\n      <td>0.890315</td>\n      <td>...</td>\n      <td>0.359404</td>\n      <td>0.0659</td>\n      <td>0.1101</td>\n      <td>0.375786</td>\n      <td>0.291154</td>\n      <td>0.502844</td>\n      <td>0.634118</td>\n      <td>0.566964</td>\n      <td>0.4</td>\n      <td>2024.0</td>\n    </tr>\n  </tbody>\n</table>\n<p>22044 rows × 275 columns</p>\n</div>"
     },
     "execution_count": 36,
     "metadata": {},
     "output_type": "execute_result"
    }
   ],
   "source": [
    "df"
   ]
  },
  {
   "cell_type": "code",
   "execution_count": 37,
   "id": "87e3bbee",
   "metadata": {
    "ExecuteTime": {
     "end_time": "2024-03-09T03:19:09.859422500Z",
     "start_time": "2024-03-09T03:19:09.744899300Z"
    }
   },
   "outputs": [
    {
     "data": {
      "text/plain": "        mp        fg       fga       fg%        3p       3pa       3p%  \\\n243    0.0  0.500000  0.382353  0.523923  0.344828  0.333333  0.457245   \n249    0.0  0.630435  0.426471  0.645933  0.620690  0.515152  0.562945   \n254    0.0  0.456522  0.500000  0.375598  0.379310  0.348485  0.483373   \n256    0.0  0.282609  0.235294  0.363636  0.344828  0.348485  0.439430   \n258    0.0  0.326087  0.250000  0.413876  0.310345  0.257576  0.509501   \n...    ...       ...       ...       ...       ...       ...       ...   \n22039  0.0  0.500000  0.441176  0.473684  0.379310  0.606061  0.296912   \n22040  0.0  0.543478  0.338235  0.624402  0.448276  0.333333  0.593824   \n22041  0.0  0.586957  0.426471  0.593301  0.379310  0.393939  0.435867   \n22042  0.0  0.260870  0.338235  0.248804  0.275862  0.378788  0.327791   \n22043  0.0  0.521739  0.485294  0.461722  0.758621  0.681818  0.533254   \n\n             ft       fta       ft%  ...  ast%_max_opp_10  stl%_max_opp_10  \\\n243    0.255814  0.238095  0.708285  ...         0.311927           0.0628   \n249    0.325581  0.238095  0.927655  ...         0.412271           0.0613   \n254    0.441860  0.396825  0.730455  ...         0.331537           0.0657   \n256    0.627907  0.476190  0.886814  ...         0.398280           0.0747   \n258    0.511628  0.412698  0.827305  ...         0.458257           0.0699   \n...         ...       ...       ...  ...              ...              ...   \n22039  0.325581  0.301587  0.708285  ...         0.341170           0.0558   \n22040  0.255814  0.285714  0.570595  ...         0.426376           0.0553   \n22041  0.558140  0.412698  0.913652  ...         0.379472           0.0476   \n22042  0.465116  0.460317  0.649942  ...         0.317775           0.1409   \n22043  0.651163  0.492063  0.890315  ...         0.359404           0.0659   \n\n       blk%_max_opp_10  tov%_max_opp_10  usg%_max_opp_10  ortg_max_opp_10  \\\n243             0.0679         0.413522         0.125256         0.361611   \n249             0.0772         0.469497         0.220641         0.394787   \n254             0.1032         0.437212         0.126026         0.404739   \n256             0.0742         0.303564         0.131667         0.387678   \n258             0.1072         0.380294         0.274359         0.270616   \n...                ...              ...              ...              ...   \n22039           0.0691         0.296331         0.276282         0.401896   \n22040           0.0962         0.349790         0.115513         0.412322   \n22041           0.0978         0.429874         0.163974         0.501422   \n22042           0.0868         0.343082         0.212949         0.422275   \n22043           0.1101         0.375786         0.291154         0.502844   \n\n       drtg_max_opp_10  total_opp_10  home_opp_10  season_10  \n243           0.449412      0.322321          0.4     2016.0  \n249           0.531765      0.300893          0.5     2016.0  \n254           0.408235      0.398214          0.2     2016.0  \n256           0.410588      0.325893          0.5     2016.0  \n258           0.478824      0.286607          0.6     2016.0  \n...                ...           ...          ...        ...  \n22039         0.510588      0.437500          0.6     2024.0  \n22040         0.445882      0.444643          0.3     2024.0  \n22041         0.647059      0.350893          0.7     2024.0  \n22042         0.504706      0.448214          0.3     2024.0  \n22043         0.634118      0.566964          0.4     2024.0  \n\n[19614 rows x 275 columns]",
      "text/html": "<div>\n<style scoped>\n    .dataframe tbody tr th:only-of-type {\n        vertical-align: middle;\n    }\n\n    .dataframe tbody tr th {\n        vertical-align: top;\n    }\n\n    .dataframe thead th {\n        text-align: right;\n    }\n</style>\n<table border=\"1\" class=\"dataframe\">\n  <thead>\n    <tr style=\"text-align: right;\">\n      <th></th>\n      <th>mp</th>\n      <th>fg</th>\n      <th>fga</th>\n      <th>fg%</th>\n      <th>3p</th>\n      <th>3pa</th>\n      <th>3p%</th>\n      <th>ft</th>\n      <th>fta</th>\n      <th>ft%</th>\n      <th>...</th>\n      <th>ast%_max_opp_10</th>\n      <th>stl%_max_opp_10</th>\n      <th>blk%_max_opp_10</th>\n      <th>tov%_max_opp_10</th>\n      <th>usg%_max_opp_10</th>\n      <th>ortg_max_opp_10</th>\n      <th>drtg_max_opp_10</th>\n      <th>total_opp_10</th>\n      <th>home_opp_10</th>\n      <th>season_10</th>\n    </tr>\n  </thead>\n  <tbody>\n    <tr>\n      <th>243</th>\n      <td>0.0</td>\n      <td>0.500000</td>\n      <td>0.382353</td>\n      <td>0.523923</td>\n      <td>0.344828</td>\n      <td>0.333333</td>\n      <td>0.457245</td>\n      <td>0.255814</td>\n      <td>0.238095</td>\n      <td>0.708285</td>\n      <td>...</td>\n      <td>0.311927</td>\n      <td>0.0628</td>\n      <td>0.0679</td>\n      <td>0.413522</td>\n      <td>0.125256</td>\n      <td>0.361611</td>\n      <td>0.449412</td>\n      <td>0.322321</td>\n      <td>0.4</td>\n      <td>2016.0</td>\n    </tr>\n    <tr>\n      <th>249</th>\n      <td>0.0</td>\n      <td>0.630435</td>\n      <td>0.426471</td>\n      <td>0.645933</td>\n      <td>0.620690</td>\n      <td>0.515152</td>\n      <td>0.562945</td>\n      <td>0.325581</td>\n      <td>0.238095</td>\n      <td>0.927655</td>\n      <td>...</td>\n      <td>0.412271</td>\n      <td>0.0613</td>\n      <td>0.0772</td>\n      <td>0.469497</td>\n      <td>0.220641</td>\n      <td>0.394787</td>\n      <td>0.531765</td>\n      <td>0.300893</td>\n      <td>0.5</td>\n      <td>2016.0</td>\n    </tr>\n    <tr>\n      <th>254</th>\n      <td>0.0</td>\n      <td>0.456522</td>\n      <td>0.500000</td>\n      <td>0.375598</td>\n      <td>0.379310</td>\n      <td>0.348485</td>\n      <td>0.483373</td>\n      <td>0.441860</td>\n      <td>0.396825</td>\n      <td>0.730455</td>\n      <td>...</td>\n      <td>0.331537</td>\n      <td>0.0657</td>\n      <td>0.1032</td>\n      <td>0.437212</td>\n      <td>0.126026</td>\n      <td>0.404739</td>\n      <td>0.408235</td>\n      <td>0.398214</td>\n      <td>0.2</td>\n      <td>2016.0</td>\n    </tr>\n    <tr>\n      <th>256</th>\n      <td>0.0</td>\n      <td>0.282609</td>\n      <td>0.235294</td>\n      <td>0.363636</td>\n      <td>0.344828</td>\n      <td>0.348485</td>\n      <td>0.439430</td>\n      <td>0.627907</td>\n      <td>0.476190</td>\n      <td>0.886814</td>\n      <td>...</td>\n      <td>0.398280</td>\n      <td>0.0747</td>\n      <td>0.0742</td>\n      <td>0.303564</td>\n      <td>0.131667</td>\n      <td>0.387678</td>\n      <td>0.410588</td>\n      <td>0.325893</td>\n      <td>0.5</td>\n      <td>2016.0</td>\n    </tr>\n    <tr>\n      <th>258</th>\n      <td>0.0</td>\n      <td>0.326087</td>\n      <td>0.250000</td>\n      <td>0.413876</td>\n      <td>0.310345</td>\n      <td>0.257576</td>\n      <td>0.509501</td>\n      <td>0.511628</td>\n      <td>0.412698</td>\n      <td>0.827305</td>\n      <td>...</td>\n      <td>0.458257</td>\n      <td>0.0699</td>\n      <td>0.1072</td>\n      <td>0.380294</td>\n      <td>0.274359</td>\n      <td>0.270616</td>\n      <td>0.478824</td>\n      <td>0.286607</td>\n      <td>0.6</td>\n      <td>2016.0</td>\n    </tr>\n    <tr>\n      <th>...</th>\n      <td>...</td>\n      <td>...</td>\n      <td>...</td>\n      <td>...</td>\n      <td>...</td>\n      <td>...</td>\n      <td>...</td>\n      <td>...</td>\n      <td>...</td>\n      <td>...</td>\n      <td>...</td>\n      <td>...</td>\n      <td>...</td>\n      <td>...</td>\n      <td>...</td>\n      <td>...</td>\n      <td>...</td>\n      <td>...</td>\n      <td>...</td>\n      <td>...</td>\n      <td>...</td>\n    </tr>\n    <tr>\n      <th>22039</th>\n      <td>0.0</td>\n      <td>0.500000</td>\n      <td>0.441176</td>\n      <td>0.473684</td>\n      <td>0.379310</td>\n      <td>0.606061</td>\n      <td>0.296912</td>\n      <td>0.325581</td>\n      <td>0.301587</td>\n      <td>0.708285</td>\n      <td>...</td>\n      <td>0.341170</td>\n      <td>0.0558</td>\n      <td>0.0691</td>\n      <td>0.296331</td>\n      <td>0.276282</td>\n      <td>0.401896</td>\n      <td>0.510588</td>\n      <td>0.437500</td>\n      <td>0.6</td>\n      <td>2024.0</td>\n    </tr>\n    <tr>\n      <th>22040</th>\n      <td>0.0</td>\n      <td>0.543478</td>\n      <td>0.338235</td>\n      <td>0.624402</td>\n      <td>0.448276</td>\n      <td>0.333333</td>\n      <td>0.593824</td>\n      <td>0.255814</td>\n      <td>0.285714</td>\n      <td>0.570595</td>\n      <td>...</td>\n      <td>0.426376</td>\n      <td>0.0553</td>\n      <td>0.0962</td>\n      <td>0.349790</td>\n      <td>0.115513</td>\n      <td>0.412322</td>\n      <td>0.445882</td>\n      <td>0.444643</td>\n      <td>0.3</td>\n      <td>2024.0</td>\n    </tr>\n    <tr>\n      <th>22041</th>\n      <td>0.0</td>\n      <td>0.586957</td>\n      <td>0.426471</td>\n      <td>0.593301</td>\n      <td>0.379310</td>\n      <td>0.393939</td>\n      <td>0.435867</td>\n      <td>0.558140</td>\n      <td>0.412698</td>\n      <td>0.913652</td>\n      <td>...</td>\n      <td>0.379472</td>\n      <td>0.0476</td>\n      <td>0.0978</td>\n      <td>0.429874</td>\n      <td>0.163974</td>\n      <td>0.501422</td>\n      <td>0.647059</td>\n      <td>0.350893</td>\n      <td>0.7</td>\n      <td>2024.0</td>\n    </tr>\n    <tr>\n      <th>22042</th>\n      <td>0.0</td>\n      <td>0.260870</td>\n      <td>0.338235</td>\n      <td>0.248804</td>\n      <td>0.275862</td>\n      <td>0.378788</td>\n      <td>0.327791</td>\n      <td>0.465116</td>\n      <td>0.460317</td>\n      <td>0.649942</td>\n      <td>...</td>\n      <td>0.317775</td>\n      <td>0.1409</td>\n      <td>0.0868</td>\n      <td>0.343082</td>\n      <td>0.212949</td>\n      <td>0.422275</td>\n      <td>0.504706</td>\n      <td>0.448214</td>\n      <td>0.3</td>\n      <td>2024.0</td>\n    </tr>\n    <tr>\n      <th>22043</th>\n      <td>0.0</td>\n      <td>0.521739</td>\n      <td>0.485294</td>\n      <td>0.461722</td>\n      <td>0.758621</td>\n      <td>0.681818</td>\n      <td>0.533254</td>\n      <td>0.651163</td>\n      <td>0.492063</td>\n      <td>0.890315</td>\n      <td>...</td>\n      <td>0.359404</td>\n      <td>0.0659</td>\n      <td>0.1101</td>\n      <td>0.375786</td>\n      <td>0.291154</td>\n      <td>0.502844</td>\n      <td>0.634118</td>\n      <td>0.566964</td>\n      <td>0.4</td>\n      <td>2024.0</td>\n    </tr>\n  </tbody>\n</table>\n<p>19614 rows × 275 columns</p>\n</div>"
     },
     "execution_count": 37,
     "metadata": {},
     "output_type": "execute_result"
    }
   ],
   "source": [
    "df = df.dropna()\n",
    "df"
   ]
  },
  {
   "cell_type": "code",
   "execution_count": 38,
   "id": "f772f571",
   "metadata": {
    "ExecuteTime": {
     "end_time": "2024-03-09T03:19:09.954573300Z",
     "start_time": "2024-03-09T03:19:09.802924600Z"
    }
   },
   "outputs": [
    {
     "name": "stderr",
     "output_type": "stream",
     "text": [
      "C:\\Users\\Bryan Hernandez\\AppData\\Local\\Temp\\ipykernel_416\\2674197039.py:6: DeprecationWarning: DataFrameGroupBy.apply operated on the grouping columns. This behavior is deprecated, and in a future version of pandas the grouping columns will be excluded from the operation. Either pass `include_groups=False` to exclude the groupings or explicitly select the grouping columns after groupby to silence this warning.\n",
      "  return df.groupby(\"team\", group_keys=False).apply(lambda x: shift_col(x, col_name))\n",
      "C:\\Users\\Bryan Hernandez\\AppData\\Local\\Temp\\ipykernel_416\\2674197039.py:10: SettingWithCopyWarning: \n",
      "A value is trying to be set on a copy of a slice from a DataFrame.\n",
      "Try using .loc[row_indexer,col_indexer] = value instead\n",
      "\n",
      "See the caveats in the documentation: https://pandas.pydata.org/pandas-docs/stable/user_guide/indexing.html#returning-a-view-versus-a-copy\n",
      "  df[\"home_next\"] = add_col(df, \"home\")\n",
      "C:\\Users\\Bryan Hernandez\\AppData\\Local\\Temp\\ipykernel_416\\2674197039.py:6: DeprecationWarning: DataFrameGroupBy.apply operated on the grouping columns. This behavior is deprecated, and in a future version of pandas the grouping columns will be excluded from the operation. Either pass `include_groups=False` to exclude the groupings or explicitly select the grouping columns after groupby to silence this warning.\n",
      "  return df.groupby(\"team\", group_keys=False).apply(lambda x: shift_col(x, col_name))\n",
      "C:\\Users\\Bryan Hernandez\\AppData\\Local\\Temp\\ipykernel_416\\2674197039.py:11: SettingWithCopyWarning: \n",
      "A value is trying to be set on a copy of a slice from a DataFrame.\n",
      "Try using .loc[row_indexer,col_indexer] = value instead\n",
      "\n",
      "See the caveats in the documentation: https://pandas.pydata.org/pandas-docs/stable/user_guide/indexing.html#returning-a-view-versus-a-copy\n",
      "  df[\"team_opp_next\"] = add_col(df, \"team_opp\")\n",
      "C:\\Users\\Bryan Hernandez\\AppData\\Local\\Temp\\ipykernel_416\\2674197039.py:6: DeprecationWarning: DataFrameGroupBy.apply operated on the grouping columns. This behavior is deprecated, and in a future version of pandas the grouping columns will be excluded from the operation. Either pass `include_groups=False` to exclude the groupings or explicitly select the grouping columns after groupby to silence this warning.\n",
      "  return df.groupby(\"team\", group_keys=False).apply(lambda x: shift_col(x, col_name))\n",
      "C:\\Users\\Bryan Hernandez\\AppData\\Local\\Temp\\ipykernel_416\\2674197039.py:12: SettingWithCopyWarning: \n",
      "A value is trying to be set on a copy of a slice from a DataFrame.\n",
      "Try using .loc[row_indexer,col_indexer] = value instead\n",
      "\n",
      "See the caveats in the documentation: https://pandas.pydata.org/pandas-docs/stable/user_guide/indexing.html#returning-a-view-versus-a-copy\n",
      "  df[\"date_next\"] = add_col(df, \"date\")\n"
     ]
    }
   ],
   "source": [
    "def shift_col(team, col_name):\n",
    "    next_col = team[col_name].shift(-1)\n",
    "    return next_col\n",
    "\n",
    "def add_col(df, col_name):\n",
    "    return df.groupby(\"team\", group_keys=False).apply(lambda x: shift_col(x, col_name))\n",
    "\n",
    "# This will add information about the next future game (if we are the home team, who is the opp, and the date)\n",
    "\n",
    "df[\"home_next\"] = add_col(df, \"home\")\n",
    "df[\"team_opp_next\"] = add_col(df, \"team_opp\")\n",
    "df[\"date_next\"] = add_col(df, \"date\")"
   ]
  },
  {
   "cell_type": "code",
   "execution_count": 39,
   "id": "0b076326",
   "metadata": {
    "ExecuteTime": {
     "end_time": "2024-03-09T03:19:09.986572200Z",
     "start_time": "2024-03-09T03:19:09.905238500Z"
    }
   },
   "outputs": [
    {
     "data": {
      "text/plain": "        mp        fg       fga       fg%        3p       3pa       3p%  \\\n243    0.0  0.500000  0.382353  0.523923  0.344828  0.333333  0.457245   \n249    0.0  0.630435  0.426471  0.645933  0.620690  0.515152  0.562945   \n254    0.0  0.456522  0.500000  0.375598  0.379310  0.348485  0.483373   \n256    0.0  0.282609  0.235294  0.363636  0.344828  0.348485  0.439430   \n258    0.0  0.326087  0.250000  0.413876  0.310345  0.257576  0.509501   \n...    ...       ...       ...       ...       ...       ...       ...   \n22039  0.0  0.500000  0.441176  0.473684  0.379310  0.606061  0.296912   \n22040  0.0  0.543478  0.338235  0.624402  0.448276  0.333333  0.593824   \n22041  0.0  0.586957  0.426471  0.593301  0.379310  0.393939  0.435867   \n22042  0.0  0.260870  0.338235  0.248804  0.275862  0.378788  0.327791   \n22043  0.0  0.521739  0.485294  0.461722  0.758621  0.681818  0.533254   \n\n             ft       fta       ft%  ...  tov%_max_opp_10  usg%_max_opp_10  \\\n243    0.255814  0.238095  0.708285  ...         0.413522         0.125256   \n249    0.325581  0.238095  0.927655  ...         0.469497         0.220641   \n254    0.441860  0.396825  0.730455  ...         0.437212         0.126026   \n256    0.627907  0.476190  0.886814  ...         0.303564         0.131667   \n258    0.511628  0.412698  0.827305  ...         0.380294         0.274359   \n...         ...       ...       ...  ...              ...              ...   \n22039  0.325581  0.301587  0.708285  ...         0.296331         0.276282   \n22040  0.255814  0.285714  0.570595  ...         0.349790         0.115513   \n22041  0.558140  0.412698  0.913652  ...         0.429874         0.163974   \n22042  0.465116  0.460317  0.649942  ...         0.343082         0.212949   \n22043  0.651163  0.492063  0.890315  ...         0.375786         0.291154   \n\n       ortg_max_opp_10  drtg_max_opp_10  total_opp_10  home_opp_10  season_10  \\\n243           0.361611         0.449412      0.322321          0.4     2016.0   \n249           0.394787         0.531765      0.300893          0.5     2016.0   \n254           0.404739         0.408235      0.398214          0.2     2016.0   \n256           0.387678         0.410588      0.325893          0.5     2016.0   \n258           0.270616         0.478824      0.286607          0.6     2016.0   \n...                ...              ...           ...          ...        ...   \n22039         0.401896         0.510588      0.437500          0.6     2024.0   \n22040         0.412322         0.445882      0.444643          0.3     2024.0   \n22041         0.501422         0.647059      0.350893          0.7     2024.0   \n22042         0.422275         0.504706      0.448214          0.3     2024.0   \n22043         0.502844         0.634118      0.566964          0.4     2024.0   \n\n       home_next  team_opp_next   date_next  \n243          0.0            BOS  2015-11-13  \n249          1.0            BRK  2015-11-14  \n254          1.0            TOR  2015-11-15  \n256          0.0            WAS  2015-11-14  \n258          0.0            SAC  2015-11-15  \n...          ...            ...         ...  \n22039        NaN           None        None  \n22040        NaN           None        None  \n22041        NaN           None        None  \n22042        NaN           None        None  \n22043        NaN           None        None  \n\n[19614 rows x 278 columns]",
      "text/html": "<div>\n<style scoped>\n    .dataframe tbody tr th:only-of-type {\n        vertical-align: middle;\n    }\n\n    .dataframe tbody tr th {\n        vertical-align: top;\n    }\n\n    .dataframe thead th {\n        text-align: right;\n    }\n</style>\n<table border=\"1\" class=\"dataframe\">\n  <thead>\n    <tr style=\"text-align: right;\">\n      <th></th>\n      <th>mp</th>\n      <th>fg</th>\n      <th>fga</th>\n      <th>fg%</th>\n      <th>3p</th>\n      <th>3pa</th>\n      <th>3p%</th>\n      <th>ft</th>\n      <th>fta</th>\n      <th>ft%</th>\n      <th>...</th>\n      <th>tov%_max_opp_10</th>\n      <th>usg%_max_opp_10</th>\n      <th>ortg_max_opp_10</th>\n      <th>drtg_max_opp_10</th>\n      <th>total_opp_10</th>\n      <th>home_opp_10</th>\n      <th>season_10</th>\n      <th>home_next</th>\n      <th>team_opp_next</th>\n      <th>date_next</th>\n    </tr>\n  </thead>\n  <tbody>\n    <tr>\n      <th>243</th>\n      <td>0.0</td>\n      <td>0.500000</td>\n      <td>0.382353</td>\n      <td>0.523923</td>\n      <td>0.344828</td>\n      <td>0.333333</td>\n      <td>0.457245</td>\n      <td>0.255814</td>\n      <td>0.238095</td>\n      <td>0.708285</td>\n      <td>...</td>\n      <td>0.413522</td>\n      <td>0.125256</td>\n      <td>0.361611</td>\n      <td>0.449412</td>\n      <td>0.322321</td>\n      <td>0.4</td>\n      <td>2016.0</td>\n      <td>0.0</td>\n      <td>BOS</td>\n      <td>2015-11-13</td>\n    </tr>\n    <tr>\n      <th>249</th>\n      <td>0.0</td>\n      <td>0.630435</td>\n      <td>0.426471</td>\n      <td>0.645933</td>\n      <td>0.620690</td>\n      <td>0.515152</td>\n      <td>0.562945</td>\n      <td>0.325581</td>\n      <td>0.238095</td>\n      <td>0.927655</td>\n      <td>...</td>\n      <td>0.469497</td>\n      <td>0.220641</td>\n      <td>0.394787</td>\n      <td>0.531765</td>\n      <td>0.300893</td>\n      <td>0.5</td>\n      <td>2016.0</td>\n      <td>1.0</td>\n      <td>BRK</td>\n      <td>2015-11-14</td>\n    </tr>\n    <tr>\n      <th>254</th>\n      <td>0.0</td>\n      <td>0.456522</td>\n      <td>0.500000</td>\n      <td>0.375598</td>\n      <td>0.379310</td>\n      <td>0.348485</td>\n      <td>0.483373</td>\n      <td>0.441860</td>\n      <td>0.396825</td>\n      <td>0.730455</td>\n      <td>...</td>\n      <td>0.437212</td>\n      <td>0.126026</td>\n      <td>0.404739</td>\n      <td>0.408235</td>\n      <td>0.398214</td>\n      <td>0.2</td>\n      <td>2016.0</td>\n      <td>1.0</td>\n      <td>TOR</td>\n      <td>2015-11-15</td>\n    </tr>\n    <tr>\n      <th>256</th>\n      <td>0.0</td>\n      <td>0.282609</td>\n      <td>0.235294</td>\n      <td>0.363636</td>\n      <td>0.344828</td>\n      <td>0.348485</td>\n      <td>0.439430</td>\n      <td>0.627907</td>\n      <td>0.476190</td>\n      <td>0.886814</td>\n      <td>...</td>\n      <td>0.303564</td>\n      <td>0.131667</td>\n      <td>0.387678</td>\n      <td>0.410588</td>\n      <td>0.325893</td>\n      <td>0.5</td>\n      <td>2016.0</td>\n      <td>0.0</td>\n      <td>WAS</td>\n      <td>2015-11-14</td>\n    </tr>\n    <tr>\n      <th>258</th>\n      <td>0.0</td>\n      <td>0.326087</td>\n      <td>0.250000</td>\n      <td>0.413876</td>\n      <td>0.310345</td>\n      <td>0.257576</td>\n      <td>0.509501</td>\n      <td>0.511628</td>\n      <td>0.412698</td>\n      <td>0.827305</td>\n      <td>...</td>\n      <td>0.380294</td>\n      <td>0.274359</td>\n      <td>0.270616</td>\n      <td>0.478824</td>\n      <td>0.286607</td>\n      <td>0.6</td>\n      <td>2016.0</td>\n      <td>0.0</td>\n      <td>SAC</td>\n      <td>2015-11-15</td>\n    </tr>\n    <tr>\n      <th>...</th>\n      <td>...</td>\n      <td>...</td>\n      <td>...</td>\n      <td>...</td>\n      <td>...</td>\n      <td>...</td>\n      <td>...</td>\n      <td>...</td>\n      <td>...</td>\n      <td>...</td>\n      <td>...</td>\n      <td>...</td>\n      <td>...</td>\n      <td>...</td>\n      <td>...</td>\n      <td>...</td>\n      <td>...</td>\n      <td>...</td>\n      <td>...</td>\n      <td>...</td>\n      <td>...</td>\n    </tr>\n    <tr>\n      <th>22039</th>\n      <td>0.0</td>\n      <td>0.500000</td>\n      <td>0.441176</td>\n      <td>0.473684</td>\n      <td>0.379310</td>\n      <td>0.606061</td>\n      <td>0.296912</td>\n      <td>0.325581</td>\n      <td>0.301587</td>\n      <td>0.708285</td>\n      <td>...</td>\n      <td>0.296331</td>\n      <td>0.276282</td>\n      <td>0.401896</td>\n      <td>0.510588</td>\n      <td>0.437500</td>\n      <td>0.6</td>\n      <td>2024.0</td>\n      <td>NaN</td>\n      <td>None</td>\n      <td>None</td>\n    </tr>\n    <tr>\n      <th>22040</th>\n      <td>0.0</td>\n      <td>0.543478</td>\n      <td>0.338235</td>\n      <td>0.624402</td>\n      <td>0.448276</td>\n      <td>0.333333</td>\n      <td>0.593824</td>\n      <td>0.255814</td>\n      <td>0.285714</td>\n      <td>0.570595</td>\n      <td>...</td>\n      <td>0.349790</td>\n      <td>0.115513</td>\n      <td>0.412322</td>\n      <td>0.445882</td>\n      <td>0.444643</td>\n      <td>0.3</td>\n      <td>2024.0</td>\n      <td>NaN</td>\n      <td>None</td>\n      <td>None</td>\n    </tr>\n    <tr>\n      <th>22041</th>\n      <td>0.0</td>\n      <td>0.586957</td>\n      <td>0.426471</td>\n      <td>0.593301</td>\n      <td>0.379310</td>\n      <td>0.393939</td>\n      <td>0.435867</td>\n      <td>0.558140</td>\n      <td>0.412698</td>\n      <td>0.913652</td>\n      <td>...</td>\n      <td>0.429874</td>\n      <td>0.163974</td>\n      <td>0.501422</td>\n      <td>0.647059</td>\n      <td>0.350893</td>\n      <td>0.7</td>\n      <td>2024.0</td>\n      <td>NaN</td>\n      <td>None</td>\n      <td>None</td>\n    </tr>\n    <tr>\n      <th>22042</th>\n      <td>0.0</td>\n      <td>0.260870</td>\n      <td>0.338235</td>\n      <td>0.248804</td>\n      <td>0.275862</td>\n      <td>0.378788</td>\n      <td>0.327791</td>\n      <td>0.465116</td>\n      <td>0.460317</td>\n      <td>0.649942</td>\n      <td>...</td>\n      <td>0.343082</td>\n      <td>0.212949</td>\n      <td>0.422275</td>\n      <td>0.504706</td>\n      <td>0.448214</td>\n      <td>0.3</td>\n      <td>2024.0</td>\n      <td>NaN</td>\n      <td>None</td>\n      <td>None</td>\n    </tr>\n    <tr>\n      <th>22043</th>\n      <td>0.0</td>\n      <td>0.521739</td>\n      <td>0.485294</td>\n      <td>0.461722</td>\n      <td>0.758621</td>\n      <td>0.681818</td>\n      <td>0.533254</td>\n      <td>0.651163</td>\n      <td>0.492063</td>\n      <td>0.890315</td>\n      <td>...</td>\n      <td>0.375786</td>\n      <td>0.291154</td>\n      <td>0.502844</td>\n      <td>0.634118</td>\n      <td>0.566964</td>\n      <td>0.4</td>\n      <td>2024.0</td>\n      <td>NaN</td>\n      <td>None</td>\n      <td>None</td>\n    </tr>\n  </tbody>\n</table>\n<p>19614 rows × 278 columns</p>\n</div>"
     },
     "execution_count": 39,
     "metadata": {},
     "output_type": "execute_result"
    }
   ],
   "source": [
    "df"
   ]
  },
  {
   "cell_type": "code",
   "execution_count": 40,
   "id": "dca20f31",
   "metadata": {
    "ExecuteTime": {
     "end_time": "2024-03-09T03:19:10.103483Z",
     "start_time": "2024-03-09T03:19:09.928573200Z"
    }
   },
   "outputs": [],
   "source": [
    "full = df.merge(\n",
    "    df[rolling_cols + [\"team_opp_next\", \"date_next\", \"team\"]], \n",
    "    left_on=[\"team\", \"date_next\"], \n",
    "    right_on=[\"team_opp_next\", \"date_next\"]\n",
    ")"
   ]
  },
  {
   "cell_type": "code",
   "execution_count": 41,
   "id": "e00caf29",
   "metadata": {
    "ExecuteTime": {
     "end_time": "2024-03-09T03:19:10.106005800Z",
     "start_time": "2024-03-09T03:19:10.033260600Z"
    }
   },
   "outputs": [
    {
     "data": {
      "text/plain": "        mp        fg       fga       fg%        3p       3pa       3p%  \\\n0      0.0  0.456522  0.500000  0.375598  0.379310  0.348485  0.483373   \n1      0.0  0.326087  0.250000  0.413876  0.310345  0.257576  0.509501   \n2      0.0  0.326087  0.558824  0.186603  0.206897  0.469697  0.203088   \n3      0.0  0.413043  0.397059  0.401914  0.137931  0.212121  0.263658   \n4      0.0  0.304348  0.323529  0.318182  0.275862  0.272727  0.432304   \n...    ...       ...       ...       ...       ...       ...       ...   \n19481  0.0  0.565217  0.705882  0.354067  0.275862  0.363636  0.339667   \n19482  0.0  0.434783  0.279412  0.538278  0.517241  0.439394  0.540380   \n19483  0.0  0.652174  0.602941  0.516746  0.482759  0.621212  0.369359   \n19484  0.0  0.434783  0.279412  0.538278  0.517241  0.469697  0.509501   \n19485  0.0  0.608696  0.632353  0.447368  0.620690  0.651515  0.454869   \n\n             ft       fta       ft%  ...  blk%_max_opp_10_y  \\\n0      0.441860  0.396825  0.730455  ...             0.1072   \n1      0.511628  0.412698  0.827305  ...             0.1032   \n2      0.139535  0.111111  0.854142  ...             0.0766   \n3      0.418605  0.365079  0.757293  ...             0.0726   \n4      0.186047  0.158730  0.787631  ...             0.0839   \n...         ...       ...       ...  ...                ...   \n19481  0.279070  0.253968  0.725788  ...             0.1444   \n19482  0.372093  0.396825  0.596266  ...             0.0672   \n19483  0.209302  0.190476  0.730455  ...             0.0824   \n19484  0.627907  0.634921  0.630105  ...             0.0704   \n19485  0.279070  0.269841  0.675613  ...             0.1055   \n\n       tov%_max_opp_10_y  usg%_max_opp_10_y  ortg_max_opp_10_y  \\\n0               0.380294           0.274359           0.270616   \n1               0.437212           0.126026           0.404739   \n2               0.413732           0.157821           0.470142   \n3               0.468868           0.124231           0.332227   \n4               0.310377           0.128205           0.312796   \n...                  ...                ...                ...   \n19481           0.422956           0.139744           0.538389   \n19482           0.239413           0.253846           0.517062   \n19483           0.330608           0.149359           0.439336   \n19484           0.340042           0.278590           0.409005   \n19485           0.376205           0.316795           0.515640   \n\n       drtg_max_opp_10_y  total_opp_10_y  home_opp_10_y  season_10_y  \\\n0               0.478824        0.286607            0.6       2016.0   \n1               0.408235        0.398214            0.2       2016.0   \n2               0.391765        0.405357            0.6       2016.0   \n3               0.407059        0.343750            0.5       2016.0   \n4               0.410588        0.328571            0.5       2016.0   \n...                  ...             ...            ...          ...   \n19481           0.601176        0.474107            0.7       2024.0   \n19482           0.630588        0.435714            0.3       2024.0   \n19483           0.607059        0.458929            0.6       2024.0   \n19484           0.537647        0.441071            0.5       2024.0   \n19485           0.622353        0.538393            0.5       2024.0   \n\n       team_opp_next_y  team_y  \n0                  SAC     TOR  \n1                  TOR     SAC  \n2                  DEN     NOP  \n3                  ORL     MIN  \n4                  PHI     DAL  \n...                ...     ...  \n19481              DET     PHO  \n19482              BRK     BOS  \n19483              UTA     GSW  \n19484              MEM     MIL  \n19485              GSW     UTA  \n\n[19486 rows x 415 columns]",
      "text/html": "<div>\n<style scoped>\n    .dataframe tbody tr th:only-of-type {\n        vertical-align: middle;\n    }\n\n    .dataframe tbody tr th {\n        vertical-align: top;\n    }\n\n    .dataframe thead th {\n        text-align: right;\n    }\n</style>\n<table border=\"1\" class=\"dataframe\">\n  <thead>\n    <tr style=\"text-align: right;\">\n      <th></th>\n      <th>mp</th>\n      <th>fg</th>\n      <th>fga</th>\n      <th>fg%</th>\n      <th>3p</th>\n      <th>3pa</th>\n      <th>3p%</th>\n      <th>ft</th>\n      <th>fta</th>\n      <th>ft%</th>\n      <th>...</th>\n      <th>blk%_max_opp_10_y</th>\n      <th>tov%_max_opp_10_y</th>\n      <th>usg%_max_opp_10_y</th>\n      <th>ortg_max_opp_10_y</th>\n      <th>drtg_max_opp_10_y</th>\n      <th>total_opp_10_y</th>\n      <th>home_opp_10_y</th>\n      <th>season_10_y</th>\n      <th>team_opp_next_y</th>\n      <th>team_y</th>\n    </tr>\n  </thead>\n  <tbody>\n    <tr>\n      <th>0</th>\n      <td>0.0</td>\n      <td>0.456522</td>\n      <td>0.500000</td>\n      <td>0.375598</td>\n      <td>0.379310</td>\n      <td>0.348485</td>\n      <td>0.483373</td>\n      <td>0.441860</td>\n      <td>0.396825</td>\n      <td>0.730455</td>\n      <td>...</td>\n      <td>0.1072</td>\n      <td>0.380294</td>\n      <td>0.274359</td>\n      <td>0.270616</td>\n      <td>0.478824</td>\n      <td>0.286607</td>\n      <td>0.6</td>\n      <td>2016.0</td>\n      <td>SAC</td>\n      <td>TOR</td>\n    </tr>\n    <tr>\n      <th>1</th>\n      <td>0.0</td>\n      <td>0.326087</td>\n      <td>0.250000</td>\n      <td>0.413876</td>\n      <td>0.310345</td>\n      <td>0.257576</td>\n      <td>0.509501</td>\n      <td>0.511628</td>\n      <td>0.412698</td>\n      <td>0.827305</td>\n      <td>...</td>\n      <td>0.1032</td>\n      <td>0.437212</td>\n      <td>0.126026</td>\n      <td>0.404739</td>\n      <td>0.408235</td>\n      <td>0.398214</td>\n      <td>0.2</td>\n      <td>2016.0</td>\n      <td>TOR</td>\n      <td>SAC</td>\n    </tr>\n    <tr>\n      <th>2</th>\n      <td>0.0</td>\n      <td>0.326087</td>\n      <td>0.558824</td>\n      <td>0.186603</td>\n      <td>0.206897</td>\n      <td>0.469697</td>\n      <td>0.203088</td>\n      <td>0.139535</td>\n      <td>0.111111</td>\n      <td>0.854142</td>\n      <td>...</td>\n      <td>0.0766</td>\n      <td>0.413732</td>\n      <td>0.157821</td>\n      <td>0.470142</td>\n      <td>0.391765</td>\n      <td>0.405357</td>\n      <td>0.6</td>\n      <td>2016.0</td>\n      <td>DEN</td>\n      <td>NOP</td>\n    </tr>\n    <tr>\n      <th>3</th>\n      <td>0.0</td>\n      <td>0.413043</td>\n      <td>0.397059</td>\n      <td>0.401914</td>\n      <td>0.137931</td>\n      <td>0.212121</td>\n      <td>0.263658</td>\n      <td>0.418605</td>\n      <td>0.365079</td>\n      <td>0.757293</td>\n      <td>...</td>\n      <td>0.0726</td>\n      <td>0.468868</td>\n      <td>0.124231</td>\n      <td>0.332227</td>\n      <td>0.407059</td>\n      <td>0.343750</td>\n      <td>0.5</td>\n      <td>2016.0</td>\n      <td>ORL</td>\n      <td>MIN</td>\n    </tr>\n    <tr>\n      <th>4</th>\n      <td>0.0</td>\n      <td>0.304348</td>\n      <td>0.323529</td>\n      <td>0.318182</td>\n      <td>0.275862</td>\n      <td>0.272727</td>\n      <td>0.432304</td>\n      <td>0.186047</td>\n      <td>0.158730</td>\n      <td>0.787631</td>\n      <td>...</td>\n      <td>0.0839</td>\n      <td>0.310377</td>\n      <td>0.128205</td>\n      <td>0.312796</td>\n      <td>0.410588</td>\n      <td>0.328571</td>\n      <td>0.5</td>\n      <td>2016.0</td>\n      <td>PHI</td>\n      <td>DAL</td>\n    </tr>\n    <tr>\n      <th>...</th>\n      <td>...</td>\n      <td>...</td>\n      <td>...</td>\n      <td>...</td>\n      <td>...</td>\n      <td>...</td>\n      <td>...</td>\n      <td>...</td>\n      <td>...</td>\n      <td>...</td>\n      <td>...</td>\n      <td>...</td>\n      <td>...</td>\n      <td>...</td>\n      <td>...</td>\n      <td>...</td>\n      <td>...</td>\n      <td>...</td>\n      <td>...</td>\n      <td>...</td>\n      <td>...</td>\n    </tr>\n    <tr>\n      <th>19481</th>\n      <td>0.0</td>\n      <td>0.565217</td>\n      <td>0.705882</td>\n      <td>0.354067</td>\n      <td>0.275862</td>\n      <td>0.363636</td>\n      <td>0.339667</td>\n      <td>0.279070</td>\n      <td>0.253968</td>\n      <td>0.725788</td>\n      <td>...</td>\n      <td>0.1444</td>\n      <td>0.422956</td>\n      <td>0.139744</td>\n      <td>0.538389</td>\n      <td>0.601176</td>\n      <td>0.474107</td>\n      <td>0.7</td>\n      <td>2024.0</td>\n      <td>DET</td>\n      <td>PHO</td>\n    </tr>\n    <tr>\n      <th>19482</th>\n      <td>0.0</td>\n      <td>0.434783</td>\n      <td>0.279412</td>\n      <td>0.538278</td>\n      <td>0.517241</td>\n      <td>0.439394</td>\n      <td>0.540380</td>\n      <td>0.372093</td>\n      <td>0.396825</td>\n      <td>0.596266</td>\n      <td>...</td>\n      <td>0.0672</td>\n      <td>0.239413</td>\n      <td>0.253846</td>\n      <td>0.517062</td>\n      <td>0.630588</td>\n      <td>0.435714</td>\n      <td>0.3</td>\n      <td>2024.0</td>\n      <td>BRK</td>\n      <td>BOS</td>\n    </tr>\n    <tr>\n      <th>19483</th>\n      <td>0.0</td>\n      <td>0.652174</td>\n      <td>0.602941</td>\n      <td>0.516746</td>\n      <td>0.482759</td>\n      <td>0.621212</td>\n      <td>0.369359</td>\n      <td>0.209302</td>\n      <td>0.190476</td>\n      <td>0.730455</td>\n      <td>...</td>\n      <td>0.0824</td>\n      <td>0.330608</td>\n      <td>0.149359</td>\n      <td>0.439336</td>\n      <td>0.607059</td>\n      <td>0.458929</td>\n      <td>0.6</td>\n      <td>2024.0</td>\n      <td>UTA</td>\n      <td>GSW</td>\n    </tr>\n    <tr>\n      <th>19484</th>\n      <td>0.0</td>\n      <td>0.434783</td>\n      <td>0.279412</td>\n      <td>0.538278</td>\n      <td>0.517241</td>\n      <td>0.469697</td>\n      <td>0.509501</td>\n      <td>0.627907</td>\n      <td>0.634921</td>\n      <td>0.630105</td>\n      <td>...</td>\n      <td>0.0704</td>\n      <td>0.340042</td>\n      <td>0.278590</td>\n      <td>0.409005</td>\n      <td>0.537647</td>\n      <td>0.441071</td>\n      <td>0.5</td>\n      <td>2024.0</td>\n      <td>MEM</td>\n      <td>MIL</td>\n    </tr>\n    <tr>\n      <th>19485</th>\n      <td>0.0</td>\n      <td>0.608696</td>\n      <td>0.632353</td>\n      <td>0.447368</td>\n      <td>0.620690</td>\n      <td>0.651515</td>\n      <td>0.454869</td>\n      <td>0.279070</td>\n      <td>0.269841</td>\n      <td>0.675613</td>\n      <td>...</td>\n      <td>0.1055</td>\n      <td>0.376205</td>\n      <td>0.316795</td>\n      <td>0.515640</td>\n      <td>0.622353</td>\n      <td>0.538393</td>\n      <td>0.5</td>\n      <td>2024.0</td>\n      <td>GSW</td>\n      <td>UTA</td>\n    </tr>\n  </tbody>\n</table>\n<p>19486 rows × 415 columns</p>\n</div>"
     },
     "execution_count": 41,
     "metadata": {},
     "output_type": "execute_result"
    }
   ],
   "source": [
    "full"
   ]
  },
  {
   "cell_type": "code",
   "execution_count": 42,
   "id": "dcff0d6c",
   "metadata": {
    "ExecuteTime": {
     "end_time": "2024-03-09T03:19:10.153004700Z",
     "start_time": "2024-03-09T03:19:10.054161100Z"
    }
   },
   "outputs": [
    {
     "data": {
      "text/plain": "      team_x team_opp_next_x team_y team_opp_next_y   date_next\n0        SAC             TOR    TOR             SAC  2015-11-15\n1        TOR             SAC    SAC             TOR  2015-11-15\n2        DEN             NOP    NOP             DEN  2015-11-17\n3        ORL             MIN    MIN             ORL  2015-11-18\n4        PHI             DAL    DAL             PHI  2015-11-16\n...      ...             ...    ...             ...         ...\n19481    DET             PHO    PHO             DET  2024-02-14\n19482    BRK             BOS    BOS             BRK  2024-02-14\n19483    UTA             GSW    GSW             UTA  2024-02-15\n19484    MEM             MIL    MIL             MEM  2024-02-15\n19485    GSW             UTA    UTA             GSW  2024-02-15\n\n[19486 rows x 5 columns]",
      "text/html": "<div>\n<style scoped>\n    .dataframe tbody tr th:only-of-type {\n        vertical-align: middle;\n    }\n\n    .dataframe tbody tr th {\n        vertical-align: top;\n    }\n\n    .dataframe thead th {\n        text-align: right;\n    }\n</style>\n<table border=\"1\" class=\"dataframe\">\n  <thead>\n    <tr style=\"text-align: right;\">\n      <th></th>\n      <th>team_x</th>\n      <th>team_opp_next_x</th>\n      <th>team_y</th>\n      <th>team_opp_next_y</th>\n      <th>date_next</th>\n    </tr>\n  </thead>\n  <tbody>\n    <tr>\n      <th>0</th>\n      <td>SAC</td>\n      <td>TOR</td>\n      <td>TOR</td>\n      <td>SAC</td>\n      <td>2015-11-15</td>\n    </tr>\n    <tr>\n      <th>1</th>\n      <td>TOR</td>\n      <td>SAC</td>\n      <td>SAC</td>\n      <td>TOR</td>\n      <td>2015-11-15</td>\n    </tr>\n    <tr>\n      <th>2</th>\n      <td>DEN</td>\n      <td>NOP</td>\n      <td>NOP</td>\n      <td>DEN</td>\n      <td>2015-11-17</td>\n    </tr>\n    <tr>\n      <th>3</th>\n      <td>ORL</td>\n      <td>MIN</td>\n      <td>MIN</td>\n      <td>ORL</td>\n      <td>2015-11-18</td>\n    </tr>\n    <tr>\n      <th>4</th>\n      <td>PHI</td>\n      <td>DAL</td>\n      <td>DAL</td>\n      <td>PHI</td>\n      <td>2015-11-16</td>\n    </tr>\n    <tr>\n      <th>...</th>\n      <td>...</td>\n      <td>...</td>\n      <td>...</td>\n      <td>...</td>\n      <td>...</td>\n    </tr>\n    <tr>\n      <th>19481</th>\n      <td>DET</td>\n      <td>PHO</td>\n      <td>PHO</td>\n      <td>DET</td>\n      <td>2024-02-14</td>\n    </tr>\n    <tr>\n      <th>19482</th>\n      <td>BRK</td>\n      <td>BOS</td>\n      <td>BOS</td>\n      <td>BRK</td>\n      <td>2024-02-14</td>\n    </tr>\n    <tr>\n      <th>19483</th>\n      <td>UTA</td>\n      <td>GSW</td>\n      <td>GSW</td>\n      <td>UTA</td>\n      <td>2024-02-15</td>\n    </tr>\n    <tr>\n      <th>19484</th>\n      <td>MEM</td>\n      <td>MIL</td>\n      <td>MIL</td>\n      <td>MEM</td>\n      <td>2024-02-15</td>\n    </tr>\n    <tr>\n      <th>19485</th>\n      <td>GSW</td>\n      <td>UTA</td>\n      <td>UTA</td>\n      <td>GSW</td>\n      <td>2024-02-15</td>\n    </tr>\n  </tbody>\n</table>\n<p>19486 rows × 5 columns</p>\n</div>"
     },
     "execution_count": 42,
     "metadata": {},
     "output_type": "execute_result"
    }
   ],
   "source": [
    "# Check if the merge worked properly\n",
    "full[[\"team_x\", \"team_opp_next_x\", \"team_y\", \"team_opp_next_y\", \"date_next\"]]"
   ]
  },
  {
   "cell_type": "code",
   "execution_count": 43,
   "id": "3636fe92",
   "metadata": {
    "ExecuteTime": {
     "end_time": "2024-03-09T03:19:10.156002200Z",
     "start_time": "2024-03-09T03:19:10.063754100Z"
    }
   },
   "outputs": [],
   "source": [
    "removed_columns = list(full.columns[full.dtypes == \"object\"]) + removed_columns"
   ]
  },
  {
   "cell_type": "code",
   "execution_count": 44,
   "id": "a6a06399",
   "metadata": {
    "ExecuteTime": {
     "end_time": "2024-03-09T03:19:10.156002200Z",
     "start_time": "2024-03-09T03:19:10.070059600Z"
    }
   },
   "outputs": [
    {
     "data": {
      "text/plain": "['team_x',\n 'team_opp',\n 'date',\n 'team_opp_next_x',\n 'date_next',\n 'team_opp_next_y',\n 'team_y',\n 'season',\n 'date',\n 'won',\n 'target',\n 'team',\n 'team_opp']"
     },
     "execution_count": 44,
     "metadata": {},
     "output_type": "execute_result"
    }
   ],
   "source": [
    "removed_columns"
   ]
  },
  {
   "cell_type": "code",
   "execution_count": 45,
   "id": "d893e85f",
   "metadata": {
    "ExecuteTime": {
     "end_time": "2024-03-09T03:19:10.184001800Z",
     "start_time": "2024-03-09T03:19:10.078988900Z"
    }
   },
   "outputs": [],
   "source": [
    "selected_columns = full.columns[~full.columns.isin(removed_columns)]"
   ]
  },
  {
   "cell_type": "code",
   "execution_count": 46,
   "id": "ea82cd54",
   "metadata": {
    "ExecuteTime": {
     "end_time": "2024-03-09T03:22:53.925451900Z",
     "start_time": "2024-03-09T03:19:10.086477300Z"
    }
   },
   "outputs": [
    {
     "data": {
      "text/plain": "SequentialFeatureSelector(cv=TimeSeriesSplit(gap=0, max_train_size=None, n_splits=3, test_size=None),\n                          estimator=RidgeClassifier(alpha=1),\n                          n_features_to_select=30)",
      "text/html": "<style>#sk-container-id-2 {\n  /* Definition of color scheme common for light and dark mode */\n  --sklearn-color-text: black;\n  --sklearn-color-line: gray;\n  /* Definition of color scheme for unfitted estimators */\n  --sklearn-color-unfitted-level-0: #fff5e6;\n  --sklearn-color-unfitted-level-1: #f6e4d2;\n  --sklearn-color-unfitted-level-2: #ffe0b3;\n  --sklearn-color-unfitted-level-3: chocolate;\n  /* Definition of color scheme for fitted estimators */\n  --sklearn-color-fitted-level-0: #f0f8ff;\n  --sklearn-color-fitted-level-1: #d4ebff;\n  --sklearn-color-fitted-level-2: #b3dbfd;\n  --sklearn-color-fitted-level-3: cornflowerblue;\n\n  /* Specific color for light theme */\n  --sklearn-color-text-on-default-background: var(--sg-text-color, var(--theme-code-foreground, var(--jp-content-font-color1, black)));\n  --sklearn-color-background: var(--sg-background-color, var(--theme-background, var(--jp-layout-color0, white)));\n  --sklearn-color-border-box: var(--sg-text-color, var(--theme-code-foreground, var(--jp-content-font-color1, black)));\n  --sklearn-color-icon: #696969;\n\n  @media (prefers-color-scheme: dark) {\n    /* Redefinition of color scheme for dark theme */\n    --sklearn-color-text-on-default-background: var(--sg-text-color, var(--theme-code-foreground, var(--jp-content-font-color1, white)));\n    --sklearn-color-background: var(--sg-background-color, var(--theme-background, var(--jp-layout-color0, #111)));\n    --sklearn-color-border-box: var(--sg-text-color, var(--theme-code-foreground, var(--jp-content-font-color1, white)));\n    --sklearn-color-icon: #878787;\n  }\n}\n\n#sk-container-id-2 {\n  color: var(--sklearn-color-text);\n}\n\n#sk-container-id-2 pre {\n  padding: 0;\n}\n\n#sk-container-id-2 input.sk-hidden--visually {\n  border: 0;\n  clip: rect(1px 1px 1px 1px);\n  clip: rect(1px, 1px, 1px, 1px);\n  height: 1px;\n  margin: -1px;\n  overflow: hidden;\n  padding: 0;\n  position: absolute;\n  width: 1px;\n}\n\n#sk-container-id-2 div.sk-dashed-wrapped {\n  border: 1px dashed var(--sklearn-color-line);\n  margin: 0 0.4em 0.5em 0.4em;\n  box-sizing: border-box;\n  padding-bottom: 0.4em;\n  background-color: var(--sklearn-color-background);\n}\n\n#sk-container-id-2 div.sk-container {\n  /* jupyter's `normalize.less` sets `[hidden] { display: none; }`\n     but bootstrap.min.css set `[hidden] { display: none !important; }`\n     so we also need the `!important` here to be able to override the\n     default hidden behavior on the sphinx rendered scikit-learn.org.\n     See: https://github.com/scikit-learn/scikit-learn/issues/21755 */\n  display: inline-block !important;\n  position: relative;\n}\n\n#sk-container-id-2 div.sk-text-repr-fallback {\n  display: none;\n}\n\ndiv.sk-parallel-item,\ndiv.sk-serial,\ndiv.sk-item {\n  /* draw centered vertical line to link estimators */\n  background-image: linear-gradient(var(--sklearn-color-text-on-default-background), var(--sklearn-color-text-on-default-background));\n  background-size: 2px 100%;\n  background-repeat: no-repeat;\n  background-position: center center;\n}\n\n/* Parallel-specific style estimator block */\n\n#sk-container-id-2 div.sk-parallel-item::after {\n  content: \"\";\n  width: 100%;\n  border-bottom: 2px solid var(--sklearn-color-text-on-default-background);\n  flex-grow: 1;\n}\n\n#sk-container-id-2 div.sk-parallel {\n  display: flex;\n  align-items: stretch;\n  justify-content: center;\n  background-color: var(--sklearn-color-background);\n  position: relative;\n}\n\n#sk-container-id-2 div.sk-parallel-item {\n  display: flex;\n  flex-direction: column;\n}\n\n#sk-container-id-2 div.sk-parallel-item:first-child::after {\n  align-self: flex-end;\n  width: 50%;\n}\n\n#sk-container-id-2 div.sk-parallel-item:last-child::after {\n  align-self: flex-start;\n  width: 50%;\n}\n\n#sk-container-id-2 div.sk-parallel-item:only-child::after {\n  width: 0;\n}\n\n/* Serial-specific style estimator block */\n\n#sk-container-id-2 div.sk-serial {\n  display: flex;\n  flex-direction: column;\n  align-items: center;\n  background-color: var(--sklearn-color-background);\n  padding-right: 1em;\n  padding-left: 1em;\n}\n\n\n/* Toggleable style: style used for estimator/Pipeline/ColumnTransformer box that is\nclickable and can be expanded/collapsed.\n- Pipeline and ColumnTransformer use this feature and define the default style\n- Estimators will overwrite some part of the style using the `sk-estimator` class\n*/\n\n/* Pipeline and ColumnTransformer style (default) */\n\n#sk-container-id-2 div.sk-toggleable {\n  /* Default theme specific background. It is overwritten whether we have a\n  specific estimator or a Pipeline/ColumnTransformer */\n  background-color: var(--sklearn-color-background);\n}\n\n/* Toggleable label */\n#sk-container-id-2 label.sk-toggleable__label {\n  cursor: pointer;\n  display: block;\n  width: 100%;\n  margin-bottom: 0;\n  padding: 0.5em;\n  box-sizing: border-box;\n  text-align: center;\n}\n\n#sk-container-id-2 label.sk-toggleable__label-arrow:before {\n  /* Arrow on the left of the label */\n  content: \"▸\";\n  float: left;\n  margin-right: 0.25em;\n  color: var(--sklearn-color-icon);\n}\n\n#sk-container-id-2 label.sk-toggleable__label-arrow:hover:before {\n  color: var(--sklearn-color-text);\n}\n\n/* Toggleable content - dropdown */\n\n#sk-container-id-2 div.sk-toggleable__content {\n  max-height: 0;\n  max-width: 0;\n  overflow: hidden;\n  text-align: left;\n  /* unfitted */\n  background-color: var(--sklearn-color-unfitted-level-0);\n}\n\n#sk-container-id-2 div.sk-toggleable__content.fitted {\n  /* fitted */\n  background-color: var(--sklearn-color-fitted-level-0);\n}\n\n#sk-container-id-2 div.sk-toggleable__content pre {\n  margin: 0.2em;\n  border-radius: 0.25em;\n  color: var(--sklearn-color-text);\n  /* unfitted */\n  background-color: var(--sklearn-color-unfitted-level-0);\n}\n\n#sk-container-id-2 div.sk-toggleable__content.fitted pre {\n  /* unfitted */\n  background-color: var(--sklearn-color-fitted-level-0);\n}\n\n#sk-container-id-2 input.sk-toggleable__control:checked~div.sk-toggleable__content {\n  /* Expand drop-down */\n  max-height: 200px;\n  max-width: 100%;\n  overflow: auto;\n}\n\n#sk-container-id-2 input.sk-toggleable__control:checked~label.sk-toggleable__label-arrow:before {\n  content: \"▾\";\n}\n\n/* Pipeline/ColumnTransformer-specific style */\n\n#sk-container-id-2 div.sk-label input.sk-toggleable__control:checked~label.sk-toggleable__label {\n  color: var(--sklearn-color-text);\n  background-color: var(--sklearn-color-unfitted-level-2);\n}\n\n#sk-container-id-2 div.sk-label.fitted input.sk-toggleable__control:checked~label.sk-toggleable__label {\n  background-color: var(--sklearn-color-fitted-level-2);\n}\n\n/* Estimator-specific style */\n\n/* Colorize estimator box */\n#sk-container-id-2 div.sk-estimator input.sk-toggleable__control:checked~label.sk-toggleable__label {\n  /* unfitted */\n  background-color: var(--sklearn-color-unfitted-level-2);\n}\n\n#sk-container-id-2 div.sk-estimator.fitted input.sk-toggleable__control:checked~label.sk-toggleable__label {\n  /* fitted */\n  background-color: var(--sklearn-color-fitted-level-2);\n}\n\n#sk-container-id-2 div.sk-label label.sk-toggleable__label,\n#sk-container-id-2 div.sk-label label {\n  /* The background is the default theme color */\n  color: var(--sklearn-color-text-on-default-background);\n}\n\n/* On hover, darken the color of the background */\n#sk-container-id-2 div.sk-label:hover label.sk-toggleable__label {\n  color: var(--sklearn-color-text);\n  background-color: var(--sklearn-color-unfitted-level-2);\n}\n\n/* Label box, darken color on hover, fitted */\n#sk-container-id-2 div.sk-label.fitted:hover label.sk-toggleable__label.fitted {\n  color: var(--sklearn-color-text);\n  background-color: var(--sklearn-color-fitted-level-2);\n}\n\n/* Estimator label */\n\n#sk-container-id-2 div.sk-label label {\n  font-family: monospace;\n  font-weight: bold;\n  display: inline-block;\n  line-height: 1.2em;\n}\n\n#sk-container-id-2 div.sk-label-container {\n  text-align: center;\n}\n\n/* Estimator-specific */\n#sk-container-id-2 div.sk-estimator {\n  font-family: monospace;\n  border: 1px dotted var(--sklearn-color-border-box);\n  border-radius: 0.25em;\n  box-sizing: border-box;\n  margin-bottom: 0.5em;\n  /* unfitted */\n  background-color: var(--sklearn-color-unfitted-level-0);\n}\n\n#sk-container-id-2 div.sk-estimator.fitted {\n  /* fitted */\n  background-color: var(--sklearn-color-fitted-level-0);\n}\n\n/* on hover */\n#sk-container-id-2 div.sk-estimator:hover {\n  /* unfitted */\n  background-color: var(--sklearn-color-unfitted-level-2);\n}\n\n#sk-container-id-2 div.sk-estimator.fitted:hover {\n  /* fitted */\n  background-color: var(--sklearn-color-fitted-level-2);\n}\n\n/* Specification for estimator info (e.g. \"i\" and \"?\") */\n\n/* Common style for \"i\" and \"?\" */\n\n.sk-estimator-doc-link,\na:link.sk-estimator-doc-link,\na:visited.sk-estimator-doc-link {\n  float: right;\n  font-size: smaller;\n  line-height: 1em;\n  font-family: monospace;\n  background-color: var(--sklearn-color-background);\n  border-radius: 1em;\n  height: 1em;\n  width: 1em;\n  text-decoration: none !important;\n  margin-left: 1ex;\n  /* unfitted */\n  border: var(--sklearn-color-unfitted-level-1) 1pt solid;\n  color: var(--sklearn-color-unfitted-level-1);\n}\n\n.sk-estimator-doc-link.fitted,\na:link.sk-estimator-doc-link.fitted,\na:visited.sk-estimator-doc-link.fitted {\n  /* fitted */\n  border: var(--sklearn-color-fitted-level-1) 1pt solid;\n  color: var(--sklearn-color-fitted-level-1);\n}\n\n/* On hover */\ndiv.sk-estimator:hover .sk-estimator-doc-link:hover,\n.sk-estimator-doc-link:hover,\ndiv.sk-label-container:hover .sk-estimator-doc-link:hover,\n.sk-estimator-doc-link:hover {\n  /* unfitted */\n  background-color: var(--sklearn-color-unfitted-level-3);\n  color: var(--sklearn-color-background);\n  text-decoration: none;\n}\n\ndiv.sk-estimator.fitted:hover .sk-estimator-doc-link.fitted:hover,\n.sk-estimator-doc-link.fitted:hover,\ndiv.sk-label-container:hover .sk-estimator-doc-link.fitted:hover,\n.sk-estimator-doc-link.fitted:hover {\n  /* fitted */\n  background-color: var(--sklearn-color-fitted-level-3);\n  color: var(--sklearn-color-background);\n  text-decoration: none;\n}\n\n/* Span, style for the box shown on hovering the info icon */\n.sk-estimator-doc-link span {\n  display: none;\n  z-index: 9999;\n  position: relative;\n  font-weight: normal;\n  right: .2ex;\n  padding: .5ex;\n  margin: .5ex;\n  width: min-content;\n  min-width: 20ex;\n  max-width: 50ex;\n  color: var(--sklearn-color-text);\n  box-shadow: 2pt 2pt 4pt #999;\n  /* unfitted */\n  background: var(--sklearn-color-unfitted-level-0);\n  border: .5pt solid var(--sklearn-color-unfitted-level-3);\n}\n\n.sk-estimator-doc-link.fitted span {\n  /* fitted */\n  background: var(--sklearn-color-fitted-level-0);\n  border: var(--sklearn-color-fitted-level-3);\n}\n\n.sk-estimator-doc-link:hover span {\n  display: block;\n}\n\n/* \"?\"-specific style due to the `<a>` HTML tag */\n\n#sk-container-id-2 a.estimator_doc_link {\n  float: right;\n  font-size: 1rem;\n  line-height: 1em;\n  font-family: monospace;\n  background-color: var(--sklearn-color-background);\n  border-radius: 1rem;\n  height: 1rem;\n  width: 1rem;\n  text-decoration: none;\n  /* unfitted */\n  color: var(--sklearn-color-unfitted-level-1);\n  border: var(--sklearn-color-unfitted-level-1) 1pt solid;\n}\n\n#sk-container-id-2 a.estimator_doc_link.fitted {\n  /* fitted */\n  border: var(--sklearn-color-fitted-level-1) 1pt solid;\n  color: var(--sklearn-color-fitted-level-1);\n}\n\n/* On hover */\n#sk-container-id-2 a.estimator_doc_link:hover {\n  /* unfitted */\n  background-color: var(--sklearn-color-unfitted-level-3);\n  color: var(--sklearn-color-background);\n  text-decoration: none;\n}\n\n#sk-container-id-2 a.estimator_doc_link.fitted:hover {\n  /* fitted */\n  background-color: var(--sklearn-color-fitted-level-3);\n}\n</style><div id=\"sk-container-id-2\" class=\"sk-top-container\"><div class=\"sk-text-repr-fallback\"><pre>SequentialFeatureSelector(cv=TimeSeriesSplit(gap=0, max_train_size=None, n_splits=3, test_size=None),\n                          estimator=RidgeClassifier(alpha=1),\n                          n_features_to_select=30)</pre><b>In a Jupyter environment, please rerun this cell to show the HTML representation or trust the notebook. <br />On GitHub, the HTML representation is unable to render, please try loading this page with nbviewer.org.</b></div><div class=\"sk-container\" hidden><div class=\"sk-item sk-dashed-wrapped\"><div class=\"sk-label-container\"><div class=\"sk-label fitted sk-toggleable\"><input class=\"sk-toggleable__control sk-hidden--visually\" id=\"sk-estimator-id-4\" type=\"checkbox\" ><label for=\"sk-estimator-id-4\" class=\"sk-toggleable__label fitted sk-toggleable__label-arrow fitted\">&nbsp;&nbsp;SequentialFeatureSelector<a class=\"sk-estimator-doc-link fitted\" rel=\"noreferrer\" target=\"_blank\" href=\"https://scikit-learn.org/1.4/modules/generated/sklearn.feature_selection.SequentialFeatureSelector.html\">?<span>Documentation for SequentialFeatureSelector</span></a><span class=\"sk-estimator-doc-link fitted\">i<span>Fitted</span></span></label><div class=\"sk-toggleable__content fitted\"><pre>SequentialFeatureSelector(cv=TimeSeriesSplit(gap=0, max_train_size=None, n_splits=3, test_size=None),\n                          estimator=RidgeClassifier(alpha=1),\n                          n_features_to_select=30)</pre></div> </div></div><div class=\"sk-parallel\"><div class=\"sk-parallel-item\"><div class=\"sk-item\"><div class=\"sk-label-container\"><div class=\"sk-label fitted sk-toggleable\"><input class=\"sk-toggleable__control sk-hidden--visually\" id=\"sk-estimator-id-5\" type=\"checkbox\" ><label for=\"sk-estimator-id-5\" class=\"sk-toggleable__label fitted sk-toggleable__label-arrow fitted\">estimator: RidgeClassifier</label><div class=\"sk-toggleable__content fitted\"><pre>RidgeClassifier(alpha=1)</pre></div> </div></div><div class=\"sk-serial\"><div class=\"sk-item\"><div class=\"sk-estimator fitted sk-toggleable\"><input class=\"sk-toggleable__control sk-hidden--visually\" id=\"sk-estimator-id-6\" type=\"checkbox\" ><label for=\"sk-estimator-id-6\" class=\"sk-toggleable__label fitted sk-toggleable__label-arrow fitted\">&nbsp;RidgeClassifier<a class=\"sk-estimator-doc-link fitted\" rel=\"noreferrer\" target=\"_blank\" href=\"https://scikit-learn.org/1.4/modules/generated/sklearn.linear_model.RidgeClassifier.html\">?<span>Documentation for RidgeClassifier</span></a></label><div class=\"sk-toggleable__content fitted\"><pre>RidgeClassifier(alpha=1)</pre></div> </div></div></div></div></div></div></div></div></div>"
     },
     "execution_count": 46,
     "metadata": {},
     "output_type": "execute_result"
    }
   ],
   "source": [
    "sfs.fit(full[selected_columns], full[\"target\"])"
   ]
  },
  {
   "cell_type": "code",
   "execution_count": 47,
   "id": "9a21325a",
   "metadata": {
    "ExecuteTime": {
     "end_time": "2024-03-09T03:22:53.934965Z",
     "start_time": "2024-03-09T03:22:53.924450100Z"
    }
   },
   "outputs": [],
   "source": [
    "predictors = list(selected_columns[sfs.get_support()])"
   ]
  },
  {
   "cell_type": "code",
   "execution_count": 48,
   "id": "416d0267",
   "metadata": {
    "ExecuteTime": {
     "end_time": "2024-03-09T03:22:54.174149300Z",
     "start_time": "2024-03-09T03:22:53.929136800Z"
    }
   },
   "outputs": [],
   "source": [
    "predictions = backtest(full, rr, predictors)"
   ]
  },
  {
   "cell_type": "code",
   "execution_count": 49,
   "id": "b87e8cd6",
   "metadata": {
    "ExecuteTime": {
     "end_time": "2024-03-09T03:22:54.183945600Z",
     "start_time": "2024-03-09T03:22:54.174149300Z"
    }
   },
   "outputs": [
    {
     "data": {
      "text/plain": "0.6360996691201296"
     },
     "execution_count": 49,
     "metadata": {},
     "output_type": "execute_result"
    }
   ],
   "source": [
    "accuracy_score(predictions[\"actual\"], predictions[\"prediction\"])"
   ]
  },
  {
   "cell_type": "code",
   "execution_count": 49,
   "id": "6a7a4787",
   "metadata": {
    "ExecuteTime": {
     "end_time": "2024-03-09T03:22:54.184947800Z",
     "start_time": "2024-03-09T03:22:54.181432400Z"
    }
   },
   "outputs": [],
   "source": []
  }
 ],
 "metadata": {
  "kernelspec": {
   "display_name": "Python 3 (ipykernel)",
   "language": "python",
   "name": "python3"
  },
  "language_info": {
   "codemirror_mode": {
    "name": "ipython",
    "version": 3
   },
   "file_extension": ".py",
   "mimetype": "text/x-python",
   "name": "python",
   "nbconvert_exporter": "python",
   "pygments_lexer": "ipython3",
   "version": "3.10.4"
  }
 },
 "nbformat": 4,
 "nbformat_minor": 5
}
